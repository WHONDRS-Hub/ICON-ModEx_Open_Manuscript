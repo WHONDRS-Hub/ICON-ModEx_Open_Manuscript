{
 "cells": [
  {
   "cell_type": "code",
   "execution_count": 2,
   "id": "9aa3c9fa-e19e-49db-8b32-bf9f2befc2d4",
   "metadata": {
    "tags": []
   },
   "outputs": [
    {
     "ename": "ERROR",
     "evalue": "Error in convert_ipynb(input, output = xfun::with_ext(input, \"Rmd\")): could not find function \"convert_ipynb\"\n",
     "output_type": "error",
     "traceback": [
      "Error in convert_ipynb(input, output = xfun::with_ext(input, \"Rmd\")): could not find function \"convert_ipynb\"\nTraceback:\n"
     ]
    }
   ],
   "source": [
    "input = \"make_scatter_plot.ipynb\"\n",
    "output = \"test\"\n",
    "convert_ipynb(input, output = xfun::with_ext(input, \"Rmd\"))"
   ]
  },
  {
   "cell_type": "code",
   "execution_count": null,
   "id": "13f871d8-856c-4bac-bd78-fa5a888be82b",
   "metadata": {},
   "outputs": [],
   "source": []
  },
  {
   "cell_type": "code",
   "execution_count": null,
   "id": "1b4e34aa-cbb6-47b3-8229-efaccad47025",
   "metadata": {},
   "outputs": [],
   "source": []
  }
 ],
 "metadata": {
  "kernelspec": {
   "display_name": "R",
   "language": "R",
   "name": "ir"
  },
  "language_info": {
   "codemirror_mode": "r",
   "file_extension": ".r",
   "mimetype": "text/x-r-source",
   "name": "R",
   "pygments_lexer": "r",
   "version": "4.3.1"
  }
 },
 "nbformat": 4,
 "nbformat_minor": 5
}
