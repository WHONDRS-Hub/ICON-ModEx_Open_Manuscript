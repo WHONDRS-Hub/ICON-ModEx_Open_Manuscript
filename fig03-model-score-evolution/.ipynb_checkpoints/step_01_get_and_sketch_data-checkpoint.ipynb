{
 "cells": [
  {
   "cell_type": "markdown",
   "id": "0318950a",
   "metadata": {},
   "source": [
    "# Assessing the ICON-ModEx ML models\n",
    "\n",
    "## How does the model score change with each ICON-ModEx iteration?\n",
    "This notebook will harvest the data from the `dynamic-learning-rivers` repository to make a plot showing the evolution of the ML models as more traininig data is added.\n",
    "\n",
    "## Important behind the scenes information\n",
    "Here, I am assuming that this notebook is running in a Linux context (e.g. pull a [container that runs a local Jupyter server](https://hub.docker.com/r/jupyter/datascience-notebook) and open the notebook therein). This code will switch branches within a repository that it downloads from GitHub to load the data for side by side comparisions. It will then delete the source repository and retain only the harvested data used for plotting. The harvested data will be saved alongside this notebook here.\n",
    "\n",
    "## Jumping between Python and R\n",
    "Working between these two languages can be done cell-by-cell (i.e. `r2py`) or, in this case, notebook by notebook by launching additional \"subnotebooks\" with `papermill`. We use the latter option here because we want a Python loop to launch a series of R tasks; this is harder to do when all the R must be in a separate cell from the Python.\n",
    "\n",
    "When installing R tidyverse into the conda environment, there are at least three options:\n",
    "1. Direct install from CRAN, e.g.:\n",
    "```\n",
    "install.packages(\"tidyverse\", repos='http://cran.us.r-project.org', quiet=FALSE, Ncpu=4)\n",
    "```\n",
    "2. Conda install from conda-forge:\n",
    "```\n",
    "conda install -c conda-forge r-tidyverse\n",
    "```\n",
    "3. Conda install from anaconda:\n",
    "```\n",
    "conda install -c anaconda r-tidyverse\n",
    "```\n",
    "As of July 2024, there are linking (not compile) errors for some of the dependencies in Option 1. Option 1, since it compiles from source, also takes a relatively long time (10's of minutes). Option 2 seemed like the best way to go since thre are many more downloads of those packages than Option 3, but there are some bugs in how the figure domain is set up and communicated to Jupyter thus impacting some plotting routines. Therefore, Option 3 is the only one that worked end-to-end. It could be that the exact version of Python and/or Jupyter that I am using conflicts with Option 2. The hashes differ on some, but not all, of the R packages installed in Options 2 and 3 (i.e. comparing them with `conda list | grep r-`)."
   ]
  },
  {
   "cell_type": "code",
   "execution_count": 1,
   "id": "496bfa85-63de-4d6d-97c4-928490aa37da",
   "metadata": {
    "tags": []
   },
   "outputs": [
    {
     "name": "stdout",
     "output_type": "stream",
     "text": [
      "Channels:\n",
      " - defaults\n",
      " - conda-forge\n",
      "Platform: linux-64\n",
      "Collecting package metadata (repodata.json): ...working... done\n",
      "Solving environment: ...working... done\n",
      "\n",
      "## Package Plan ##\n",
      "\n",
      "  environment location: /home/sfgary/pw/.miniconda3c/envs/pyr\n",
      "\n",
      "  added / updated specs:\n",
      "    - matplotlib\n",
      "    - numpy\n",
      "    - pandas\n",
      "\n",
      "\n",
      "The following packages will be downloaded:\n",
      "\n",
      "    package                    |            build\n",
      "    ---------------------------|-----------------\n",
      "    ca-certificates-2024.7.2   |       h06a4308_0         127 KB\n",
      "    certifi-2024.7.4           |  py311h06a4308_0         159 KB\n",
      "    ------------------------------------------------------------\n",
      "                                           Total:         286 KB\n",
      "\n",
      "The following packages will be UPDATED:\n",
      "\n",
      "  ca-certificates                      2024.3.11-h06a4308_0 --> 2024.7.2-h06a4308_0 \n",
      "  certifi                          2024.6.2-py311h06a4308_0 --> 2024.7.4-py311h06a4308_0 \n",
      "\n",
      "\n",
      "Preparing transaction: ...working... done\n",
      "Verifying transaction: ...working... done\n",
      "Executing transaction: ...working... done\n",
      "Channels:\n",
      " - defaults\n",
      " - conda-forge\n",
      "Platform: linux-64\n",
      "Collecting package metadata (repodata.json): ...working... done\n",
      "Solving environment: ...working... done\n",
      "\n",
      "# All requested packages already installed.\n",
      "\n",
      "Channels:\n",
      " - anaconda\n",
      " - defaults\n",
      " - conda-forge\n",
      "Platform: linux-64\n",
      "Collecting package metadata (repodata.json): ...working... done\n",
      "Solving environment: ...working... done\n",
      "\n",
      "# All requested packages already installed.\n",
      "\n",
      "Channels:\n",
      " - anaconda\n",
      " - defaults\n",
      " - conda-forge\n",
      "Platform: linux-64\n",
      "Collecting package metadata (repodata.json): ...working... done\n",
      "Solving environment: ...working... done\n",
      "\n",
      "# All requested packages already installed.\n",
      "\n"
     ]
    }
   ],
   "source": [
    "# Run once at start of notebook if these \n",
    "# packages are not already installed\n",
    "! conda install -y -q pandas numpy matplotlib\n",
    "! conda install -y -q papermill\n",
    "\n",
    "# Packages needed for R notebook\n",
    "# Conda install pulls binaries from conda-forge, much faster than\n",
    "# installing direct from CRAN (and building from source).\n",
    "# ALso, some packages have linking errors when building \n",
    "# from source.\n",
    "\n",
    "# Install packages from Conda Forge (Option 2, above)\n",
    "#! conda install -y -q -c conda-forge r-tidyverse\n",
    "#! conda install -y -q -c conda-forge r-colourpicker\n",
    "#! conda install -y -q -c conda-forge r-emmeans\n",
    "#! conda install -y -q -c conda-forge r-ggspatial\n",
    "#! conda install -y -q -c conda-forge r-spdata\n",
    "#! conda install -y -q -c conda-forge r-ggpmisc\n",
    "#! conda install -y -q -c conda-forge r-ggextra\n",
    "#! conda install -y -q -c conda-forge r-patchwork\n",
    "\n",
    "# Install packages from Anaconda (Option 3, above)\n",
    "! conda install -y -q -c anaconda r-tidyverse\n",
    "! conda install -y -q -c anaconda r-ggextra\n",
    "\n",
    "# Convert from .Rmd. Not used\n",
    "#! conda install -y -q jupytext\n",
    "\n",
    "# Get an environment definition file for reproducibility\n",
    "# (i.e. you can rebuild this environment with `conda env update --name <env_name> -f icon-modex-scatter-plot-conda-env.yaml`\n",
    "! conda env export > icon-modex-scatter-plot-conda-env.yaml"
   ]
  },
  {
   "cell_type": "code",
   "execution_count": 2,
   "id": "f2526f27",
   "metadata": {
    "tags": []
   },
   "outputs": [],
   "source": [
    "import pandas as pd\n",
    "import numpy as np\n",
    "import papermill as pm\n",
    "import matplotlib.pyplot as plt\n",
    "\n",
    "# Convert .Rmd subscript to .ipynb\n",
    "#! jupytext --to notebook make_scatter_plot.Rmd"
   ]
  },
  {
   "cell_type": "markdown",
   "id": "81ae95d7",
   "metadata": {},
   "source": [
    "## Clone source repository"
   ]
  },
  {
   "cell_type": "code",
   "execution_count": 3,
   "id": "3cc380de",
   "metadata": {
    "tags": []
   },
   "outputs": [
    {
     "name": "stdout",
     "output_type": "stream",
     "text": [
      "fatal: destination path 'dynamic-learning-rivers' already exists and is not an empty directory.\n"
     ]
    }
   ],
   "source": [
    "repo_prefix = '~/tmp/'\n",
    "repo_org='parallelworks'\n",
    "repo_name='dynamic-learning-rivers'\n",
    "repo_url = 'https://github.com/'+repo_org+'/'+repo_name\n",
    "\n",
    "! mkdir -p {repo_prefix}\n",
    "! cd {repo_prefix}; git clone {repo_url}"
   ]
  },
  {
   "cell_type": "markdown",
   "id": "1d3974b3",
   "metadata": {},
   "source": [
    "## Grab data and save to CSV\n",
    "Here we want to track the model score over ModEx iterations."
   ]
  },
  {
   "cell_type": "code",
   "execution_count": 4,
   "id": "a34ce113-6aaf-4815-a6f2-cccb2bfa3846",
   "metadata": {
    "tags": []
   },
   "outputs": [],
   "source": [
    "# Functionalize all the data preporatory steps based on the\n",
    "# branch name.\n",
    "def prep_data_on_branch(repo_prefix=repo_prefix, repo_name=repo_name, branch_name='main'):\n",
    "\n",
    "    # Change to the requested branch\n",
    "    ! cd {repo_prefix}/{repo_name}; git checkout {branch_name}\n",
    "    \n",
    "    # Create a working directory for this branch\n",
    "    ! mkdir -p ./intermediate_branch_data/{branch_name}\n",
    "    \n",
    "    # Load data we want to prepare/merge/preprocess\n",
    "    data_prefix=repo_prefix+'/'+repo_name\n",
    "    main_input = pd.read_csv(data_prefix+\"/scripts/prep_01_output_train.csv\")\n",
    "    avg_output = pd.read_csv(data_prefix+'/scripts/post_01_output_ml_predict_avg.csv')\n",
    "    std_output = pd.read_csv(data_prefix+'/scripts/post_01_output_ml_predict_std.csv')\n",
    "    \n",
    "    # Use Sample_ID as the index so files can be merged on this value\n",
    "    main_input.set_index('Sample_ID',inplace=True)\n",
    "    avg_output.set_index('Sample_ID',inplace=True)\n",
    "    std_output.set_index('Sample_ID',inplace=True)\n",
    "\n",
    "    # Merge files\n",
    "    avg_merge = pd.merge(\n",
    "        main_input,\n",
    "        avg_output, \n",
    "        left_index=True,\n",
    "        right_index=True,\n",
    "        suffixes=['_obs','_pre_avg'])\n",
    "    \n",
    "    # Add log calculations for use with R notebook\n",
    "    avg_merge['Log_Observed_Normalized_Respiration_Rate'] = np.log10(np.abs(avg_merge['Normalized_Respiration_Rate_mg_DO_per_H_per_L_sediment_obs']))\n",
    "    avg_merge['Log_Predicted_Normalized_Respiration_Rate'] = np.log10(np.abs(avg_merge['Normalized_Respiration_Rate_mg_DO_per_H_per_L_sediment_pre_avg']))\n",
    "    \n",
    "    all_merge = pd.merge(\n",
    "        avg_merge,\n",
    "        std_output, \n",
    "        left_index=True,\n",
    "        right_index=True,\n",
    "        suffixes=['','_pre_std'])\n",
    "\n",
    "    predict_and_obs_merge = pd.merge(\n",
    "        avg_output,\n",
    "        std_output,\n",
    "        left_index=True,\n",
    "        right_index=True,\n",
    "        suffixes=['_pre_avg','_pre_std'])\n",
    "    \n",
    "    # Write intermediate output files\n",
    "    # Name it the same as what the R notebook expects...\n",
    "    avg_merge.to_csv('intermediate_branch_data/'+branch_name+'/ICON-ModEx_Combined_Predicted_Observed_Respiration_Rates.csv',mode='w')\n",
    "    all_merge.to_csv('intermediate_branch_data/'+branch_name+'/output_obs_avgpre_stdpre_merged.csv',mode='w')\n",
    "    predict_and_obs_merge.to_csv('intermediate_branch_data/'+branch_name+'/output_all_sites_avgpre_stdpre_merged.csv',mode='w')\n"
   ]
  },
  {
   "cell_type": "code",
   "execution_count": 5,
   "id": "325fb9ef",
   "metadata": {
    "tags": []
   },
   "outputs": [
    {
     "name": "stdout",
     "output_type": "stream",
     "text": [
      "Updating files: 100% (369/369), done.\n",
      "branch 'Dec-2021' set up to track 'origin/Dec-2021'.\n",
      "Switched to a new branch 'Dec-2021'\n",
      "Switched to branch 'Jul-2022'\n",
      "Your branch is up to date with 'origin/Jul-2022'.\n",
      "Updating files: 100% (185/185), done.\n",
      "Switched to branch 'Aug-2022'\n",
      "Your branch is up to date with 'origin/Aug-2022'.\n",
      "Updating files: 100% (185/185), done.\n",
      "Switched to branch 'Sep-2022'\n",
      "Your branch is up to date with 'origin/Sep-2022'.\n",
      "Updating files: 100% (185/185), done.\n",
      "Switched to branch 'Oct-2022'\n",
      "Your branch is up to date with 'origin/Oct-2022'.\n",
      "Switched to branch 'Nov-2022'\n",
      "Your branch is up to date with 'origin/Nov-2022'.\n",
      "Switched to branch 'Dec-2022'\n",
      "Your branch is up to date with 'origin/Dec-2022'.\n",
      "Updating files: 100% (185/185), done.\n",
      "Switched to branch 'Jan-2023'\n",
      "Your branch is up to date with 'origin/Jan-2023'.\n",
      "Switched to branch 'Feb-2023'\n",
      "Your branch is up to date with 'origin/Feb-2023'.\n",
      "Updating files: 100% (185/185), done.\n",
      "Switched to branch 'Mar-2023'\n",
      "Your branch is up to date with 'origin/Mar-2023'.\n",
      "Switched to branch 'ICON-ModEx-v2.1-April-2023-replicate-01'\n",
      "Your branch is up to date with 'origin/ICON-ModEx-v2.1-April-2023-replicate-01'.\n",
      "Updating files: 100% (139/139), done.\n",
      "Switched to branch 'ICON-ModEx-v2.1-April-2023-replicate-02'\n",
      "Your branch is up to date with 'origin/ICON-ModEx-v2.1-April-2023-replicate-02'.\n",
      "Updating files: 100% (197/197), done.\n",
      "Switched to branch 'May-2023'\n",
      "Your branch is up to date with 'origin/May-2023'.\n",
      "Switched to branch 'June-2023'\n",
      "Your branch is up to date with 'origin/June-2023'.\n",
      "Switched to branch 'Jul-2023'\n",
      "Your branch is up to date with 'origin/Jul-2023'.\n",
      "Updating files: 100% (259/259), done.\n",
      "Switched to branch 'August-2023'\n",
      "Your branch is up to date with 'origin/August-2023'.\n",
      "Updating files: 100% (272/272), done.\n",
      "Switched to branch 'Sep-2023'\n",
      "Your branch is up to date with 'origin/Sep-2023'.\n",
      "Updating files: 100% (280/280), done.\n",
      "Switched to branch 'Oct-2023'\n",
      "Your branch is up to date with 'origin/Oct-2023'.\n",
      "Updating files: 100% (289/289), done.\n",
      "Switched to branch 'Nov-2023'\n",
      "Your branch is up to date with 'origin/Nov-2023'.\n",
      "Updating files: 100% (399/399), done.\n",
      "Switched to branch 'Dec-2021-log10'\n",
      "Your branch is up to date with 'origin/Dec-2021-log10'.\n"
     ]
    },
    {
     "name": "stderr",
     "output_type": "stream",
     "text": [
      "Translator for 'R' language does not support parameter introspection.\n",
      "Passed unknown parameter: work_dir\n"
     ]
    },
    {
     "data": {
      "application/vnd.jupyter.widget-view+json": {
       "model_id": "06d52d57a285473e9033a74545108fe8",
       "version_major": 2,
       "version_minor": 0
      },
      "text/plain": [
       "Executing:   0%|          | 0/13 [00:00<?, ?cell/s]"
      ]
     },
     "metadata": {},
     "output_type": "display_data"
    },
    {
     "name": "stderr",
     "output_type": "stream",
     "text": [
      "\n",
      "Execution halted\n"
     ]
    },
    {
     "name": "stdout",
     "output_type": "stream",
     "text": [
      "Updating files: 100% (327/327), done.\n",
      "Switched to branch 'Sep-2019-log10'\n",
      "Your branch is up to date with 'origin/Sep-2019-log10'.\n"
     ]
    },
    {
     "name": "stderr",
     "output_type": "stream",
     "text": [
      "Translator for 'R' language does not support parameter introspection.\n",
      "Passed unknown parameter: work_dir\n"
     ]
    },
    {
     "data": {
      "application/vnd.jupyter.widget-view+json": {
       "model_id": "5b1a1b7dc2e2468691bfff9612dfc45f",
       "version_major": 2,
       "version_minor": 0
      },
      "text/plain": [
       "Executing:   0%|          | 0/13 [00:00<?, ?cell/s]"
      ]
     },
     "metadata": {},
     "output_type": "display_data"
    },
    {
     "name": "stderr",
     "output_type": "stream",
     "text": [
      "\n",
      "Execution halted\n"
     ]
    },
    {
     "name": "stdout",
     "output_type": "stream",
     "text": [
      "Updating files: 100% (344/344), done.\n",
      "Switched to branch 'Jul-2022-log10'\n",
      "Your branch is up to date with 'origin/Jul-2022-log10'.\n"
     ]
    },
    {
     "name": "stderr",
     "output_type": "stream",
     "text": [
      "Translator for 'R' language does not support parameter introspection.\n",
      "Passed unknown parameter: work_dir\n"
     ]
    },
    {
     "data": {
      "application/vnd.jupyter.widget-view+json": {
       "model_id": "aa7249bcd2bb43f08e2e836a2fa6efce",
       "version_major": 2,
       "version_minor": 0
      },
      "text/plain": [
       "Executing:   0%|          | 0/13 [00:00<?, ?cell/s]"
      ]
     },
     "metadata": {},
     "output_type": "display_data"
    },
    {
     "name": "stderr",
     "output_type": "stream",
     "text": [
      "\n",
      "Execution halted\n"
     ]
    },
    {
     "name": "stdout",
     "output_type": "stream",
     "text": [
      "Switched to branch 'Aug-2022-log10'\n",
      "Your branch is up to date with 'origin/Aug-2022-log10'.\n"
     ]
    },
    {
     "name": "stderr",
     "output_type": "stream",
     "text": [
      "Translator for 'R' language does not support parameter introspection.\n",
      "Passed unknown parameter: work_dir\n"
     ]
    },
    {
     "data": {
      "application/vnd.jupyter.widget-view+json": {
       "model_id": "009b60c702834d1e980ba87289d0cf7d",
       "version_major": 2,
       "version_minor": 0
      },
      "text/plain": [
       "Executing:   0%|          | 0/13 [00:00<?, ?cell/s]"
      ]
     },
     "metadata": {},
     "output_type": "display_data"
    },
    {
     "name": "stderr",
     "output_type": "stream",
     "text": [
      "\n",
      "Execution halted\n"
     ]
    },
    {
     "name": "stdout",
     "output_type": "stream",
     "text": [
      "Updating files: 100% (299/299), done.\n",
      "Switched to branch 'Sep-2022-log10'\n",
      "Your branch is up to date with 'origin/Sep-2022-log10'.\n"
     ]
    },
    {
     "name": "stderr",
     "output_type": "stream",
     "text": [
      "Translator for 'R' language does not support parameter introspection.\n",
      "Passed unknown parameter: work_dir\n"
     ]
    },
    {
     "data": {
      "application/vnd.jupyter.widget-view+json": {
       "model_id": "7ea534208453493bb20d7b530ee8d151",
       "version_major": 2,
       "version_minor": 0
      },
      "text/plain": [
       "Executing:   0%|          | 0/13 [00:00<?, ?cell/s]"
      ]
     },
     "metadata": {},
     "output_type": "display_data"
    },
    {
     "name": "stdout",
     "output_type": "stream",
     "text": [
      "Updating files: 100% (299/299), done.\n",
      "Switched to branch 'Oct-2022-log10'\n",
      "Your branch is up to date with 'origin/Oct-2022-log10'.\n"
     ]
    },
    {
     "name": "stderr",
     "output_type": "stream",
     "text": [
      "Translator for 'R' language does not support parameter introspection.\n",
      "Passed unknown parameter: work_dir\n"
     ]
    },
    {
     "data": {
      "application/vnd.jupyter.widget-view+json": {
       "model_id": "b93fda7c4a3a410987ca97c40668e602",
       "version_major": 2,
       "version_minor": 0
      },
      "text/plain": [
       "Executing:   0%|          | 0/13 [00:00<?, ?cell/s]"
      ]
     },
     "metadata": {},
     "output_type": "display_data"
    },
    {
     "name": "stderr",
     "output_type": "stream",
     "text": [
      "\n",
      "Execution halted\n"
     ]
    },
    {
     "name": "stdout",
     "output_type": "stream",
     "text": [
      "Switched to branch 'Nov-2022-log10'\n",
      "Your branch is up to date with 'origin/Nov-2022-log10'.\n"
     ]
    },
    {
     "name": "stderr",
     "output_type": "stream",
     "text": [
      "Translator for 'R' language does not support parameter introspection.\n",
      "Passed unknown parameter: work_dir\n"
     ]
    },
    {
     "data": {
      "application/vnd.jupyter.widget-view+json": {
       "model_id": "63ad3ee2c50749379efaa786bc7556c0",
       "version_major": 2,
       "version_minor": 0
      },
      "text/plain": [
       "Executing:   0%|          | 0/13 [00:00<?, ?cell/s]"
      ]
     },
     "metadata": {},
     "output_type": "display_data"
    },
    {
     "name": "stderr",
     "output_type": "stream",
     "text": [
      "\n",
      "Execution halted\n"
     ]
    },
    {
     "name": "stdout",
     "output_type": "stream",
     "text": [
      "Switched to branch 'Dec-2022-log10'\n",
      "Your branch is up to date with 'origin/Dec-2022-log10'.\n"
     ]
    },
    {
     "name": "stderr",
     "output_type": "stream",
     "text": [
      "Translator for 'R' language does not support parameter introspection.\n",
      "Passed unknown parameter: work_dir\n"
     ]
    },
    {
     "data": {
      "application/vnd.jupyter.widget-view+json": {
       "model_id": "f252894658f846e5915f1be173eee3b8",
       "version_major": 2,
       "version_minor": 0
      },
      "text/plain": [
       "Executing:   0%|          | 0/13 [00:00<?, ?cell/s]"
      ]
     },
     "metadata": {},
     "output_type": "display_data"
    },
    {
     "name": "stderr",
     "output_type": "stream",
     "text": [
      "\n",
      "Execution halted\n"
     ]
    },
    {
     "name": "stdout",
     "output_type": "stream",
     "text": [
      "Switched to branch 'Jan-2023-log10'\n",
      "Your branch is up to date with 'origin/Jan-2023-log10'.\n"
     ]
    },
    {
     "name": "stderr",
     "output_type": "stream",
     "text": [
      "Translator for 'R' language does not support parameter introspection.\n",
      "Passed unknown parameter: work_dir\n"
     ]
    },
    {
     "data": {
      "application/vnd.jupyter.widget-view+json": {
       "model_id": "4680ac92b96b4ab18185f5416b54c57f",
       "version_major": 2,
       "version_minor": 0
      },
      "text/plain": [
       "Executing:   0%|          | 0/13 [00:00<?, ?cell/s]"
      ]
     },
     "metadata": {},
     "output_type": "display_data"
    },
    {
     "name": "stderr",
     "output_type": "stream",
     "text": [
      "\n",
      "Execution halted\n"
     ]
    },
    {
     "name": "stdout",
     "output_type": "stream",
     "text": [
      "Updating files: 100% (299/299), done.\n",
      "Switched to branch 'Feb-2023-log10'\n",
      "Your branch is up to date with 'origin/Feb-2023-log10'.\n"
     ]
    },
    {
     "name": "stderr",
     "output_type": "stream",
     "text": [
      "Translator for 'R' language does not support parameter introspection.\n",
      "Passed unknown parameter: work_dir\n"
     ]
    },
    {
     "data": {
      "application/vnd.jupyter.widget-view+json": {
       "model_id": "a0b38bde78764246a27da729e368307e",
       "version_major": 2,
       "version_minor": 0
      },
      "text/plain": [
       "Executing:   0%|          | 0/13 [00:00<?, ?cell/s]"
      ]
     },
     "metadata": {},
     "output_type": "display_data"
    },
    {
     "name": "stderr",
     "output_type": "stream",
     "text": [
      "\n",
      "Execution halted\n"
     ]
    },
    {
     "name": "stdout",
     "output_type": "stream",
     "text": [
      "Switched to branch 'Mar-2023-log10'\n",
      "Your branch is up to date with 'origin/Mar-2023-log10'.\n"
     ]
    },
    {
     "name": "stderr",
     "output_type": "stream",
     "text": [
      "Translator for 'R' language does not support parameter introspection.\n",
      "Passed unknown parameter: work_dir\n"
     ]
    },
    {
     "data": {
      "application/vnd.jupyter.widget-view+json": {
       "model_id": "4aa406c771de45d581d291d1bab865d7",
       "version_major": 2,
       "version_minor": 0
      },
      "text/plain": [
       "Executing:   0%|          | 0/13 [00:00<?, ?cell/s]"
      ]
     },
     "metadata": {},
     "output_type": "display_data"
    },
    {
     "name": "stderr",
     "output_type": "stream",
     "text": [
      "\n",
      "Execution halted\n"
     ]
    },
    {
     "name": "stdout",
     "output_type": "stream",
     "text": [
      "Updating files: 100% (299/299), done.\n",
      "Switched to branch 'Apr-2023-log10'\n",
      "Your branch is up to date with 'origin/Apr-2023-log10'.\n"
     ]
    },
    {
     "name": "stderr",
     "output_type": "stream",
     "text": [
      "Translator for 'R' language does not support parameter introspection.\n",
      "Passed unknown parameter: work_dir\n"
     ]
    },
    {
     "data": {
      "application/vnd.jupyter.widget-view+json": {
       "model_id": "53b8073da19f42bbaa3fae7c4374e682",
       "version_major": 2,
       "version_minor": 0
      },
      "text/plain": [
       "Executing:   0%|          | 0/13 [00:00<?, ?cell/s]"
      ]
     },
     "metadata": {},
     "output_type": "display_data"
    },
    {
     "name": "stderr",
     "output_type": "stream",
     "text": [
      "\n",
      "Execution halted\n"
     ]
    },
    {
     "name": "stdout",
     "output_type": "stream",
     "text": [
      "Switched to branch 'May-2023-log10'\n",
      "Your branch is up to date with 'origin/May-2023-log10'.\n"
     ]
    },
    {
     "name": "stderr",
     "output_type": "stream",
     "text": [
      "Translator for 'R' language does not support parameter introspection.\n",
      "Passed unknown parameter: work_dir\n"
     ]
    },
    {
     "data": {
      "application/vnd.jupyter.widget-view+json": {
       "model_id": "6766855bc3bc432a8049286a68af1e13",
       "version_major": 2,
       "version_minor": 0
      },
      "text/plain": [
       "Executing:   0%|          | 0/13 [00:00<?, ?cell/s]"
      ]
     },
     "metadata": {},
     "output_type": "display_data"
    },
    {
     "name": "stderr",
     "output_type": "stream",
     "text": [
      "\n",
      "Execution halted\n"
     ]
    },
    {
     "name": "stdout",
     "output_type": "stream",
     "text": [
      "Switched to branch 'June-2023-log10'\n",
      "Your branch is up to date with 'origin/June-2023-log10'.\n"
     ]
    },
    {
     "name": "stderr",
     "output_type": "stream",
     "text": [
      "Translator for 'R' language does not support parameter introspection.\n",
      "Passed unknown parameter: work_dir\n"
     ]
    },
    {
     "data": {
      "application/vnd.jupyter.widget-view+json": {
       "model_id": "51cd7a84ce91467f85c4189e3d7062da",
       "version_major": 2,
       "version_minor": 0
      },
      "text/plain": [
       "Executing:   0%|          | 0/13 [00:00<?, ?cell/s]"
      ]
     },
     "metadata": {},
     "output_type": "display_data"
    },
    {
     "name": "stderr",
     "output_type": "stream",
     "text": [
      "\n",
      "Execution halted\n"
     ]
    },
    {
     "name": "stdout",
     "output_type": "stream",
     "text": [
      "Updating files: 100% (299/299), done.\n",
      "Switched to branch 'Jul-2023-log10'\n",
      "Your branch is up to date with 'origin/Jul-2023-log10'.\n"
     ]
    },
    {
     "name": "stderr",
     "output_type": "stream",
     "text": [
      "Translator for 'R' language does not support parameter introspection.\n",
      "Passed unknown parameter: work_dir\n"
     ]
    },
    {
     "data": {
      "application/vnd.jupyter.widget-view+json": {
       "model_id": "b296943685084c1abb3477b075d58753",
       "version_major": 2,
       "version_minor": 0
      },
      "text/plain": [
       "Executing:   0%|          | 0/13 [00:00<?, ?cell/s]"
      ]
     },
     "metadata": {},
     "output_type": "display_data"
    },
    {
     "name": "stderr",
     "output_type": "stream",
     "text": [
      "\n",
      "Execution halted\n"
     ]
    },
    {
     "name": "stdout",
     "output_type": "stream",
     "text": [
      "Updating files: 100% (299/299), done.\n",
      "Switched to branch 'August-2023-log10'\n",
      "Your branch is up to date with 'origin/August-2023-log10'.\n"
     ]
    },
    {
     "name": "stderr",
     "output_type": "stream",
     "text": [
      "Translator for 'R' language does not support parameter introspection.\n",
      "Passed unknown parameter: work_dir\n"
     ]
    },
    {
     "data": {
      "application/vnd.jupyter.widget-view+json": {
       "model_id": "245fb19a31cf47baae7ef9558d9645db",
       "version_major": 2,
       "version_minor": 0
      },
      "text/plain": [
       "Executing:   0%|          | 0/13 [00:00<?, ?cell/s]"
      ]
     },
     "metadata": {},
     "output_type": "display_data"
    },
    {
     "name": "stderr",
     "output_type": "stream",
     "text": [
      "\n",
      "Execution halted\n"
     ]
    },
    {
     "name": "stdout",
     "output_type": "stream",
     "text": [
      "Switched to branch 'Sep-2023-log10'\n",
      "Your branch is up to date with 'origin/Sep-2023-log10'.\n"
     ]
    },
    {
     "name": "stderr",
     "output_type": "stream",
     "text": [
      "Translator for 'R' language does not support parameter introspection.\n",
      "Passed unknown parameter: work_dir\n"
     ]
    },
    {
     "data": {
      "application/vnd.jupyter.widget-view+json": {
       "model_id": "109fd4dbcc9949e69f8a67101a776122",
       "version_major": 2,
       "version_minor": 0
      },
      "text/plain": [
       "Executing:   0%|          | 0/13 [00:00<?, ?cell/s]"
      ]
     },
     "metadata": {},
     "output_type": "display_data"
    },
    {
     "name": "stderr",
     "output_type": "stream",
     "text": [
      "\n",
      "Execution halted\n"
     ]
    },
    {
     "name": "stdout",
     "output_type": "stream",
     "text": [
      "Updating files: 100% (299/299), done.\n",
      "Switched to branch 'Oct-2023-log10'\n",
      "Your branch is up to date with 'origin/Oct-2023-log10'.\n"
     ]
    },
    {
     "name": "stderr",
     "output_type": "stream",
     "text": [
      "Translator for 'R' language does not support parameter introspection.\n",
      "Passed unknown parameter: work_dir\n"
     ]
    },
    {
     "data": {
      "application/vnd.jupyter.widget-view+json": {
       "model_id": "458e9630db554ae6b91752b0d5a78e29",
       "version_major": 2,
       "version_minor": 0
      },
      "text/plain": [
       "Executing:   0%|          | 0/13 [00:00<?, ?cell/s]"
      ]
     },
     "metadata": {},
     "output_type": "display_data"
    },
    {
     "name": "stderr",
     "output_type": "stream",
     "text": [
      "\n",
      "Execution halted\n"
     ]
    },
    {
     "name": "stdout",
     "output_type": "stream",
     "text": [
      "Updating files: 100% (356/356), done.\n",
      "Switched to branch 'Nov-2023-log10'\n",
      "Your branch is up to date with 'origin/Nov-2023-log10'.\n"
     ]
    },
    {
     "name": "stderr",
     "output_type": "stream",
     "text": [
      "Translator for 'R' language does not support parameter introspection.\n",
      "Passed unknown parameter: work_dir\n"
     ]
    },
    {
     "data": {
      "application/vnd.jupyter.widget-view+json": {
       "model_id": "a93baba7c14e4f2ab8a440190216a168",
       "version_major": 2,
       "version_minor": 0
      },
      "text/plain": [
       "Executing:   0%|          | 0/13 [00:00<?, ?cell/s]"
      ]
     },
     "metadata": {},
     "output_type": "display_data"
    },
    {
     "name": "stderr",
     "output_type": "stream",
     "text": [
      "\n",
      "Execution halted\n"
     ]
    },
    {
     "name": "stdout",
     "output_type": "stream",
     "text": [
      "Updating files: 100% (384/384), done.\n",
      "Switched to branch 'Nov-2023-log10-DO-update-correct'\n",
      "Your branch is up to date with 'origin/Nov-2023-log10-DO-update-correct'.\n"
     ]
    },
    {
     "name": "stderr",
     "output_type": "stream",
     "text": [
      "Translator for 'R' language does not support parameter introspection.\n",
      "Passed unknown parameter: work_dir\n"
     ]
    },
    {
     "data": {
      "application/vnd.jupyter.widget-view+json": {
       "model_id": "dc4d7043cb8740959e668aa6ddcc274d",
       "version_major": 2,
       "version_minor": 0
      },
      "text/plain": [
       "Executing:   0%|          | 0/13 [00:00<?, ?cell/s]"
      ]
     },
     "metadata": {},
     "output_type": "display_data"
    },
    {
     "name": "stderr",
     "output_type": "stream",
     "text": [
      "\n",
      "Execution halted\n"
     ]
    }
   ],
   "source": [
    "# Start from fresh! Delete any .csv files that may already be here\n",
    "!rm -f ICON-ModEx_automated_iterations.csv\n",
    "\n",
    "# List the branches we want to work with\n",
    "list_branches_scale = [\n",
    "    'Dec-2021',\n",
    "    'Jul-2022',\n",
    "    'Aug-2022',\n",
    "    'Sep-2022',\n",
    "    'Oct-2022',\n",
    "    'Nov-2022',\n",
    "    'Dec-2022',\n",
    "    'Jan-2023',\n",
    "    'Feb-2023',\n",
    "    'Mar-2023',\n",
    "    'ICON-ModEx-v2.1-April-2023-replicate-01',\n",
    "    'ICON-ModEx-v2.1-April-2023-replicate-02',\n",
    "    'May-2023',\n",
    "    'June-2023',\n",
    "    'Jul-2023',\n",
    "    'August-2023',\n",
    "    'Sep-2023',\n",
    "    'Oct-2023',\n",
    "    'Nov-2023']\n",
    "\n",
    "list_branches_log10 = [\n",
    "    'Dec-2021-log10',\n",
    "    'Sep-2019-log10',\n",
    "    'Jul-2022-log10',\n",
    "    'Aug-2022-log10',\n",
    "    'Sep-2022-log10',\n",
    "    'Oct-2022-log10',\n",
    "    'Nov-2022-log10',\n",
    "    'Dec-2022-log10',\n",
    "    'Jan-2023-log10',\n",
    "    'Feb-2023-log10',\n",
    "    'Mar-2023-log10',\n",
    "    'Apr-2023-log10',\n",
    "    'May-2023-log10',\n",
    "    'June-2023-log10',\n",
    "    'Jul-2023-log10',\n",
    "    'August-2023-log10',\n",
    "    'Sep-2023-log10',\n",
    "    'Oct-2023-log10',\n",
    "    'Nov-2023-log10',\n",
    "    'Nov-2023-log10-DO-update-correct']\n",
    "\n",
    "# Initialize empty dataframes\n",
    "icon_modex_log10 = pd.DataFrame(columns=['hold-out-avg','hold-out-std','ntrain'])\n",
    "icon_modex_scale = pd.DataFrame(columns=['hold-out-avg','hold-out-std','ntrain'])\n",
    "\n",
    "#=======================================\n",
    "# Gather data over the standard branches\n",
    "#=======================================\n",
    "for bb,branch in enumerate(list_branches_scale):\n",
    "    \n",
    "    # Change to the requested branch\n",
    "    # We do not need to prep_data_on_branch for the non-log10 branches\n",
    "    # since we are not plotting the animation of the scatter \n",
    "    #prep_data_on_branch(repo_prefix=repo_prefix, repo_name=repo_name, branch_name=branch)\n",
    "    !cd {repo_prefix}/{repo_name}; git checkout {branch}\n",
    "    \n",
    "    # We want to get the mean and std of the score and plot that vs the number of inputs to train.\n",
    "    # Each dot will be an ICON-ModEx iteration.\n",
    "    \n",
    "    # This file summarizes the holdout score for all the\n",
    "    # Superlearners for each ICON-ModEx iteration.\n",
    "    holdout_score = pd.read_csv(\n",
    "        repo_prefix+'/'+repo_name+'/output_data/holdout_score.txt', \n",
    "        sep=':', \n",
    "        names=['Value','Number'], \n",
    "        index_col='Value' )\n",
    "    #holdout_score = pd.read_csv(repo+'/output_data/holdout_score.txt', sep=':')\n",
    "    \n",
    "    # This file lists the total number of data available\n",
    "    # (of which 25% is split to the testing set)\n",
    "    # Some of these points are dropped during training due to\n",
    "    # missing values. A better measure of the actual number of\n",
    "    # data points used to train the models is in the \n",
    "    # alternative file which is present after all the \n",
    "    # preprocessing steps are completed.\n",
    "    # RAW INPUT\n",
    "    #input_data = pd.read_csv(repo+'/input_data/ICON-ModEx_Data.csv')\n",
    "    # PREPROCESSED INPUT\n",
    "    input_data = pd.read_csv(repo_prefix+'/'+repo_name+'/scripts/prep_06_output_final_train.csv')\n",
    "    \n",
    "    icon_modex_scale.loc[len(icon_modex_scale.index)] = [\n",
    "        holdout_score.loc['Avg',:].values[0],\n",
    "        holdout_score.loc['Std',:].values[0],\n",
    "        len(input_data.index)\n",
    "    ]\n",
    "    \n",
    "    # We could also grab the histogram of CONUS predictions to \n",
    "    # check for an evolution of bias over time\n",
    "    # Grab code from the Figure-2 harvestor notebook if needed.    \n",
    "\n",
    "#=====================================\n",
    "# Gather data over the -log10 branches\n",
    "#=====================================\n",
    "for bb,branch in enumerate(list_branches_log10):\n",
    "    \n",
    "    # Change to the requested branch\n",
    "    prep_data_on_branch(repo_prefix=repo_prefix, repo_name=repo_name, branch_name=branch)\n",
    "    #!cd {repo_prefix}/{repo_name}; git checkout {branch}\n",
    "    \n",
    "    # We want to get the mean and std of the score and plot that vs the number of inputs to train.\n",
    "    # Each dot will be an ICON-ModEx iteration.\n",
    "    \n",
    "    # This file summarizes the holdout score for all the\n",
    "    # Superlearners for each ICON-ModEx iteration.\n",
    "    holdout_score = pd.read_csv(\n",
    "        repo_prefix+'/'+repo_name+'/output_data/holdout_score.txt', \n",
    "        sep=':', \n",
    "        names=['Value','Number'], \n",
    "        index_col='Value' )\n",
    "    #holdout_score = pd.read_csv(repo+'/output_data/holdout_score.txt', sep=':')\n",
    "    \n",
    "    # This file lists the total number of data available\n",
    "    # (of which 25% is split to the testing set)\n",
    "    # RAW INPUT (see note above)\n",
    "    #input_data = pd.read_csv(repo+'/input_data/ICON-ModEx_Data.csv')\n",
    "    # PREPROCESSED INPUT\n",
    "    input_data = pd.read_csv(repo_prefix+'/'+repo_name+'/scripts/prep_06_output_final_train.csv')\n",
    "    \n",
    "    icon_modex_log10.loc[len(icon_modex_log10.index)] = [\n",
    "        holdout_score.loc['Avg',:].values[0],\n",
    "        holdout_score.loc['Std',:].values[0],\n",
    "        len(input_data.index)\n",
    "    ]\n",
    "    \n",
    "    # We could also grab the histogram of CONUS predictions to check for an evolution of bias over time\n",
    "    # Grab code from the Figure-2 harvestor notebook if needed.\n",
    "    # Use Papermill to launch a notebook\n",
    "    # To list available kernels,\n",
    "    #   jupyter kernelspec list\n",
    "    # The working directory was created by prep_data_on_branch\n",
    "    # The first R kernel execution takes a few extra minutes as\n",
    "    # necessary R packages are installed on-the-fly during the \n",
    "    # first execution of the notebook (but subsequent reruns with\n",
    "    # the same kernel do not need to reinstall).\n",
    "    # Wrap this in try: except: because R-plotting raises an error\n",
    "    # after the plot is made (probably a bounding box issue?)\n",
    "    # that we can ignore.\n",
    "    try:\n",
    "        pm.execute_notebook(\n",
    "            'make_scatter_plot.ipynb',\n",
    "            'log_scatter_plot.ipynb',\n",
    "            parameters=dict(work_dir='./intermediate_branch_data/'+branch),\n",
    "            kernel_name='ir'\n",
    "        )\n",
    "    except:\n",
    "        print('Caught error in notebook. Keep going...')\n",
    "\n",
    "# Save the intermediate results for reproducibility and\n",
    "# offline plotting\n"
   ]
  },
  {
   "cell_type": "code",
   "execution_count": 6,
   "id": "abd1c6f2-888a-46db-a984-c44ccedfd59f",
   "metadata": {
    "tags": []
   },
   "outputs": [
    {
     "name": "stdout",
     "output_type": "stream",
     "text": [
      "'./tmp_100.png' -> 'intermediate_branch_data/Dec-2021-log10/scatter.png'\n",
      "'./tmp_101.png' -> 'intermediate_branch_data/Sep-2019-log10/scatter.png'\n",
      "'./tmp_102.png' -> 'intermediate_branch_data/Jul-2022-log10/scatter.png'\n",
      "'./tmp_103.png' -> 'intermediate_branch_data/Aug-2022-log10/scatter.png'\n",
      "'./tmp_104.png' -> 'intermediate_branch_data/Sep-2022-log10/scatter.png'\n",
      "'./tmp_105.png' -> 'intermediate_branch_data/Oct-2022-log10/scatter.png'\n",
      "'./tmp_106.png' -> 'intermediate_branch_data/Nov-2022-log10/scatter.png'\n",
      "'./tmp_107.png' -> 'intermediate_branch_data/Dec-2022-log10/scatter.png'\n",
      "'./tmp_108.png' -> 'intermediate_branch_data/Jan-2023-log10/scatter.png'\n",
      "'./tmp_109.png' -> 'intermediate_branch_data/Feb-2023-log10/scatter.png'\n",
      "'./tmp_110.png' -> 'intermediate_branch_data/Mar-2023-log10/scatter.png'\n",
      "'./tmp_111.png' -> 'intermediate_branch_data/Apr-2023-log10/scatter.png'\n",
      "'./tmp_112.png' -> 'intermediate_branch_data/May-2023-log10/scatter.png'\n",
      "'./tmp_113.png' -> 'intermediate_branch_data/June-2023-log10/scatter.png'\n",
      "'./tmp_114.png' -> 'intermediate_branch_data/Jul-2023-log10/scatter.png'\n",
      "'./tmp_115.png' -> 'intermediate_branch_data/August-2023-log10/scatter.png'\n",
      "'./tmp_116.png' -> 'intermediate_branch_data/Sep-2023-log10/scatter.png'\n",
      "'./tmp_117.png' -> 'intermediate_branch_data/Oct-2023-log10/scatter.png'\n",
      "'./tmp_118.png' -> 'intermediate_branch_data/Nov-2023-log10/scatter.png'\n",
      "'./tmp_119.png' -> 'intermediate_branch_data/Nov-2023-log10-DO-update-correct/scatter.png'\n"
     ]
    }
   ],
   "source": [
    "# Example with high resolution images\n",
    "#! convert -size 1080x1080 -delay 2 -loop 0 *.png output.gif\n",
    "\n",
    "# Can't use wildcard this b/c lists files alphabetically (i.e. by month \n",
    "# name, not month order).\n",
    "#! convert -delay 2 -loop 0 intermediate_branch_data/*/*.png scatter.gif\n",
    "\n",
    "# Let's just manually prescribe the order since it's not that many \n",
    "# and there are some special cases. Make a temporary symbolic link\n",
    "# to each file locally and name the links so that they go in the\n",
    "# exact order of the ModEx iterations. Then, create the animation\n",
    "# with convert and delete the symbolic links.\n",
    "for bb,branch in enumerate(list_branches_log10):\n",
    "    cc = bb + 100\n",
    "    ! ln -sv intermediate_branch_data/{branch}/scatter.png ./tmp_{cc}.png\n",
    "    \n",
    "! convert -delay 100 -loop 0 tmp_*.png scatter.gif\n",
    "! rm -f tmp_*.png"
   ]
  },
  {
   "cell_type": "markdown",
   "id": "b679564c",
   "metadata": {},
   "source": [
    "# Load and plot data"
   ]
  },
  {
   "cell_type": "code",
   "execution_count": 7,
   "id": "8b7d3155",
   "metadata": {
    "tags": []
   },
   "outputs": [
    {
     "data": {
      "image/png": "[encoded data removed]",
      "text/plain": [
       "<Figure size 640x480 with 1 Axes>"
      ]
     },
     "metadata": {},
     "output_type": "display_data"
    }
   ],
   "source": [
    "icon_modex_manual = pd.read_csv('ICON-ModEx_manual_iterations.csv')\n",
    "\n",
    "# These iterations are the very first automated iterations\n",
    "# presented at AGU2022. They were done in a \"hindcast mode\"\n",
    "# to be able to compare to the manual iterations.\n",
    "icon_modex_raw = pd.read_csv('ICON-ModEx_automated_iterations_raw.csv')\n",
    "\n",
    "fig, ax = plt.subplots()\n",
    "plt.errorbar(\n",
    "    icon_modex_manual['ntrain'],\n",
    "    icon_modex_manual[['hold-out','cv_avg']].max(axis=1),\n",
    "    yerr=icon_modex_manual['cv_std'],\n",
    "    fmt='k+',\n",
    "    ecolor='lightgray',\n",
    "    capsize=0)\n",
    "#plt.errorbar(\n",
    "#    icon_modex_raw['ntrain'],\n",
    "#    icon_modex_raw['hold-out-avg'],\n",
    "#    yerr=icon_modex_raw['hold-out-std'],\n",
    "#    fmt='ko-',\n",
    "#    ecolor='r',\n",
    "#    capsize=5)\n",
    "plt.errorbar(\n",
    "    icon_modex_scale['ntrain'],\n",
    "    icon_modex_scale['hold-out-avg'],\n",
    "    icon_modex_scale['hold-out-std'],\n",
    "    fmt='ko-',\n",
    "    ecolor='r',\n",
    "    capsize=5)\n",
    "plt.errorbar(\n",
    "    icon_modex_log10['ntrain'],\n",
    "    icon_modex_log10['hold-out-avg'],\n",
    "    icon_modex_log10['hold-out-std'],\n",
    "    fmt='ks',\n",
    "    ecolor='b',\n",
    "    capsize=5)\n",
    "ax.grid()\n",
    "plt.ylabel('Avg ML Model Score of Training data set (R2)')\n",
    "plt.xlabel('Total number of samples in input data set')\n",
    "plt.legend(['Manual iterations','ModEx - live','ModEx - log10 hindcast'])\n",
    "plt.savefig('ICON_ModEx_summary.pdf')"
   ]
  },
  {
   "cell_type": "markdown",
   "id": "0bf6b41f",
   "metadata": {},
   "source": [
    "**Figure Caption:** Manual runs were done before AGU2022 as ICON-ModEx ramped up. The \"live\" iterations are the actual ICON-ModEx ML models that generated the results that were used for making decisions of which sites to sample. The hindcast iterations use a log10 filter because this reduces the bias of the ML models (see histogram analysis of Fig2). The big jump in the live iterations is due to the scaling of the respiration rate data with respect to the volume of the analysis container (need to double check this) (i.e. \"Normalization\") in June of 2023. The hindcast runs all take advantage of the scaling and the log10 transform to provide an apples-to-apples comparision of the progress of the ICON-ModEx iterations."
   ]
  },
  {
   "cell_type": "markdown",
   "id": "5161c6fc-ca91-46d5-ad67-34f9fe8fbdab",
   "metadata": {},
   "source": [
    "# Load and plot simplified version"
   ]
  },
  {
   "cell_type": "code",
   "execution_count": 8,
   "id": "162917f8-a430-4b13-a79c-bb8ecf3c4c4b",
   "metadata": {
    "tags": []
   },
   "outputs": [
    {
     "data": {
      "image/png": "[encoded data removed]",
      "text/plain": [
       "<Figure size 640x480 with 1 Axes>"
      ]
     },
     "metadata": {},
     "output_type": "display_data"
    }
   ],
   "source": [
    "icon_modex_manual = pd.read_csv('ICON-ModEx_manual_iterations.csv')\n",
    "\n",
    "# These iterations are the very first automated iterations\n",
    "# presented at AGU2022. They were done in a \"hindcast mode\"\n",
    "# to be able to compare to the manual iterations.\n",
    "icon_modex_raw = pd.read_csv('ICON-ModEx_automated_iterations_raw.csv')\n",
    "\n",
    "fig, ax = plt.subplots()\n",
    "plt.errorbar(\n",
    "    icon_modex_manual['ntrain'],\n",
    "    icon_modex_manual[['hold-out','cv_avg']].max(axis=1),\n",
    "    yerr=icon_modex_manual['cv_std'],\n",
    "    fmt='k+',\n",
    "    ecolor='lightgray',\n",
    "    capsize=0)\n",
    "plt.errorbar(\n",
    "    icon_modex_log10['ntrain'],\n",
    "    icon_modex_log10['hold-out-avg'],\n",
    "    icon_modex_log10['hold-out-std'],\n",
    "    fmt='ks',\n",
    "    ecolor='b',\n",
    "    capsize=5)\n",
    "ax.grid()\n",
    "plt.ylabel('Avg ML Model Score of Training data set (R2)')\n",
    "plt.xlabel('Total number of samples in input data set')\n",
    "plt.legend(['Manual pre-ModEx iterations','ModEx iterations'])\n",
    "plt.savefig('ICON_ModEx_summary_simplified.pdf')"
   ]
  }
 ],
 "metadata": {
  "kernelspec": {
   "display_name": "Python [conda env:pyr]",
   "language": "python",
   "name": "conda-env-pyr-py"
  },
  "language_info": {
   "codemirror_mode": {
    "name": "ipython",
    "version": 3
   },
   "file_extension": ".py",
   "mimetype": "text/x-python",
   "name": "python",
   "nbconvert_exporter": "python",
   "pygments_lexer": "ipython3",
   "version": "3.11.5"
  }
 },
 "nbformat": 4,
 "nbformat_minor": 5
}
