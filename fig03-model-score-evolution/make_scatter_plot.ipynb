{
 "cells": [
  {
   "cell_type": "raw",
   "id": "6bf7d4b3",
   "metadata": {
    "tags": []
   },
   "source": [
    "---\n",
    "title: \"Fig2_Rversion\"\n",
    "author: \"Bre Rivera Waterman\"\n",
    "date: \"2024-02-22\"\n",
    "output: github_document\n",
    "editor_options: \n",
    "  chunk_output_type: console\n",
    "chunk_output_type: inline\n",
    "---"
   ]
  },
  {
   "cell_type": "code",
   "execution_count": null,
   "id": "f3d3c52b-4224-469c-ba3b-75ed4a58a431",
   "metadata": {
    "tags": [
     "parameters"
    ]
   },
   "outputs": [],
   "source": [
    "# Parameters cell for papermill launching\n",
    "work_dir <- \"./intermediate_branch_data/Nov-2023-log10\""
   ]
  },
  {
   "cell_type": "code",
   "execution_count": null,
   "id": "3ee45c0c",
   "metadata": {
    "name": "setup",
    "tags": []
   },
   "outputs": [],
   "source": [
    "install.packages(\"knitr\", repos='http://cran.us.r-project.org', quiet=TRUE)\n",
    "\n",
    "# Will fail if RStudio is not running.\n",
    "#install.packages(\"rstudioapi\", repos='http://cran.us.r-project.org', quiet=TRUE)\n",
    "\n",
    "library(knitr)\n",
    "knitr::opts_chunk$set(echo = TRUE)\n",
    "\n",
    "#current_path <- rstudioapi::getActiveDocumentContext()$path \n",
    "setwd(dirname(work_dir))\n",
    "getwd()"
   ]
  },
  {
   "cell_type": "markdown",
   "id": "d7f3bd2e",
   "metadata": {},
   "source": [
    " - import libraries"
   ]
  },
  {
   "cell_type": "code",
   "execution_count": null,
   "id": "945cbc87",
   "metadata": {
    "lines_to_next_cell": 0
   },
   "outputs": [],
   "source": [
    "library(tidyverse)\n",
    "library(colourpicker)\n",
    "library(lubridate)\n",
    "library(emmeans)\n",
    "library(sf)\n",
    "library(ggspatial)\n",
    "library(spData)\n",
    "library(ggpmisc)\n",
    "#install.packages(\"ggpubr\")\n",
    "#library(\"rstudioapi\")\n",
    "#install.packages(\"ggExtra\")\n",
    "library(ggExtra)\n",
    "library(patchwork)"
   ]
  },
  {
   "cell_type": "markdown",
   "id": "67230fc1",
   "metadata": {},
   "source": []
  },
  {
   "cell_type": "markdown",
   "id": "6ab03933",
   "metadata": {},
   "source": [
    "## Scatter plot  \n",
    "- using new merged dataset to create scatter plot\n",
    "- add kernel densities to the plots (along the side)"
   ]
  },
  {
   "cell_type": "code",
   "execution_count": null,
   "id": "29838df8",
   "metadata": {
    "lines_to_next_cell": 2
   },
   "outputs": [],
   "source": [
    "#some filtering/mutating first \n",
    "#C:/Users/b923w423/Documents/GitHub/ICON-ModEx_Open_Manuscript\n",
    "\n",
    "\n",
    "combods_split <- read_csv(\"ICON-ModEx_Combined_Predicted_Observed_Respiration_Rates.csv\", na = c(-9999, \"N/A\", \"NA\", NA)) %>%\n",
    "#remova Na's\n",
    "  #split data set into \"hot\" and \"cold\" spots\n",
    "  mutate(ds_split = ifelse(Log_Observed_Normalized_Respiration_Rate > 2.7, \"500+\",                         ifelse(Log_Observed_Normalized_Respiration_Rate < 2.7, \"500-\", \"500-\") )) %>% \n",
    "  \n",
    "#clasifying by quadrant (hot, cold, misclass hot, misclass cold) by year\n",
    "  mutate(ds_quadrant23 =                                                    ifelse(Log_Observed_Normalized_Respiration_Rate > 2.7 & Log_Predicted_Normalized_Respiration_Rate_Nov2023 > 2.7 , \"hs23\",\n",
    "  ifelse(Log_Observed_Normalized_Respiration_Rate > 2.7 & Log_Predicted_Normalized_Respiration_Rate_Nov2023 < 2.7 , \"misclass_hs23\",                                                                                              \n",
    "ifelse(Log_Observed_Normalized_Respiration_Rate < 2.7 & Log_Predicted_Normalized_Respiration_Rate_Nov2023 < 2.7 , \"cs23\",    \n",
    "ifelse(Log_Observed_Normalized_Respiration_Rate < 2.7 & Log_Predicted_Normalized_Respiration_Rate_Nov2023 > 2.7 , \"misclass_cs23\", NA)))) ,                   \n",
    "      \n",
    "ds_quadrant19 =        \n",
    " ifelse(Log_Observed_Normalized_Respiration_Rate > 2.7 & Log_Predicted_Normalized_Respiration_Rate_Sep2019 > 2.7 , \"hs19\",\n",
    "  ifelse(Log_Observed_Normalized_Respiration_Rate > 2.7 & Log_Predicted_Normalized_Respiration_Rate_Sep2019 < 2.7 , \"misclass_hs19\",  \n",
    " ifelse(Log_Observed_Normalized_Respiration_Rate < 2.7 & Log_Predicted_Normalized_Respiration_Rate_Sep2019 > 2.7 , \"misclass_cs19\",\n",
    "ifelse(Log_Observed_Normalized_Respiration_Rate < 2.7 & Log_Predicted_Normalized_Respiration_Rate_Sep2019 < 2.7 , \"cs19\", NA ) )))) \n",
    "\n",
    " "
   ]
  },
  {
   "cell_type": "markdown",
   "id": "be323c6e",
   "metadata": {},
   "source": [
    "### Scatter plot\n",
    " - needs to have kernel density plots on y and x axis\n",
    " - needs use log data\n",
    " - needs to have overall line, line for above 500, below 500, and R^2 values for all three\n",
    " - facet wrap or color dots by iteration (first versus last)\n",
    " \n",
    " - right now s19s iteration, but want OG 0th iteration"
   ]
  },
  {
   "cell_type": "code",
   "execution_count": null,
   "id": "d4a8e020",
   "metadata": {
    "lines_to_next_cell": 0
   },
   "outputs": [],
   "source": [
    "#this will change - waiting on real 0th iteration data from Stefan/Brie\n",
    "firstiterationds <- combods_filt %>% filter(str_detect(Sample_Name, \"S19S\"))\n",
    "\n",
    "#run 3 lm up here, then extract R^2, then call into annotate \n",
    "lm_all <- lm(Log_Predicted_Normalized_Respiration_Rate_Sep2019 ~ Log_Observed_Normalized_Respiration_Rate, firstiterationds)\n",
    "summary(lm_all)\n",
    "\n",
    "lm_sup <- lm(Log_Predicted_Normalized_Respiration_Rate_Sep2019 ~ Log_Observed_Normalized_Respiration_Rate, firstiterationds %>% filter(ds_split == \"500+\"))\n",
    "summary(lm_sup)\n",
    "\n",
    "lm_sub <- lm(Log_Predicted_Normalized_Respiration_Rate_Sep2019 ~ Log_Observed_Normalized_Respiration_Rate, firstiterationds %>% filter(ds_split == \"500-\"))\n",
    "summary(lm_sub)\n",
    "\n",
    "#plot\n",
    "fullscatter_firstiteration <- \n",
    " firstiterationds %>%\n",
    "    ggplot(aes(abs(Log_Observed_Normalized_Respiration_Rate ),\n",
    "                      abs(Log_Predicted_Normalized_Respiration_Rate_Sep2019) )) +\n",
    "                      #,  color =  ds_split))+ \n",
    "#to see R^2 for above/below thresholds, remove color grouping above and use stat poly eq fx (below)\n",
    "  geom_point(color = \"darkgrey\", size = 3, pch = 21) + \n",
    "    geom_vline (xintercept = 2.7, linetype = \"dashed\", color=\"grey\") + \n",
    "    geom_hline (yintercept = 2.7, linetype = \"dashed\", color=\"dark grey\") + #not a clear threshold \n",
    " \n",
    "   \n",
    "        geom_abline (linetype = \"longdash\", color=\"black\") + #not a clear threshold \n",
    "   stat_poly_line(color = \"black\", alpha = 0.5) + #overall best fit\n",
    " # stat_poly_eq(use_label(c( \"R2\"))) + #remove hashtag to see R^2 of log500 split\n",
    "    geom_smooth( aes(abs(Log_Observed_Normalized_Respiration_Rate), #above/below threshold best fit\n",
    "                      abs(Log_Predicted_Normalized_Respiration_Rate_Sep2019),\n",
    "                      color =  ds_split), method = \"lm\", alpha = 0.2) + \n",
    "  xlab(\"log10(Observed rates)\") + \n",
    "  ylab(\"log10(Predicted rates)\") + \n",
    "scale_shape_manual(values = c(21, 16)) + #shape or color by iteration\n",
    "  scale_color_manual(values = c( \"lightblue\", \"maroon\")) +\n",
    "\n",
    "annotate('text', label = str_c('R^2 == ', round(summary(lm_all)$r.squared, 2)), parse = T, x = 3.5, y = 0.75, size = 5, family = 'serif', color = \"black\")+\n",
    "annotate('text', label = str_c('R^2 == ', round(summary(lm_sub)$r.squared, 2)), parse = T, x = 3.5, y = 0.5, size = 5, family = 'serif', color=\"lightblue\")+\n",
    "annotate('text', label = str_c('R^2 == ', round(summary(lm_sup)$r.squared, 2)), parse = T, x = 3.5, y = 0.25, size = 5, family = 'serif',  color=\"maroon\")+\n",
    "  lims(y = c(0,4), x = c(0,4)) + \n",
    "  theme_classic() +\n",
    "   theme(text = element_text(size = 16,  family = 'serif'), \n",
    "         legend.position = 0)\n",
    "fullscatter_firstiteration\n",
    "\n",
    "#adding density plots on axes\n",
    "ggExtra::ggMarginal(fullscatter_firstiteration, fill = \"lightgrey\")\n",
    "\n",
    "#save file\n",
    "ggsave(filename = \"Scripts/fullscatter_firstiteration.tiff\", plot = fullscatter_firstiteration, width = 6, height = 6, dpi = 300)   \n",
    " \n",
    " "
   ]
  },
  {
   "cell_type": "markdown",
   "id": "9ebb39ce",
   "metadata": {},
   "source": []
  },
  {
   "cell_type": "markdown",
   "id": "4f57e458",
   "metadata": {},
   "source": [
    " - final iteration "
   ]
  },
  {
   "cell_type": "code",
   "execution_count": null,
   "id": "e97facfa",
   "metadata": {
    "lines_to_next_cell": 0
   },
   "outputs": [],
   "source": [
    "#add in lm's\n",
    "#run 3 lm up here, then extract R^2, then call into annotate \n",
    "lm_all_final <- lm(Log_Predicted_Normalized_Respiration_Rate_Nov2023 ~ Log_Observed_Normalized_Respiration_Rate, combods_split)\n",
    "summary(lm_all_final)\n",
    "\n",
    "lm_sup_final <- lm(Log_Predicted_Normalized_Respiration_Rate_Nov2023 ~ Log_Observed_Normalized_Respiration_Rate, combods_split %>% filter(ds_split == \"500+\"))\n",
    "summary(lm_sup_final)\n",
    "\n",
    "lm_sub_final <- lm(Log_Predicted_Normalized_Respiration_Rate_Nov2023 ~ Log_Observed_Normalized_Respiration_Rate, combods_split %>% filter(ds_split == \"500-\"))\n",
    "summary(lm_sub_final)\n",
    "\n",
    "\n",
    "\n",
    "fullscatter_lastiteration <- \n",
    "  combods_split %>% ggplot(aes(abs(Log_Observed_Normalized_Respiration_Rate ),\n",
    "                      abs(Log_Predicted_Normalized_Respiration_Rate_Nov2023) #)) + #\n",
    "                      ,  color =  ds_split))+ \n",
    "#to see R^2 for above/below thresholds, remove color grouping above and use stat poly eq fx (below)\n",
    "  geom_point(color = \"darkgrey\", size = 3, pch = 21) + \n",
    "    geom_vline (xintercept = 2.7, linetype = \"dashed\", color=\"grey\") + \n",
    "    geom_hline (yintercept = 2.7, linetype = \"dashed\", color=\"dark grey\") + #not a clear threshold \n",
    "      geom_abline (linetype = \"longdash\", color=\"black\") + #not a clear threshold \n",
    "   stat_poly_line(color = \"black\", alpha = 0.5) + #overall best fit\n",
    " # stat_poly_eq(use_label(c( \"R2\"))) + #remove hashtag to see R^2 of log500 split\n",
    " \n",
    "    geom_smooth( aes(abs(Log_Observed_Normalized_Respiration_Rate ), #above/below threshold best fit\n",
    "                      abs(Log_Predicted_Normalized_Respiration_Rate_Nov2023),\n",
    "                      color =  ds_split), method = \"lm\", alpha = 0.2) + \n",
    "  xlab(\"log10(Observed rates)\") + \n",
    "  ylab(\"log10(Predicted rates)\") + \n",
    "scale_shape_manual(values = c(21, 16)) + #shape or color by iteration\n",
    "  scale_color_manual(values = c( \"lightblue\", \"maroon\")) +\n",
    "\n",
    "annotate('text', label = str_c('R^2 == ', round(summary(lm_all_final)$r.squared, 2)), parse = T, x = 3.5, y = 0.75, size = 5, family = 'serif', color = \"black\")+\n",
    "annotate('text', label = str_c('R^2 == ', round(summary(lm_sub_final)$r.squared, 2)), parse = T, x = 3.5, y = 0.5, size = 5, family = 'serif', color=\"lightblue\")+\n",
    "annotate('text', label = str_c('R^2 == ', round(summary(lm_sup_final)$r.squared, 2)), parse = T, x = 3.5, y = 0.25, size = 5, family = 'serif',  color=\"maroon\")+\n",
    "    \n",
    "  lims(y = c(0,4), x = c(0,4)) + \n",
    "  theme_classic() +\n",
    "   theme(text = element_text(size = 16, family = 'serif'), \n",
    "         legend.position = 0)\n",
    "\n",
    "#adding density plots on axes\n",
    " ggExtra::ggMarginal(fullscatter_lastiteration, fill = \"lightgrey\")\n",
    " \n",
    "\n",
    "ggsave(filename = \"Scripts/fullscatter_lastiteration.tiff\", plot = fullscatter_lastiteration, width = 6, height = 6, dpi = 300)   "
   ]
  },
  {
   "cell_type": "markdown",
   "id": "ac959c03",
   "metadata": {},
   "source": [
    "\n"
   ]
  },
  {
   "cell_type": "markdown",
   "id": "64fefda7",
   "metadata": {
    "lines_to_next_cell": 0
   },
   "source": [
    "- exploring misclass patterns"
   ]
  },
  {
   "cell_type": "code",
   "execution_count": null,
   "id": "1322e4dd",
   "metadata": {
    "lines_to_next_cell": 2
   },
   "outputs": [],
   "source": [
    "combods_date <- combods_split %>%\n",
    "   mutate(Date_whole = ymd(Observed_Sample_Date), Year = year(Observed_Sample_Date), Month = month(Observed_Sample_Date), Day = day(Observed_Sample_Date))\n",
    " \n",
    "\n",
    "\n",
    "#based on previous plots, temporal outliers are from 2023 only\n",
    "combods_date %>% ggplot(aes(abs(Log_Observed_Normalized_Respiration_Rate),\n",
    "                      abs(Log_Predicted_Normalized_Respiration_Rate_Nov2023), color = Year ))+ \n",
    "#to see R^2 for above/below thresholds, remove color grouping above and use stat poly eq fx (below)\n",
    "  geom_point( pch = 21, size = 3) + \n",
    "    geom_vline (xintercept = 2.7, linetype = \"dashed\", color=\"grey\") + \n",
    "    geom_hline (yintercept = 2.7, linetype = \"dashed\", color=\"dark grey\") + #not a clear threshold \n",
    "      geom_abline (linetype = \"longdash\", color=\"black\") + #not a clear threshold \n",
    "  # stat_poly_line(color = \"black\", alpha = 0.5) + #overall best fit\n",
    "  #stat_poly_eq(use_label(c( \"R2\"))) + #remove hashtag to see R^2 of log500 split\n",
    "  # scale_color_gradientn(colours = rev(rainbow(12))) +\n",
    "\n",
    "   # geom_smooth( aes(abs(Log_Observed_Normalized_Respiration_Rate ), #above/below threshold best fit\n",
    "    #                  abs(Log_Predicted_Normalized_Respiration_Rate_Nov2023),\n",
    "     #                 color =  ds_split), method = \"lm\", alpha = 0.2) +\n",
    "  \n",
    "  xlab(\"log10(Observed rates)\") + \n",
    "  ylab(\"log10(Predicted rates)\") + \n",
    "  lims(y = c(0,4), x = c(0,4)) + \n",
    "  theme_classic() +\n",
    "   theme(text = element_text(size = 16))\n",
    "\n",
    "\n",
    "  \n",
    "  "
   ]
  },
  {
   "cell_type": "markdown",
   "id": "38c35b36",
   "metadata": {
    "lines_to_next_cell": 0
   },
   "source": [
    "- checking classifications"
   ]
  },
  {
   "cell_type": "code",
   "execution_count": null,
   "id": "bbab55dd",
   "metadata": {
    "lines_to_next_cell": 2
   },
   "outputs": [],
   "source": [
    "#to check that classifications are correct\n",
    "combods_date %>% ggplot(aes(abs(Log_Observed_Normalized_Respiration_Rate),\n",
    "                      abs(Log_Predicted_Normalized_Respiration_Rate_Nov2023),  color =  ds_quadrant23))+ \n",
    "#to see R^2 for above/below thresholds, remove color grouping above and use stat poly eq fx (below)\n",
    "  geom_point( pch = 21) + \n",
    "    geom_vline (xintercept = 2.7, linetype = \"dashed\", color=\"grey\") + \n",
    "    geom_hline (yintercept = 2.7, linetype = \"dashed\", color=\"dark grey\") + #not a clear threshold \n",
    "      geom_abline (linetype = \"longdash\", color=\"black\") + #not a clear threshold \n",
    "  # stat_poly_line(color = \"black\", alpha = 0.5) + #overall best fit\n",
    "  #stat_poly_eq(use_label(c( \"R2\"))) + #remove hashtag to see R^2 of log500 split\n",
    "   #scale_color_gradientn(colours = rev(rainbow(12))) +\n",
    "\n",
    "   # geom_smooth( aes(abs(Log_Observed_Normalized_Respiration_Rate ), #above/below threshold best fit\n",
    "    #                  abs(Log_Predicted_Normalized_Respiration_Rate_Nov2023),\n",
    "     #                 color =  ds_split), method = \"lm\", alpha = 0.2) +\n",
    "  \n",
    "  xlab(\"log10(Observed rates+1)\") + \n",
    "  ylab(\"log10(Predicted rates+1)\") + \n",
    "  lims(y = c(0,4), x = c(0,4)) + \n",
    "  theme_classic() +\n",
    "   theme(text = element_text(size = 16))\n",
    "\n",
    "  \n",
    " \n",
    "combods_date %>% ggplot(aes(abs(Log_Observed_Normalized_Respiration_Rate),\n",
    "                      abs(Log_Predicted_Normalized_Respiration_Rate_Sep2019),  color = ds_quadrant19 ))+ \n",
    "#to see R^2 for above/below thresholds, remove color grouping above and use stat poly eq fx (below)\n",
    "  geom_point( pch = 21) + \n",
    "    geom_vline (xintercept = 2.7, linetype = \"dashed\", color=\"grey\") + \n",
    "    geom_hline (yintercept = 2.7, linetype = \"dashed\", color=\"dark grey\") + #not a clear threshold \n",
    "      geom_abline (linetype = \"longdash\", color=\"black\") + #not a clear threshold \n",
    "  # stat_poly_line(color = \"black\", alpha = 0.5) + #overall best fit\n",
    "  #stat_poly_eq(use_label(c( \"R2\"))) + #remove hashtag to see R^2 of log500 split\n",
    "  # scale_color_gradientn(colours = rev(rainbow(12))) +\n",
    "\n",
    "   # geom_smooth( aes(abs(Log_Observed_Normalized_Respiration_Rate ), #above/below threshold best fit\n",
    "                     # abs(Log_Predicted_Normalized_Respiration_Rate),\n",
    "                     # color =  ds_split), method = \"lm\", alpha = 0.2) +\n",
    "  \n",
    "  xlab(\"log10(Observed rates+1)\") + \n",
    "  ylab(\"log10(Predicted rates+1)\") + \n",
    "  lims(y = c(0,4), x = c(0,4)) + \n",
    "  theme_classic() +\n",
    "   theme(text = element_text(size = 16))"
   ]
  },
  {
   "cell_type": "markdown",
   "id": "4841e10b",
   "metadata": {
    "lines_to_next_cell": 0
   },
   "source": [
    "#map to see miss-classifications spatially\n",
    "  - NA's not filtered out?"
   ]
  },
  {
   "cell_type": "code",
   "execution_count": null,
   "id": "6b8daa50",
   "metadata": {
    "lines_to_next_cell": 0
   },
   "outputs": [],
   "source": [
    "usa <- st_as_sf(maps::map(\"state\", fill=TRUE, plot =FALSE))\n",
    "\n",
    "outliers2023 <- \n",
    "ggplot(usa) +\n",
    "  geom_sf(color = \"#2b2b2b\", fill = \"lightgrey\", size=0.125, alpha = 0.15) +\n",
    "  coord_sf(crs = st_crs(\"+proj=laea +lat_0=45 +lon_0=-100 +x_0=0 +y_0=0 +a=6370997 +b=6370997 +units=m +no_defs\"), datum = NA) +\n",
    "   geom_spatial_point(data=combods_date, aes(x=Longitude, y=Latitude, color = ds_quadrant23), size = 3) + \n",
    "               scale_color_manual(values=c(   \"#B9D3EE\", \"maroon\", \"darkgrey\", \"#CDBA96\" ) )+\n",
    "     ylab(\"\") + \n",
    "  xlab(\"Longitude\") + \n",
    "    theme_minimal() +\n",
    "   labs(title=\"2023 iteration\")\n",
    "outliers2023\n",
    "\n",
    "outliers2019 <- \n",
    "ggplot(usa) +\n",
    "  geom_sf(color = \"#2b2b2b\", fill = \"lightgrey\", size=0.125, alpha = 0.15) +\n",
    "  coord_sf(crs = st_crs(\"+proj=laea +lat_0=45 +lon_0=-100 +x_0=0 +y_0=0 +a=6370997 +b=6370997 +units=m +no_defs\"), datum = NA) +\n",
    "   geom_spatial_point(data=combods_date, aes(x=Longitude, y=Latitude, color = ds_quadrant19), size = 3) + \n",
    "               scale_color_manual(values=c(   \"#B9D3EE\", \"maroon\", \"darkgrey\", \"#CDBA96\" ) )+\n",
    "     ylab(\"Latitude\") + \n",
    "  xlab(\"Longitude\") + \n",
    "    theme_minimal() + \n",
    "  theme(legend.position = 0)+\n",
    "     labs(title=\"2022 iteration\")\n",
    "\n",
    "\n",
    "\n",
    "misclassmap <- outliers2019 + outliers2023\n",
    "misclassmap\n",
    "\n",
    "\n",
    "ggsave(filename = \"Scripts/misclassmap.tiff\", plot = misclassmap, width = 10, height = 5, dpi = 300)   \n"
   ]
  },
  {
   "cell_type": "markdown",
   "id": "2517bfca",
   "metadata": {},
   "source": []
  }
 ],
 "metadata": {
  "jupytext": {
   "cell_metadata_filter": "tags,name,-all",
   "main_language": "R",
   "notebook_metadata_filter": "-all"
  },
  "kernelspec": {
   "display_name": "R",
   "language": "R",
   "name": "ir"
  },
  "language_info": {
   "codemirror_mode": "r",
   "file_extension": ".r",
   "mimetype": "text/x-r-source",
   "name": "R",
   "pygments_lexer": "r",
   "version": "4.3.1"
  }
 },
 "nbformat": 4,
 "nbformat_minor": 5
}
