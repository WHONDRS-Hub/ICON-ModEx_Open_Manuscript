{
 "cells": [
  {
   "cell_type": "markdown",
   "id": "0318950a",
   "metadata": {},
   "source": [
    "# Assessing the ICON-ModEx ML models\n",
    "\n",
    "## How does the model score change with each ICON-ModEx iteration?\n",
    "This notebook will harvest the data from the `dynamic-learning-rivers` repository to make a plot showing the evolution of the ML models as more traininig data is added.\n",
    "\n",
    "## Important behind the scenes information\n",
    "Here, I am assuming that this notebook is running in a Linux context (e.g. pull a [container that runs a local Jupyter server](https://hub.docker.com/r/jupyter/datascience-notebook) and open the notebook therein). This code will switch branches within a repository that it downloads from GitHub to load the data for side by side comparisions. It will then delete the source repository and retain only the harvested data used for plotting. The harvested data will be saved alongside this notebook here.\n",
    "\n",
    "## Jumping between Python and R\n",
    "Working between these two languages can be done cell-by-cell (i.e. `r2py`) or, in this case, notebook by notebook by launching additional \"subnotebooks\" with `papermill`. We use the latter option here because we want a Python loop to launch a series of R tasks; this is harder to do when all the R must be in a separate cell from the Python.\n",
    "\n",
    "When installing R tidyverse into the conda environment, there are at least three options:\n",
    "1. Direct install from CRAN, e.g.:\n",
    "```\n",
    "install.packages(\"tidyverse\", repos='http://cran.us.r-project.org', quiet=FALSE, Ncpu=4)\n",
    "```\n",
    "2. Conda install from conda-forge:\n",
    "```\n",
    "conda install -c conda-forge r-tidyverse\n",
    "```\n",
    "3. Conda install from anaconda:\n",
    "```\n",
    "conda install -c anaconda r-tidyverse\n",
    "```\n",
    "As of July 2024, there are linking (not compile) errors for some of the dependencies in Option 1. Option 1, since it compiles from source, also takes a relatively long time (10's of minutes). Option 2 seemed like the best way to go since thre are many more downloads of those packages than Option 3, but there are some bugs in how the figure domain is set up and communicated to Jupyter thus impacting some plotting routines. Therefore, Option 3 is the only one that worked end-to-end. It could be that the exact version of Python and/or Jupyter that I am using conflicts with Option 2. The hashes differ on some, but not all, of the R packages installed in Options 2 and 3 (i.e. comparing them with `conda list | grep r-`)."
   ]
  },
  {
   "cell_type": "code",
   "execution_count": 1,
   "id": "496bfa85-63de-4d6d-97c4-928490aa37da",
   "metadata": {
    "tags": []
   },
   "outputs": [
    {
     "name": "stdout",
     "output_type": "stream",
     "text": [
      "Channels:\n",
      " - defaults\n",
      " - conda-forge\n",
      "Platform: linux-64\n",
      "Collecting package metadata (repodata.json): ...working... done\n",
      "Solving environment: ...working... done\n",
      "\n",
      "## Package Plan ##\n",
      "\n",
      "  environment location: /home/sfgary/pw/.miniconda3c\n",
      "\n",
      "  added / updated specs:\n",
      "    - matplotlib\n",
      "    - numpy\n",
      "    - pandas\n",
      "\n",
      "\n",
      "The following packages will be downloaded:\n",
      "\n",
      "    package                    |            build\n",
      "    ---------------------------|-----------------\n",
      "    bottleneck-1.3.7           |  py311hf4808d0_0         145 KB\n",
      "    brotli-1.0.9               |       h5eee18b_8          18 KB\n",
      "    brotli-bin-1.0.9           |       h5eee18b_8          19 KB\n",
      "    contourpy-1.2.0            |  py311hdb19cb5_0         263 KB\n",
      "    cycler-0.11.0              |     pyhd3eb1b0_0          12 KB\n",
      "    cyrus-sasl-2.1.28          |       h52b45da_1         237 KB\n",
      "    dbus-1.13.18               |       hb2f20db_0         504 KB\n",
      "    fonttools-4.51.0           |  py311h5eee18b_0         3.0 MB\n",
      "    gst-plugins-base-1.14.1    |       h6a678d5_1         2.2 MB\n",
      "    gstreamer-1.14.1           |       h5eee18b_1         1.7 MB\n",
      "    kiwisolver-1.4.4           |  py311h6a678d5_0          70 KB\n",
      "    lcms2-2.12                 |       h3be6417_0         312 KB\n",
      "    libbrotlicommon-1.0.9      |       h5eee18b_8          69 KB\n",
      "    libbrotlidec-1.0.9         |       h5eee18b_8          31 KB\n",
      "    libbrotlienc-1.0.9         |       h5eee18b_8         286 KB\n",
      "    libclang-14.0.6            |default_hc6dbbc7_1         137 KB\n",
      "    libclang13-14.0.6          |default_he11475f_1         9.8 MB\n",
      "    libcups-2.4.2              |       h2d74bed_1         4.5 MB\n",
      "    libllvm14-14.0.6           |       hdb19cb5_3        33.4 MB\n",
      "    libpq-12.17                |       hdbd6064_0         2.4 MB\n",
      "    libxkbcommon-1.0.1         |       h5eee18b_1         590 KB\n",
      "    matplotlib-3.8.4           |  py311h06a4308_0           8 KB\n",
      "    matplotlib-base-3.8.4      |  py311ha02d727_0         7.7 MB\n",
      "    mysql-5.7.24               |       h721c034_2        60.0 MB\n",
      "    numexpr-2.8.7              |  py311h812550d_0         167 KB\n",
      "    numpy-1.26.4               |  py311h24aa872_0          10 KB\n",
      "    numpy-base-1.26.4          |  py311hbfb1bba_0         8.3 MB\n",
      "    openjpeg-2.4.0             |       h9ca470c_2         363 KB\n",
      "    pandas-2.2.2               |  py311ha02d727_0        15.7 MB\n",
      "    pillow-10.4.0              |  py311h5eee18b_0         962 KB\n",
      "    ply-3.11                   |  py311h06a4308_0         111 KB\n",
      "    pyparsing-3.0.9            |  py311h06a4308_0         204 KB\n",
      "    pyqt-5.15.10               |  py311h6a678d5_0         5.7 MB\n",
      "    pyqt5-sip-12.13.0          |  py311h5eee18b_0          95 KB\n",
      "    python-tzdata-2023.3       |     pyhd3eb1b0_0         140 KB\n",
      "    qt-main-5.15.2             |      h53bd1ea_10        53.7 MB\n",
      "    sip-6.7.12                 |  py311h6a678d5_0         603 KB\n",
      "    unicodedata2-15.1.0        |  py311h5eee18b_0         524 KB\n",
      "    ------------------------------------------------------------\n",
      "                                           Total:       213.6 MB\n",
      "\n",
      "The following NEW packages will be INSTALLED:\n",
      "\n",
      "  bottleneck         pkgs/main/linux-64::bottleneck-1.3.7-py311hf4808d0_0 \n",
      "  brotli             pkgs/main/linux-64::brotli-1.0.9-h5eee18b_8 \n",
      "  brotli-bin         pkgs/main/linux-64::brotli-bin-1.0.9-h5eee18b_8 \n",
      "  contourpy          pkgs/main/linux-64::contourpy-1.2.0-py311hdb19cb5_0 \n",
      "  cycler             pkgs/main/noarch::cycler-0.11.0-pyhd3eb1b0_0 \n",
      "  cyrus-sasl         pkgs/main/linux-64::cyrus-sasl-2.1.28-h52b45da_1 \n",
      "  dbus               pkgs/main/linux-64::dbus-1.13.18-hb2f20db_0 \n",
      "  fonttools          pkgs/main/linux-64::fonttools-4.51.0-py311h5eee18b_0 \n",
      "  gst-plugins-base   pkgs/main/linux-64::gst-plugins-base-1.14.1-h6a678d5_1 \n",
      "  gstreamer          pkgs/main/linux-64::gstreamer-1.14.1-h5eee18b_1 \n",
      "  kiwisolver         pkgs/main/linux-64::kiwisolver-1.4.4-py311h6a678d5_0 \n",
      "  lcms2              pkgs/main/linux-64::lcms2-2.12-h3be6417_0 \n",
      "  libbrotlicommon    pkgs/main/linux-64::libbrotlicommon-1.0.9-h5eee18b_8 \n",
      "  libbrotlidec       pkgs/main/linux-64::libbrotlidec-1.0.9-h5eee18b_8 \n",
      "  libbrotlienc       pkgs/main/linux-64::libbrotlienc-1.0.9-h5eee18b_8 \n",
      "  libclang           pkgs/main/linux-64::libclang-14.0.6-default_hc6dbbc7_1 \n",
      "  libclang13         pkgs/main/linux-64::libclang13-14.0.6-default_he11475f_1 \n",
      "  libcups            pkgs/main/linux-64::libcups-2.4.2-h2d74bed_1 \n",
      "  libllvm14          pkgs/main/linux-64::libllvm14-14.0.6-hdb19cb5_3 \n",
      "  libpq              pkgs/main/linux-64::libpq-12.17-hdbd6064_0 \n",
      "  libxkbcommon       pkgs/main/linux-64::libxkbcommon-1.0.1-h5eee18b_1 \n",
      "  matplotlib         pkgs/main/linux-64::matplotlib-3.8.4-py311h06a4308_0 \n",
      "  matplotlib-base    pkgs/main/linux-64::matplotlib-base-3.8.4-py311ha02d727_0 \n",
      "  mysql              pkgs/main/linux-64::mysql-5.7.24-h721c034_2 \n",
      "  numexpr            pkgs/main/linux-64::numexpr-2.8.7-py311h812550d_0 \n",
      "  numpy              pkgs/main/linux-64::numpy-1.26.4-py311h24aa872_0 \n",
      "  numpy-base         pkgs/main/linux-64::numpy-base-1.26.4-py311hbfb1bba_0 \n",
      "  openjpeg           pkgs/main/linux-64::openjpeg-2.4.0-h9ca470c_2 \n",
      "  pandas             pkgs/main/linux-64::pandas-2.2.2-py311ha02d727_0 \n",
      "  pillow             pkgs/main/linux-64::pillow-10.4.0-py311h5eee18b_0 \n",
      "  ply                pkgs/main/linux-64::ply-3.11-py311h06a4308_0 \n",
      "  pyparsing          pkgs/main/linux-64::pyparsing-3.0.9-py311h06a4308_0 \n",
      "  pyqt               pkgs/main/linux-64::pyqt-5.15.10-py311h6a678d5_0 \n",
      "  pyqt5-sip          pkgs/main/linux-64::pyqt5-sip-12.13.0-py311h5eee18b_0 \n",
      "  python-tzdata      pkgs/main/noarch::python-tzdata-2023.3-pyhd3eb1b0_0 \n",
      "  qt-main            pkgs/main/linux-64::qt-main-5.15.2-h53bd1ea_10 \n",
      "  sip                pkgs/main/linux-64::sip-6.7.12-py311h6a678d5_0 \n",
      "  unicodedata2       pkgs/main/linux-64::unicodedata2-15.1.0-py311h5eee18b_0 \n",
      "\n",
      "\n",
      "Preparing transaction: ...working... done\n",
      "Verifying transaction: ...working... done\n",
      "Executing transaction: ...working... done\n",
      "Channels:\n",
      " - defaults\n",
      " - conda-forge\n",
      "Platform: linux-64\n",
      "Collecting package metadata (repodata.json): ...working... done\n",
      "Solving environment: ...working... done\n",
      "\n",
      "## Package Plan ##\n",
      "\n",
      "  environment location: /home/sfgary/pw/.miniconda3c\n",
      "\n",
      "  added / updated specs:\n",
      "    - papermill\n",
      "\n",
      "\n",
      "The following packages will be downloaded:\n",
      "\n",
      "    package                    |            build\n",
      "    ---------------------------|-----------------\n",
      "    aiohttp-3.9.5              |  py311h5eee18b_0         837 KB\n",
      "    aiosignal-1.2.0            |     pyhd3eb1b0_0          12 KB\n",
      "    ansicolors-1.1.8           |     pyhd8ed1ab_0          14 KB  conda-forge\n",
      "    click-8.1.7                |  py311h06a4308_0         221 KB\n",
      "    frozenlist-1.4.0           |  py311h5eee18b_0          52 KB\n",
      "    multidict-6.0.4            |  py311h5eee18b_0          59 KB\n",
      "    papermill-2.6.0            |     pyhd8ed1ab_0          37 KB  conda-forge\n",
      "    tenacity-8.2.3             |  py311h06a4308_0          55 KB\n",
      "    yarl-1.9.3                 |  py311h5eee18b_0         127 KB\n",
      "    ------------------------------------------------------------\n",
      "                                           Total:         1.4 MB\n",
      "\n",
      "The following NEW packages will be INSTALLED:\n",
      "\n",
      "  aiohttp            pkgs/main/linux-64::aiohttp-3.9.5-py311h5eee18b_0 \n",
      "  aiosignal          pkgs/main/noarch::aiosignal-1.2.0-pyhd3eb1b0_0 \n",
      "  ansicolors         conda-forge/noarch::ansicolors-1.1.8-pyhd8ed1ab_0 \n",
      "  click              pkgs/main/linux-64::click-8.1.7-py311h06a4308_0 \n",
      "  frozenlist         pkgs/main/linux-64::frozenlist-1.4.0-py311h5eee18b_0 \n",
      "  multidict          pkgs/main/linux-64::multidict-6.0.4-py311h5eee18b_0 \n",
      "  papermill          conda-forge/noarch::papermill-2.6.0-pyhd8ed1ab_0 \n",
      "  tenacity           pkgs/main/linux-64::tenacity-8.2.3-py311h06a4308_0 \n",
      "  yarl               pkgs/main/linux-64::yarl-1.9.3-py311h5eee18b_0 \n",
      "\n",
      "\n",
      "Preparing transaction: ...working... done\n",
      "Verifying transaction: ...working... done\n",
      "Executing transaction: ...working... done\n",
      "Channels:\n",
      " - defaults\n",
      " - conda-forge\n",
      "Platform: linux-64\n",
      "Collecting package metadata (repodata.json): ...working... done\n",
      "Solving environment: ...working... done\n",
      "\n",
      "## Package Plan ##\n",
      "\n",
      "  environment location: /home/sfgary/pw/.miniconda3c\n",
      "\n",
      "  added / updated specs:\n",
      "    - scikit-learn\n",
      "\n",
      "\n",
      "The following packages will be downloaded:\n",
      "\n",
      "    package                    |            build\n",
      "    ---------------------------|-----------------\n",
      "    joblib-1.4.2               |  py311h06a4308_0         530 KB\n",
      "    scikit-learn-1.4.2         |  py311ha02d727_1        10.3 MB\n",
      "    scipy-1.13.1               |  py311h24aa872_0        23.9 MB\n",
      "    threadpoolctl-3.5.0        |  py311h92b7b1e_0          50 KB\n",
      "    ------------------------------------------------------------\n",
      "                                           Total:        34.7 MB\n",
      "\n",
      "The following NEW packages will be INSTALLED:\n",
      "\n",
      "  joblib             pkgs/main/linux-64::joblib-1.4.2-py311h06a4308_0 \n",
      "  scikit-learn       pkgs/main/linux-64::scikit-learn-1.4.2-py311ha02d727_1 \n",
      "  scipy              pkgs/main/linux-64::scipy-1.13.1-py311h24aa872_0 \n",
      "  threadpoolctl      pkgs/main/linux-64::threadpoolctl-3.5.0-py311h92b7b1e_0 \n",
      "\n",
      "\n",
      "Preparing transaction: ...working... done\n",
      "Verifying transaction: ...working... done\n",
      "Executing transaction: ...working... done\n",
      "Channels:\n",
      " - anaconda\n",
      " - defaults\n",
      " - conda-forge\n",
      "Platform: linux-64\n",
      "Collecting package metadata (repodata.json): ...working... done\n",
      "Solving environment: ...working... done\n",
      "\n",
      "## Package Plan ##\n",
      "\n",
      "  environment location: /home/sfgary/pw/.miniconda3c\n",
      "\n",
      "  added / updated specs:\n",
      "    - r-tidyverse\n",
      "\n",
      "\n",
      "The following packages will be downloaded:\n",
      "\n",
      "    package                    |            build\n",
      "    ---------------------------|-----------------\n",
      "    r-askpass-1.2.0            |    r43h76d94ec_0          29 KB\n",
      "    r-backports-1.4.1          |    r43h76d94ec_0         112 KB\n",
      "    r-bit-4.0.5                |    r43h76d94ec_0         1.0 MB\n",
      "    r-bit64-4.0.5              |    r43h76d94ec_0         480 KB\n",
      "    r-blob-1.2.4               |    r43h6115d3f_0          52 KB\n",
      "    r-broom-1.0.5              |    r43h6115d3f_0         1.7 MB\n",
      "    r-bslib-0.5.1              |    r43h6115d3f_0         4.8 MB\n",
      "    r-cachem-1.0.8             |    r43h76d94ec_0          71 KB\n",
      "    r-callr-3.7.3              |    r43h6115d3f_0         403 KB\n",
      "    r-cellranger-1.1.0         |    r43h6115d3f_0         103 KB\n",
      "    r-clipr-0.8.0              |    r43h6115d3f_0          65 KB\n",
      "    r-colorspace-2.1_0         |    r43h76d94ec_0         2.4 MB\n",
      "    r-conflicted-1.2.0         |    r43h142f84f_0          61 KB\n",
      "    r-cpp11-0.4.6              |    r43h6115d3f_0         221 KB\n",
      "    r-curl-5.1.0               |    r43h76d94ec_0         430 KB\n",
      "    r-data.table-1.14.8        |    r43h76d94ec_0         1.8 MB\n",
      "    r-dbi-1.1.3                |    r43h6115d3f_0         697 KB\n",
      "    r-dbplyr-2.3.4             |    r43h6115d3f_0         1.0 MB\n",
      "    r-dplyr-1.1.3              |    r43h884c59f_0         1.3 MB\n",
      "    r-dtplyr-1.3.1             |    r43h6115d3f_0         344 KB\n",
      "    r-farver-2.1.1             |    r43h884c59f_0         1.4 MB\n",
      "    r-fontawesome-0.5.2        |    r43h6115d3f_0         1.2 MB\n",
      "    r-forcats-1.0.0            |    r43h6115d3f_0         409 KB\n",
      "    r-fs-1.6.3                 |    r43h884c59f_0         481 KB\n",
      "    r-gargle-1.5.2             |    r43h142f84f_0         689 KB\n",
      "    r-generics-0.1.3           |    r43h142f84f_0          81 KB\n",
      "    r-ggplot2-3.4.4            |    r43h6115d3f_0         3.9 MB\n",
      "    r-googledrive-2.1.1        |    r43h6115d3f_0         1.1 MB\n",
      "    r-googlesheets4-1.1.1      |    r43h6115d3f_0         497 KB\n",
      "    r-gtable-0.3.4             |    r43h6115d3f_0         214 KB\n",
      "    r-haven-2.5.3              |    r43h884c59f_0         356 KB\n",
      "    r-highr-0.10               |    r43h6115d3f_0          54 KB\n",
      "    r-hms-1.1.3                |    r43h6115d3f_0         102 KB\n",
      "    r-httr-1.4.7               |    r43h6115d3f_0         452 KB\n",
      "    r-ids-1.0.1                |    r43h142f84f_0         122 KB\n",
      "    r-isoband-0.2.7            |    r43h884c59f_0         1.5 MB\n",
      "    r-jquerylib-0.1.4          |    r43h6115d3f_0         296 KB\n",
      "    r-knitr-1.44               |    r43h6115d3f_0         1.2 MB\n",
      "    r-labeling-0.4.3           |    r43h6115d3f_0          64 KB\n",
      "    r-lubridate-1.9.3          |    r43h76d94ec_0         950 KB\n",
      "    r-magrittr-2.0.3           |    r43h76d94ec_0         200 KB\n",
      "    r-memoise-2.0.1            |    r43h6115d3f_0          53 KB\n",
      "    r-mime-0.12                |    r43h76d94ec_0          49 KB\n",
      "    r-modelr-0.1.11            |    r43h6115d3f_0         211 KB\n",
      "    r-munsell-0.5.0            |    r43h6115d3f_0         236 KB\n",
      "    r-openssl-2.1.1            |    r43h76d94ec_0         619 KB\n",
      "    r-pkgconfig-2.0.3          |    r43h6115d3f_0          24 KB\n",
      "    r-prettyunits-1.2.0        |    r43h142f84f_0         158 KB\n",
      "    r-processx-3.8.2           |    r43h76d94ec_0         313 KB\n",
      "    r-progress-1.2.2           |    r43h142f84f_0          88 KB\n",
      "    r-ps-1.7.5                 |    r43h76d94ec_0         301 KB\n",
      "    r-purrr-1.0.2              |    r43h76d94ec_0         469 KB\n",
      "    r-r6-2.5.1                 |    r43h6115d3f_0          89 KB\n",
      "    r-ragg-1.2.6               |    r43h884c59f_0         427 KB\n",
      "    r-rappdirs-0.3.3           |    r43h76d94ec_0          50 KB\n",
      "    r-rcolorbrewer-1.1_3       |    r43h6115d3f_1          57 KB\n",
      "    r-readr-2.1.4              |    r43h884c59f_0         761 KB\n",
      "    r-readxl-1.4.3             |    r43h884c59f_0         724 KB\n",
      "    r-rematch-2.0.0            |    r43h6115d3f_0          22 KB\n",
      "    r-rematch2-2.1.2           |    r43h142f84f_0          51 KB\n",
      "    r-reprex-2.0.2             |    r43h6115d3f_0         488 KB\n",
      "    r-rmarkdown-2.25           |    r43h6115d3f_0         1.9 MB\n",
      "    r-rstudioapi-0.15.0        |    r43h6115d3f_0         283 KB\n",
      "    r-rvest-1.0.3              |    r43h6115d3f_0         205 KB\n",
      "    r-sass-0.4.7               |    r43h884c59f_0         2.2 MB\n",
      "    r-scales-1.2.1             |    r43h6115d3f_0         577 KB\n",
      "    r-selectr-0.4_2            |    r43h6115d3f_0         404 KB\n",
      "    r-stringi-1.7.12           |    r43h884c59f_0         870 KB\n",
      "    r-stringr-1.5.0            |    r43h6115d3f_0         284 KB\n",
      "    r-sys-3.4.2                |    r43h76d94ec_0          46 KB\n",
      "    r-systemfonts-1.0.5        |    r43h884c59f_0         227 KB\n",
      "    r-textshaping-0.3.7        |    r43h884c59f_0         100 KB\n",
      "    r-tibble-3.2.1             |    r43h76d94ec_0         594 KB\n",
      "    r-tidyr-1.3.0              |    r43h884c59f_0         1.1 MB\n",
      "    r-tidyselect-1.2.0         |    r43h6115d3f_0         208 KB\n",
      "    r-tidyverse-2.0.0          |    r43h6115d3f_0         414 KB\n",
      "    r-timechange-0.2.0         |    r43h884c59f_0         175 KB\n",
      "    r-tinytex-0.48             |    r43h142f84f_0         138 KB\n",
      "    r-tzdb-0.4.0               |    r43h884c59f_0         514 KB\n",
      "    r-viridislite-0.4.2        |    r43h6115d3f_0         1.2 MB\n",
      "    r-vroom-1.6.4              |    r43h884c59f_0         838 KB\n",
      "    r-withr-2.5.1              |    r43h6115d3f_0         224 KB\n",
      "    r-xfun-0.40                |    r43h76d94ec_0         410 KB\n",
      "    r-xml2-1.3.6               |    r43h884c59f_0         264 KB\n",
      "    r-yaml-2.3.7               |    r43h76d94ec_0         111 KB\n",
      "    ------------------------------------------------------------\n",
      "                                           Total:        50.5 MB\n",
      "\n",
      "The following NEW packages will be INSTALLED:\n",
      "\n",
      "  r-askpass          pkgs/r/linux-64::r-askpass-1.2.0-r43h76d94ec_0 \n",
      "  r-backports        pkgs/r/linux-64::r-backports-1.4.1-r43h76d94ec_0 \n",
      "  r-bit              pkgs/r/linux-64::r-bit-4.0.5-r43h76d94ec_0 \n",
      "  r-bit64            pkgs/r/linux-64::r-bit64-4.0.5-r43h76d94ec_0 \n",
      "  r-blob             pkgs/r/noarch::r-blob-1.2.4-r43h6115d3f_0 \n",
      "  r-broom            pkgs/r/noarch::r-broom-1.0.5-r43h6115d3f_0 \n",
      "  r-bslib            pkgs/r/noarch::r-bslib-0.5.1-r43h6115d3f_0 \n",
      "  r-cachem           pkgs/r/linux-64::r-cachem-1.0.8-r43h76d94ec_0 \n",
      "  r-callr            pkgs/r/noarch::r-callr-3.7.3-r43h6115d3f_0 \n",
      "  r-cellranger       pkgs/r/noarch::r-cellranger-1.1.0-r43h6115d3f_0 \n",
      "  r-clipr            pkgs/r/noarch::r-clipr-0.8.0-r43h6115d3f_0 \n",
      "  r-colorspace       pkgs/r/linux-64::r-colorspace-2.1_0-r43h76d94ec_0 \n",
      "  r-conflicted       pkgs/r/noarch::r-conflicted-1.2.0-r43h142f84f_0 \n",
      "  r-cpp11            pkgs/r/noarch::r-cpp11-0.4.6-r43h6115d3f_0 \n",
      "  r-curl             pkgs/r/linux-64::r-curl-5.1.0-r43h76d94ec_0 \n",
      "  r-data.table       pkgs/r/linux-64::r-data.table-1.14.8-r43h76d94ec_0 \n",
      "  r-dbi              pkgs/r/noarch::r-dbi-1.1.3-r43h6115d3f_0 \n",
      "  r-dbplyr           pkgs/r/noarch::r-dbplyr-2.3.4-r43h6115d3f_0 \n",
      "  r-dplyr            pkgs/r/linux-64::r-dplyr-1.1.3-r43h884c59f_0 \n",
      "  r-dtplyr           pkgs/r/noarch::r-dtplyr-1.3.1-r43h6115d3f_0 \n",
      "  r-farver           pkgs/r/linux-64::r-farver-2.1.1-r43h884c59f_0 \n",
      "  r-fontawesome      pkgs/r/noarch::r-fontawesome-0.5.2-r43h6115d3f_0 \n",
      "  r-forcats          pkgs/r/noarch::r-forcats-1.0.0-r43h6115d3f_0 \n",
      "  r-fs               pkgs/r/linux-64::r-fs-1.6.3-r43h884c59f_0 \n",
      "  r-gargle           pkgs/r/noarch::r-gargle-1.5.2-r43h142f84f_0 \n",
      "  r-generics         pkgs/r/noarch::r-generics-0.1.3-r43h142f84f_0 \n",
      "  r-ggplot2          pkgs/r/noarch::r-ggplot2-3.4.4-r43h6115d3f_0 \n",
      "  r-googledrive      pkgs/r/noarch::r-googledrive-2.1.1-r43h6115d3f_0 \n",
      "  r-googlesheets4    pkgs/r/noarch::r-googlesheets4-1.1.1-r43h6115d3f_0 \n",
      "  r-gtable           pkgs/r/noarch::r-gtable-0.3.4-r43h6115d3f_0 \n",
      "  r-haven            pkgs/r/linux-64::r-haven-2.5.3-r43h884c59f_0 \n",
      "  r-highr            pkgs/r/noarch::r-highr-0.10-r43h6115d3f_0 \n",
      "  r-hms              pkgs/r/noarch::r-hms-1.1.3-r43h6115d3f_0 \n",
      "  r-httr             pkgs/r/noarch::r-httr-1.4.7-r43h6115d3f_0 \n",
      "  r-ids              pkgs/r/noarch::r-ids-1.0.1-r43h142f84f_0 \n",
      "  r-isoband          pkgs/r/linux-64::r-isoband-0.2.7-r43h884c59f_0 \n",
      "  r-jquerylib        pkgs/r/noarch::r-jquerylib-0.1.4-r43h6115d3f_0 \n",
      "  r-knitr            pkgs/r/noarch::r-knitr-1.44-r43h6115d3f_0 \n",
      "  r-labeling         pkgs/r/noarch::r-labeling-0.4.3-r43h6115d3f_0 \n",
      "  r-lubridate        pkgs/r/linux-64::r-lubridate-1.9.3-r43h76d94ec_0 \n",
      "  r-magrittr         pkgs/r/linux-64::r-magrittr-2.0.3-r43h76d94ec_0 \n",
      "  r-memoise          pkgs/r/noarch::r-memoise-2.0.1-r43h6115d3f_0 \n",
      "  r-mime             pkgs/r/linux-64::r-mime-0.12-r43h76d94ec_0 \n",
      "  r-modelr           pkgs/r/noarch::r-modelr-0.1.11-r43h6115d3f_0 \n",
      "  r-munsell          pkgs/r/noarch::r-munsell-0.5.0-r43h6115d3f_0 \n",
      "  r-openssl          pkgs/r/linux-64::r-openssl-2.1.1-r43h76d94ec_0 \n",
      "  r-pkgconfig        pkgs/r/noarch::r-pkgconfig-2.0.3-r43h6115d3f_0 \n",
      "  r-prettyunits      pkgs/r/noarch::r-prettyunits-1.2.0-r43h142f84f_0 \n",
      "  r-processx         pkgs/r/linux-64::r-processx-3.8.2-r43h76d94ec_0 \n",
      "  r-progress         pkgs/r/noarch::r-progress-1.2.2-r43h142f84f_0 \n",
      "  r-ps               pkgs/r/linux-64::r-ps-1.7.5-r43h76d94ec_0 \n",
      "  r-purrr            pkgs/r/linux-64::r-purrr-1.0.2-r43h76d94ec_0 \n",
      "  r-r6               pkgs/r/noarch::r-r6-2.5.1-r43h6115d3f_0 \n",
      "  r-ragg             pkgs/r/linux-64::r-ragg-1.2.6-r43h884c59f_0 \n",
      "  r-rappdirs         pkgs/r/linux-64::r-rappdirs-0.3.3-r43h76d94ec_0 \n",
      "  r-rcolorbrewer     pkgs/r/noarch::r-rcolorbrewer-1.1_3-r43h6115d3f_1 \n",
      "  r-readr            pkgs/r/linux-64::r-readr-2.1.4-r43h884c59f_0 \n",
      "  r-readxl           pkgs/r/linux-64::r-readxl-1.4.3-r43h884c59f_0 \n",
      "  r-rematch          pkgs/r/noarch::r-rematch-2.0.0-r43h6115d3f_0 \n",
      "  r-rematch2         pkgs/r/noarch::r-rematch2-2.1.2-r43h142f84f_0 \n",
      "  r-reprex           pkgs/r/noarch::r-reprex-2.0.2-r43h6115d3f_0 \n",
      "  r-rmarkdown        pkgs/r/noarch::r-rmarkdown-2.25-r43h6115d3f_0 \n",
      "  r-rstudioapi       pkgs/r/noarch::r-rstudioapi-0.15.0-r43h6115d3f_0 \n",
      "  r-rvest            pkgs/r/noarch::r-rvest-1.0.3-r43h6115d3f_0 \n",
      "  r-sass             pkgs/r/linux-64::r-sass-0.4.7-r43h884c59f_0 \n",
      "  r-scales           pkgs/r/noarch::r-scales-1.2.1-r43h6115d3f_0 \n",
      "  r-selectr          pkgs/r/noarch::r-selectr-0.4_2-r43h6115d3f_0 \n",
      "  r-stringi          pkgs/r/linux-64::r-stringi-1.7.12-r43h884c59f_0 \n",
      "  r-stringr          pkgs/r/noarch::r-stringr-1.5.0-r43h6115d3f_0 \n",
      "  r-sys              pkgs/r/linux-64::r-sys-3.4.2-r43h76d94ec_0 \n",
      "  r-systemfonts      pkgs/r/linux-64::r-systemfonts-1.0.5-r43h884c59f_0 \n",
      "  r-textshaping      pkgs/r/linux-64::r-textshaping-0.3.7-r43h884c59f_0 \n",
      "  r-tibble           pkgs/r/linux-64::r-tibble-3.2.1-r43h76d94ec_0 \n",
      "  r-tidyr            pkgs/r/linux-64::r-tidyr-1.3.0-r43h884c59f_0 \n",
      "  r-tidyselect       pkgs/r/noarch::r-tidyselect-1.2.0-r43h6115d3f_0 \n",
      "  r-tidyverse        pkgs/r/noarch::r-tidyverse-2.0.0-r43h6115d3f_0 \n",
      "  r-timechange       pkgs/r/linux-64::r-timechange-0.2.0-r43h884c59f_0 \n",
      "  r-tinytex          pkgs/r/noarch::r-tinytex-0.48-r43h142f84f_0 \n",
      "  r-tzdb             pkgs/r/linux-64::r-tzdb-0.4.0-r43h884c59f_0 \n",
      "  r-viridislite      pkgs/r/noarch::r-viridislite-0.4.2-r43h6115d3f_0 \n",
      "  r-vroom            pkgs/r/linux-64::r-vroom-1.6.4-r43h884c59f_0 \n",
      "  r-withr            pkgs/r/noarch::r-withr-2.5.1-r43h6115d3f_0 \n",
      "  r-xfun             pkgs/r/linux-64::r-xfun-0.40-r43h76d94ec_0 \n",
      "  r-xml2             pkgs/r/linux-64::r-xml2-1.3.6-r43h884c59f_0 \n",
      "  r-yaml             pkgs/r/linux-64::r-yaml-2.3.7-r43h76d94ec_0 \n",
      "\n",
      "\n",
      "Preparing transaction: ...working... done\n",
      "Verifying transaction: ...working... done\n",
      "Executing transaction: ...working... done\n",
      "Channels:\n",
      " - anaconda\n",
      " - defaults\n",
      " - conda-forge\n",
      "Platform: linux-64\n",
      "Collecting package metadata (repodata.json): ...working... done\n",
      "Solving environment: ...working... done\n",
      "\n",
      "## Package Plan ##\n",
      "\n",
      "  environment location: /home/sfgary/pw/.miniconda3c\n",
      "\n",
      "  added / updated specs:\n",
      "    - r-ggextra\n",
      "\n",
      "\n",
      "The following packages will be downloaded:\n",
      "\n",
      "    package                    |            build\n",
      "    ---------------------------|-----------------\n",
      "    r-colourpicker-1.3.0       |    r43h6115d3f_0         1.2 MB\n",
      "    r-commonmark-1.9.0         |    r43h76d94ec_0         131 KB\n",
      "    r-ggextra-0.10.1           |    r43h6115d3f_0         330 KB\n",
      "    r-htmlwidgets-1.6.2        |    r43h6115d3f_0         410 KB\n",
      "    r-httpuv-1.6.11            |    r43h884c59f_0         764 KB\n",
      "    r-later-1.3.1              |    r43h884c59f_0         127 KB\n",
      "    r-miniui-0.1.1.1           |    r43h6115d3f_0          50 KB\n",
      "    r-promises-1.2.1           |    r43h884c59f_0         1.5 MB\n",
      "    r-rcpp-1.0.11              |    r43h884c59f_0         1.9 MB\n",
      "    r-shiny-1.7.5.1            |    r43h6115d3f_0         3.3 MB\n",
      "    r-shinyjs-2.1.0            |    r43h6115d3f_0        1002 KB\n",
      "    r-sourcetools-0.1.7_1      |    r43h884c59f_0          50 KB\n",
      "    r-xtable-1.8_4             |    r43h6115d3f_0         677 KB\n",
      "    ------------------------------------------------------------\n",
      "                                           Total:        11.4 MB\n",
      "\n",
      "The following NEW packages will be INSTALLED:\n",
      "\n",
      "  r-colourpicker     pkgs/r/noarch::r-colourpicker-1.3.0-r43h6115d3f_0 \n",
      "  r-commonmark       pkgs/r/linux-64::r-commonmark-1.9.0-r43h76d94ec_0 \n",
      "  r-ggextra          pkgs/r/noarch::r-ggextra-0.10.1-r43h6115d3f_0 \n",
      "  r-htmlwidgets      pkgs/r/noarch::r-htmlwidgets-1.6.2-r43h6115d3f_0 \n",
      "  r-httpuv           pkgs/r/linux-64::r-httpuv-1.6.11-r43h884c59f_0 \n",
      "  r-later            pkgs/r/linux-64::r-later-1.3.1-r43h884c59f_0 \n",
      "  r-miniui           pkgs/r/noarch::r-miniui-0.1.1.1-r43h6115d3f_0 \n",
      "  r-promises         pkgs/r/linux-64::r-promises-1.2.1-r43h884c59f_0 \n",
      "  r-rcpp             pkgs/r/linux-64::r-rcpp-1.0.11-r43h884c59f_0 \n",
      "  r-shiny            pkgs/r/noarch::r-shiny-1.7.5.1-r43h6115d3f_0 \n",
      "  r-shinyjs          pkgs/r/noarch::r-shinyjs-2.1.0-r43h6115d3f_0 \n",
      "  r-sourcetools      pkgs/r/linux-64::r-sourcetools-0.1.7_1-r43h884c59f_0 \n",
      "  r-xtable           pkgs/r/noarch::r-xtable-1.8_4-r43h6115d3f_0 \n",
      "\n",
      "\n",
      "Preparing transaction: ...working... done\n",
      "Verifying transaction: ...working... done\n",
      "Executing transaction: ...working... done\n"
     ]
    }
   ],
   "source": [
    "# Run once at start of notebook if these \n",
    "# packages are not already installed\n",
    "! conda install -y -q pandas numpy matplotlib\n",
    "! conda install -y -q papermill\n",
    "! conda install -y -q scikit-learn\n",
    "\n",
    "# Packages needed for R notebook\n",
    "# Conda install pulls binaries from conda-forge, much faster than\n",
    "# installing direct from CRAN (and building from source).\n",
    "# ALso, some packages have linking errors when building \n",
    "# from source.\n",
    "\n",
    "# Install packages from Conda Forge (Option 2, above)\n",
    "#! conda install -y -q -c conda-forge r-tidyverse\n",
    "#! conda install -y -q -c conda-forge r-colourpicker\n",
    "#! conda install -y -q -c conda-forge r-emmeans\n",
    "#! conda install -y -q -c conda-forge r-ggspatial\n",
    "#! conda install -y -q -c conda-forge r-spdata\n",
    "#! conda install -y -q -c conda-forge r-ggpmisc\n",
    "#! conda install -y -q -c conda-forge r-ggextra\n",
    "#! conda install -y -q -c conda-forge r-patchwork\n",
    "\n",
    "# Install packages from Anaconda (Option 3, above)\n",
    "! conda install -y -q -c anaconda r-tidyverse\n",
    "! conda install -y -q -c anaconda r-ggextra\n",
    "\n",
    "# Convert from .Rmd. Not used\n",
    "#! conda install -y -q jupytext\n",
    "\n",
    "# Get an environment definition file for reproducibility\n",
    "# (i.e. you can rebuild this environment with `conda env update --name <env_name> -f icon-modex-scatter-plot-conda-env.yaml`\n",
    "! conda env export > icon-modex-scatter-plot-conda-env.yaml"
   ]
  },
  {
   "cell_type": "code",
   "execution_count": 32,
   "id": "f2526f27",
   "metadata": {
    "tags": []
   },
   "outputs": [],
   "source": [
    "import pandas as pd\n",
    "import numpy as np\n",
    "import papermill as pm\n",
    "import matplotlib.pyplot as plt\n",
    "from sklearn.metrics import roc_auc_score\n",
    "\n",
    "# Convert .Rmd subscript to .ipynb\n",
    "#! jupytext --to notebook make_scatter_plot.Rmd"
   ]
  },
  {
   "cell_type": "markdown",
   "id": "81ae95d7",
   "metadata": {},
   "source": [
    "## Clone source repository"
   ]
  },
  {
   "cell_type": "code",
   "execution_count": 2,
   "id": "3cc380de",
   "metadata": {
    "tags": []
   },
   "outputs": [
    {
     "name": "stdout",
     "output_type": "stream",
     "text": [
      "fatal: destination path 'dynamic-learning-rivers' already exists and is not an empty directory.\n"
     ]
    }
   ],
   "source": [
    "repo_prefix = '~/tmp/'\n",
    "repo_org='parallelworks'\n",
    "repo_name='dynamic-learning-rivers'\n",
    "repo_url = 'https://github.com/'+repo_org+'/'+repo_name\n",
    "\n",
    "! mkdir -p {repo_prefix}\n",
    "! cd {repo_prefix}; git clone {repo_url}"
   ]
  },
  {
   "cell_type": "markdown",
   "id": "1d3974b3",
   "metadata": {},
   "source": [
    "## Grab data and save to CSV\n",
    "Here we want to track the model score over ModEx iterations."
   ]
  },
  {
   "cell_type": "code",
   "execution_count": 49,
   "id": "a34ce113-6aaf-4815-a6f2-cccb2bfa3846",
   "metadata": {
    "tags": []
   },
   "outputs": [],
   "source": [
    "# Functionalize all the data preporatory steps based on the\n",
    "# branch name.\n",
    "def prep_data_on_branch(repo_prefix=repo_prefix, repo_name=repo_name, branch_name='main', target_name='Normalized_Respiration_Rate_mg_DO_per_H_per_L_sediment'):\n",
    "\n",
    "    # Change to the requested branch\n",
    "    ! cd {repo_prefix}/{repo_name}; git checkout {branch_name}\n",
    "    \n",
    "    # Create a working directory for this branch\n",
    "    ! mkdir -p ./intermediate_branch_data/{branch_name}\n",
    "    \n",
    "    # Load data we want to prepare/merge/preprocess\n",
    "    data_prefix=repo_prefix+'/'+repo_name\n",
    "    main_input = pd.read_csv(data_prefix+\"/scripts/prep_01_output_train.csv\")\n",
    "    avg_output = pd.read_csv(data_prefix+'/scripts/post_01_output_ml_predict_avg.csv')\n",
    "    std_output = pd.read_csv(data_prefix+'/scripts/post_01_output_ml_predict_std.csv')\n",
    "    \n",
    "    # Use Sample_ID as the index so files can be merged on this value\n",
    "    main_input.set_index('Sample_ID',inplace=True)\n",
    "    avg_output.set_index('Sample_ID',inplace=True)\n",
    "    std_output.set_index('Sample_ID',inplace=True)\n",
    "\n",
    "    # Merge files\n",
    "    avg_merge = pd.merge(\n",
    "        main_input,\n",
    "        avg_output, \n",
    "        left_index=True,\n",
    "        right_index=True,\n",
    "        suffixes=['_obs','_pre_avg'])\n",
    "    \n",
    "    # Add log calculations for use with R notebook\n",
    "    avg_merge['Log_Observed_Normalized_Respiration_Rate'] = np.log10(np.abs(avg_merge[target_name+'_obs']))\n",
    "    avg_merge['Log_Predicted_Normalized_Respiration_Rate'] = np.log10(np.abs(avg_merge[target_name+'_pre_avg']))\n",
    "    \n",
    "    all_merge = pd.merge(\n",
    "        avg_merge,\n",
    "        std_output, \n",
    "        left_index=True,\n",
    "        right_index=True,\n",
    "        suffixes=['','_pre_std'])\n",
    "\n",
    "    predict_and_obs_merge = pd.merge(\n",
    "        avg_output,\n",
    "        std_output,\n",
    "        left_index=True,\n",
    "        right_index=True,\n",
    "        suffixes=['_pre_avg','_pre_std'])\n",
    "    \n",
    "    # Write intermediate output files\n",
    "    # Name it the same as what the R notebook expects...\n",
    "    avg_merge.to_csv('intermediate_branch_data/'+branch_name+'/ICON-ModEx_Combined_Predicted_Observed_Respiration_Rates.csv',mode='w')\n",
    "    all_merge.to_csv('intermediate_branch_data/'+branch_name+'/output_obs_avgpre_stdpre_merged.csv',mode='w')\n",
    "    predict_and_obs_merge.to_csv('intermediate_branch_data/'+branch_name+'/output_all_sites_avgpre_stdpre_merged.csv',mode='w')\n"
   ]
  },
  {
   "cell_type": "code",
   "execution_count": 60,
   "id": "325fb9ef",
   "metadata": {
    "tags": []
   },
   "outputs": [
    {
     "name": "stdout",
     "output_type": "stream",
     "text": [
      "Switched to branch 'Dec-2021'\n",
      "Your branch is up to date with 'origin/Dec-2021'.\n",
      "Switched to branch 'Jul-2022'\n",
      "Your branch is up to date with 'origin/Jul-2022'.\n",
      "Updating files: 100% (185/185), done.\n",
      "Switched to branch 'Aug-2022'\n",
      "Your branch is up to date with 'origin/Aug-2022'.\n",
      "Updating files: 100% (185/185), done.\n",
      "Switched to branch 'Sep-2022'\n",
      "Your branch is up to date with 'origin/Sep-2022'.\n",
      "Updating files: 100% (185/185), done.\n",
      "Switched to branch 'Oct-2022'\n",
      "Your branch is up to date with 'origin/Oct-2022'.\n",
      "Switched to branch 'Nov-2022'\n",
      "Your branch is up to date with 'origin/Nov-2022'.\n",
      "Switched to branch 'Dec-2022'\n",
      "Your branch is up to date with 'origin/Dec-2022'.\n",
      "Updating files: 100% (185/185), done.\n",
      "Switched to branch 'Jan-2023'\n",
      "Your branch is up to date with 'origin/Jan-2023'.\n",
      "Switched to branch 'Feb-2023'\n",
      "Your branch is up to date with 'origin/Feb-2023'.\n",
      "Updating files: 100% (185/185), done.\n",
      "Switched to branch 'Mar-2023'\n",
      "Your branch is up to date with 'origin/Mar-2023'.\n",
      "Switched to branch 'ICON-ModEx-v2.1-April-2023-replicate-01'\n",
      "Your branch is up to date with 'origin/ICON-ModEx-v2.1-April-2023-replicate-01'.\n",
      "Updating files: 100% (139/139), done.\n",
      "Switched to branch 'ICON-ModEx-v2.1-April-2023-replicate-02'\n",
      "Your branch is up to date with 'origin/ICON-ModEx-v2.1-April-2023-replicate-02'.\n",
      "Updating files: 100% (197/197), done.\n",
      "Switched to branch 'May-2023'\n",
      "Your branch is up to date with 'origin/May-2023'.\n",
      "Switched to branch 'June-2023'\n",
      "Your branch is up to date with 'origin/June-2023'.\n",
      "Switched to branch 'Jul-2023'\n",
      "Your branch is up to date with 'origin/Jul-2023'.\n",
      "Updating files: 100% (259/259), done.\n",
      "Switched to branch 'August-2023'\n",
      "Your branch is up to date with 'origin/August-2023'.\n",
      "Updating files: 100% (272/272), done.\n",
      "Switched to branch 'Sep-2023'\n",
      "Your branch is up to date with 'origin/Sep-2023'.\n",
      "Updating files: 100% (280/280), done.\n",
      "Switched to branch 'Oct-2023'\n",
      "Your branch is up to date with 'origin/Oct-2023'.\n",
      "Updating files: 100% (289/289), done.\n",
      "Switched to branch 'Nov-2023'\n",
      "Your branch is up to date with 'origin/Nov-2023'.\n",
      "Updating files: 100% (399/399), done.\n",
      "Switched to branch 'Dec-2021-log10'\n",
      "Your branch is up to date with 'origin/Dec-2021-log10'.\n"
     ]
    },
    {
     "name": "stderr",
     "output_type": "stream",
     "text": [
      "Translator for 'R' language does not support parameter introspection.\n",
      "Passed unknown parameter: work_dir\n"
     ]
    },
    {
     "data": {
      "application/vnd.jupyter.widget-view+json": {
       "model_id": "3873850493b64a5098417266a64ab708",
       "version_major": 2,
       "version_minor": 0
      },
      "text/plain": [
       "Executing:   0%|          | 0/16 [00:00<?, ?cell/s]"
      ]
     },
     "metadata": {},
     "output_type": "display_data"
    },
    {
     "name": "stderr",
     "output_type": "stream",
     "text": [
      "\n",
      "Execution halted\n"
     ]
    },
    {
     "name": "stdout",
     "output_type": "stream",
     "text": [
      "Updating files: 100% (327/327), done.\n",
      "Switched to branch 'Sep-2019-log10'\n",
      "Your branch is up to date with 'origin/Sep-2019-log10'.\n"
     ]
    },
    {
     "name": "stderr",
     "output_type": "stream",
     "text": [
      "Translator for 'R' language does not support parameter introspection.\n",
      "Passed unknown parameter: work_dir\n"
     ]
    },
    {
     "data": {
      "application/vnd.jupyter.widget-view+json": {
       "model_id": "3764a2af155941b0bec8170a2a0219d5",
       "version_major": 2,
       "version_minor": 0
      },
      "text/plain": [
       "Executing:   0%|          | 0/16 [00:00<?, ?cell/s]"
      ]
     },
     "metadata": {},
     "output_type": "display_data"
    },
    {
     "name": "stderr",
     "output_type": "stream",
     "text": [
      "\n",
      "Execution halted\n"
     ]
    },
    {
     "name": "stdout",
     "output_type": "stream",
     "text": [
      "Updating files: 100% (344/344), done.\n",
      "Switched to branch 'Jul-2022-log10'\n",
      "Your branch is up to date with 'origin/Jul-2022-log10'.\n"
     ]
    },
    {
     "name": "stderr",
     "output_type": "stream",
     "text": [
      "Translator for 'R' language does not support parameter introspection.\n",
      "Passed unknown parameter: work_dir\n"
     ]
    },
    {
     "data": {
      "application/vnd.jupyter.widget-view+json": {
       "model_id": "e1d43efe0237416e8365f9bd2dc5d8cd",
       "version_major": 2,
       "version_minor": 0
      },
      "text/plain": [
       "Executing:   0%|          | 0/16 [00:00<?, ?cell/s]"
      ]
     },
     "metadata": {},
     "output_type": "display_data"
    },
    {
     "name": "stderr",
     "output_type": "stream",
     "text": [
      "\n",
      "Execution halted\n"
     ]
    },
    {
     "name": "stdout",
     "output_type": "stream",
     "text": [
      "Switched to branch 'Aug-2022-log10'\n",
      "Your branch is up to date with 'origin/Aug-2022-log10'.\n"
     ]
    },
    {
     "name": "stderr",
     "output_type": "stream",
     "text": [
      "Translator for 'R' language does not support parameter introspection.\n",
      "Passed unknown parameter: work_dir\n"
     ]
    },
    {
     "data": {
      "application/vnd.jupyter.widget-view+json": {
       "model_id": "1a36dd029932428d9e93ddbb13d1820b",
       "version_major": 2,
       "version_minor": 0
      },
      "text/plain": [
       "Executing:   0%|          | 0/16 [00:00<?, ?cell/s]"
      ]
     },
     "metadata": {},
     "output_type": "display_data"
    },
    {
     "name": "stderr",
     "output_type": "stream",
     "text": [
      "\n",
      "Execution halted\n"
     ]
    },
    {
     "name": "stdout",
     "output_type": "stream",
     "text": [
      "Updating files: 100% (299/299), done.\n",
      "Switched to branch 'Sep-2022-log10'\n",
      "Your branch is up to date with 'origin/Sep-2022-log10'.\n"
     ]
    },
    {
     "name": "stderr",
     "output_type": "stream",
     "text": [
      "Translator for 'R' language does not support parameter introspection.\n",
      "Passed unknown parameter: work_dir\n"
     ]
    },
    {
     "data": {
      "application/vnd.jupyter.widget-view+json": {
       "model_id": "45c44a905a564203923a3f443b133b51",
       "version_major": 2,
       "version_minor": 0
      },
      "text/plain": [
       "Executing:   0%|          | 0/16 [00:00<?, ?cell/s]"
      ]
     },
     "metadata": {},
     "output_type": "display_data"
    },
    {
     "name": "stderr",
     "output_type": "stream",
     "text": [
      "\n",
      "Execution halted\n"
     ]
    },
    {
     "name": "stdout",
     "output_type": "stream",
     "text": [
      "Updating files: 100% (299/299), done.\n",
      "Switched to branch 'Oct-2022-log10'\n",
      "Your branch is up to date with 'origin/Oct-2022-log10'.\n"
     ]
    },
    {
     "name": "stderr",
     "output_type": "stream",
     "text": [
      "Translator for 'R' language does not support parameter introspection.\n",
      "Passed unknown parameter: work_dir\n"
     ]
    },
    {
     "data": {
      "application/vnd.jupyter.widget-view+json": {
       "model_id": "1c7f705b3dab4fc1a78aa84502dc4d0e",
       "version_major": 2,
       "version_minor": 0
      },
      "text/plain": [
       "Executing:   0%|          | 0/16 [00:00<?, ?cell/s]"
      ]
     },
     "metadata": {},
     "output_type": "display_data"
    },
    {
     "name": "stderr",
     "output_type": "stream",
     "text": [
      "\n",
      "Execution halted\n"
     ]
    },
    {
     "name": "stdout",
     "output_type": "stream",
     "text": [
      "Updating files: 100% (299/299), done.\n",
      "Switched to branch 'Nov-2022-log10'\n",
      "Your branch is up to date with 'origin/Nov-2022-log10'.\n"
     ]
    },
    {
     "name": "stderr",
     "output_type": "stream",
     "text": [
      "Translator for 'R' language does not support parameter introspection.\n",
      "Passed unknown parameter: work_dir\n"
     ]
    },
    {
     "data": {
      "application/vnd.jupyter.widget-view+json": {
       "model_id": "d15795e4afb040678c7ec694969dd272",
       "version_major": 2,
       "version_minor": 0
      },
      "text/plain": [
       "Executing:   0%|          | 0/16 [00:00<?, ?cell/s]"
      ]
     },
     "metadata": {},
     "output_type": "display_data"
    },
    {
     "name": "stderr",
     "output_type": "stream",
     "text": [
      "\n",
      "Execution halted\n"
     ]
    },
    {
     "name": "stdout",
     "output_type": "stream",
     "text": [
      "Switched to branch 'Dec-2022-log10'\n",
      "Your branch is up to date with 'origin/Dec-2022-log10'.\n"
     ]
    },
    {
     "name": "stderr",
     "output_type": "stream",
     "text": [
      "Translator for 'R' language does not support parameter introspection.\n",
      "Passed unknown parameter: work_dir\n"
     ]
    },
    {
     "data": {
      "application/vnd.jupyter.widget-view+json": {
       "model_id": "9e7313e83fbe45c49aeadc12355c24a1",
       "version_major": 2,
       "version_minor": 0
      },
      "text/plain": [
       "Executing:   0%|          | 0/16 [00:00<?, ?cell/s]"
      ]
     },
     "metadata": {},
     "output_type": "display_data"
    },
    {
     "name": "stderr",
     "output_type": "stream",
     "text": [
      "\n",
      "Execution halted\n"
     ]
    },
    {
     "name": "stdout",
     "output_type": "stream",
     "text": [
      "Switched to branch 'Jan-2023-log10'\n",
      "Your branch is up to date with 'origin/Jan-2023-log10'.\n"
     ]
    },
    {
     "name": "stderr",
     "output_type": "stream",
     "text": [
      "Translator for 'R' language does not support parameter introspection.\n",
      "Passed unknown parameter: work_dir\n"
     ]
    },
    {
     "data": {
      "application/vnd.jupyter.widget-view+json": {
       "model_id": "65442f11b6ec46938f10552105d2e1fa",
       "version_major": 2,
       "version_minor": 0
      },
      "text/plain": [
       "Executing:   0%|          | 0/16 [00:00<?, ?cell/s]"
      ]
     },
     "metadata": {},
     "output_type": "display_data"
    },
    {
     "name": "stderr",
     "output_type": "stream",
     "text": [
      "\n",
      "Execution halted\n"
     ]
    },
    {
     "name": "stdout",
     "output_type": "stream",
     "text": [
      "Updating files: 100% (299/299), done.\n",
      "Switched to branch 'Feb-2023-log10'\n",
      "Your branch is up to date with 'origin/Feb-2023-log10'.\n"
     ]
    },
    {
     "name": "stderr",
     "output_type": "stream",
     "text": [
      "Translator for 'R' language does not support parameter introspection.\n",
      "Passed unknown parameter: work_dir\n"
     ]
    },
    {
     "data": {
      "application/vnd.jupyter.widget-view+json": {
       "model_id": "8af2e9f792fc4e22bfcc90ff9c6c6ae1",
       "version_major": 2,
       "version_minor": 0
      },
      "text/plain": [
       "Executing:   0%|          | 0/16 [00:00<?, ?cell/s]"
      ]
     },
     "metadata": {},
     "output_type": "display_data"
    },
    {
     "name": "stderr",
     "output_type": "stream",
     "text": [
      "\n",
      "Execution halted\n"
     ]
    },
    {
     "name": "stdout",
     "output_type": "stream",
     "text": [
      "Updating files: 100% (299/299), done.\n",
      "Switched to branch 'Mar-2023-log10'\n",
      "Your branch is up to date with 'origin/Mar-2023-log10'.\n"
     ]
    },
    {
     "name": "stderr",
     "output_type": "stream",
     "text": [
      "Translator for 'R' language does not support parameter introspection.\n",
      "Passed unknown parameter: work_dir\n"
     ]
    },
    {
     "data": {
      "application/vnd.jupyter.widget-view+json": {
       "model_id": "25edd96687a3430c89f16cf0d1724b50",
       "version_major": 2,
       "version_minor": 0
      },
      "text/plain": [
       "Executing:   0%|          | 0/16 [00:00<?, ?cell/s]"
      ]
     },
     "metadata": {},
     "output_type": "display_data"
    },
    {
     "name": "stderr",
     "output_type": "stream",
     "text": [
      "\n",
      "Execution halted\n"
     ]
    },
    {
     "name": "stdout",
     "output_type": "stream",
     "text": [
      "Updating files: 100% (299/299), done.\n",
      "Switched to branch 'Apr-2023-log10'\n",
      "Your branch is up to date with 'origin/Apr-2023-log10'.\n"
     ]
    },
    {
     "name": "stderr",
     "output_type": "stream",
     "text": [
      "Translator for 'R' language does not support parameter introspection.\n",
      "Passed unknown parameter: work_dir\n"
     ]
    },
    {
     "data": {
      "application/vnd.jupyter.widget-view+json": {
       "model_id": "6e39e4afd85a4bd2b1175521d88b3599",
       "version_major": 2,
       "version_minor": 0
      },
      "text/plain": [
       "Executing:   0%|          | 0/16 [00:00<?, ?cell/s]"
      ]
     },
     "metadata": {},
     "output_type": "display_data"
    },
    {
     "name": "stderr",
     "output_type": "stream",
     "text": [
      "\n",
      "Execution halted\n"
     ]
    },
    {
     "name": "stdout",
     "output_type": "stream",
     "text": [
      "Switched to branch 'May-2023-log10'\n",
      "Your branch is up to date with 'origin/May-2023-log10'.\n"
     ]
    },
    {
     "name": "stderr",
     "output_type": "stream",
     "text": [
      "Translator for 'R' language does not support parameter introspection.\n",
      "Passed unknown parameter: work_dir\n"
     ]
    },
    {
     "data": {
      "application/vnd.jupyter.widget-view+json": {
       "model_id": "f8a719e1898742a6a95b5c17a870a00c",
       "version_major": 2,
       "version_minor": 0
      },
      "text/plain": [
       "Executing:   0%|          | 0/16 [00:00<?, ?cell/s]"
      ]
     },
     "metadata": {},
     "output_type": "display_data"
    },
    {
     "name": "stderr",
     "output_type": "stream",
     "text": [
      "\n",
      "Execution halted\n"
     ]
    },
    {
     "name": "stdout",
     "output_type": "stream",
     "text": [
      "Switched to branch 'June-2023-log10'\n",
      "Your branch is up to date with 'origin/June-2023-log10'.\n"
     ]
    },
    {
     "name": "stderr",
     "output_type": "stream",
     "text": [
      "Translator for 'R' language does not support parameter introspection.\n",
      "Passed unknown parameter: work_dir\n"
     ]
    },
    {
     "data": {
      "application/vnd.jupyter.widget-view+json": {
       "model_id": "b12cf7c93c7f4bb39054e10240b2e0bc",
       "version_major": 2,
       "version_minor": 0
      },
      "text/plain": [
       "Executing:   0%|          | 0/16 [00:00<?, ?cell/s]"
      ]
     },
     "metadata": {},
     "output_type": "display_data"
    },
    {
     "name": "stderr",
     "output_type": "stream",
     "text": [
      "\n",
      "Execution halted\n"
     ]
    },
    {
     "name": "stdout",
     "output_type": "stream",
     "text": [
      "Updating files: 100% (299/299), done.\n",
      "Switched to branch 'Jul-2023-log10'\n",
      "Your branch is up to date with 'origin/Jul-2023-log10'.\n"
     ]
    },
    {
     "name": "stderr",
     "output_type": "stream",
     "text": [
      "Translator for 'R' language does not support parameter introspection.\n",
      "Passed unknown parameter: work_dir\n"
     ]
    },
    {
     "data": {
      "application/vnd.jupyter.widget-view+json": {
       "model_id": "5b471b087ab7422ba5ff6a26834a59bb",
       "version_major": 2,
       "version_minor": 0
      },
      "text/plain": [
       "Executing:   0%|          | 0/16 [00:00<?, ?cell/s]"
      ]
     },
     "metadata": {},
     "output_type": "display_data"
    },
    {
     "name": "stderr",
     "output_type": "stream",
     "text": [
      "\n",
      "Execution halted\n"
     ]
    },
    {
     "name": "stdout",
     "output_type": "stream",
     "text": [
      "Updating files: 100% (299/299), done.\n",
      "Switched to branch 'August-2023-log10'\n",
      "Your branch is up to date with 'origin/August-2023-log10'.\n"
     ]
    },
    {
     "name": "stderr",
     "output_type": "stream",
     "text": [
      "Translator for 'R' language does not support parameter introspection.\n",
      "Passed unknown parameter: work_dir\n"
     ]
    },
    {
     "data": {
      "application/vnd.jupyter.widget-view+json": {
       "model_id": "268ef9f2a4ed4626939fbdadedc29fd6",
       "version_major": 2,
       "version_minor": 0
      },
      "text/plain": [
       "Executing:   0%|          | 0/16 [00:00<?, ?cell/s]"
      ]
     },
     "metadata": {},
     "output_type": "display_data"
    },
    {
     "name": "stderr",
     "output_type": "stream",
     "text": [
      "\n",
      "Execution halted\n"
     ]
    },
    {
     "name": "stdout",
     "output_type": "stream",
     "text": [
      "Switched to branch 'Sep-2023-log10'\n",
      "Your branch is up to date with 'origin/Sep-2023-log10'.\n"
     ]
    },
    {
     "name": "stderr",
     "output_type": "stream",
     "text": [
      "Translator for 'R' language does not support parameter introspection.\n",
      "Passed unknown parameter: work_dir\n"
     ]
    },
    {
     "data": {
      "application/vnd.jupyter.widget-view+json": {
       "model_id": "a6b2861c3b8241ecb93b0ac36b1bf54d",
       "version_major": 2,
       "version_minor": 0
      },
      "text/plain": [
       "Executing:   0%|          | 0/16 [00:00<?, ?cell/s]"
      ]
     },
     "metadata": {},
     "output_type": "display_data"
    },
    {
     "name": "stderr",
     "output_type": "stream",
     "text": [
      "\n",
      "Execution halted\n"
     ]
    },
    {
     "name": "stdout",
     "output_type": "stream",
     "text": [
      "Updating files: 100% (299/299), done.\n",
      "Switched to branch 'Oct-2023-log10'\n",
      "Your branch is up to date with 'origin/Oct-2023-log10'.\n"
     ]
    },
    {
     "name": "stderr",
     "output_type": "stream",
     "text": [
      "Translator for 'R' language does not support parameter introspection.\n",
      "Passed unknown parameter: work_dir\n"
     ]
    },
    {
     "data": {
      "application/vnd.jupyter.widget-view+json": {
       "model_id": "e4bd97f4a62043fbb4acc01813a818f5",
       "version_major": 2,
       "version_minor": 0
      },
      "text/plain": [
       "Executing:   0%|          | 0/16 [00:00<?, ?cell/s]"
      ]
     },
     "metadata": {},
     "output_type": "display_data"
    },
    {
     "name": "stderr",
     "output_type": "stream",
     "text": [
      "\n",
      "Execution halted\n"
     ]
    },
    {
     "name": "stdout",
     "output_type": "stream",
     "text": [
      "Updating files: 100% (356/356), done.\n",
      "Switched to branch 'Nov-2023-log10'\n",
      "Your branch is up to date with 'origin/Nov-2023-log10'.\n"
     ]
    },
    {
     "name": "stderr",
     "output_type": "stream",
     "text": [
      "Translator for 'R' language does not support parameter introspection.\n",
      "Passed unknown parameter: work_dir\n"
     ]
    },
    {
     "data": {
      "application/vnd.jupyter.widget-view+json": {
       "model_id": "9dd7860d70a140a8a8f456b8a784dbab",
       "version_major": 2,
       "version_minor": 0
      },
      "text/plain": [
       "Executing:   0%|          | 0/16 [00:00<?, ?cell/s]"
      ]
     },
     "metadata": {},
     "output_type": "display_data"
    },
    {
     "name": "stderr",
     "output_type": "stream",
     "text": [
      "\n",
      "Execution halted\n"
     ]
    },
    {
     "name": "stdout",
     "output_type": "stream",
     "text": [
      "Switched to branch 'Nov-2023-log10-DO-update-correct'\n",
      "Your branch is up to date with 'origin/Nov-2023-log10-DO-update-correct'.\n"
     ]
    },
    {
     "name": "stderr",
     "output_type": "stream",
     "text": [
      "Translator for 'R' language does not support parameter introspection.\n",
      "Passed unknown parameter: work_dir\n"
     ]
    },
    {
     "data": {
      "application/vnd.jupyter.widget-view+json": {
       "model_id": "8064d97354c841c5bf241fc6c8d06b6b",
       "version_major": 2,
       "version_minor": 0
      },
      "text/plain": [
       "Executing:   0%|          | 0/16 [00:00<?, ?cell/s]"
      ]
     },
     "metadata": {},
     "output_type": "display_data"
    },
    {
     "name": "stderr",
     "output_type": "stream",
     "text": [
      "\n",
      "Execution halted\n"
     ]
    }
   ],
   "source": [
    "# Start from fresh! Delete any .csv files that may already be here\n",
    "!rm -f ICON-ModEx_automated_iterations.csv\n",
    "\n",
    "# Define the threshold for strong/weak respiration rates\n",
    "respiration_threshold = -500.0 \n",
    "\n",
    "# List the branches we want to work with\n",
    "list_branches_scale = [\n",
    "    'Dec-2021',\n",
    "    'Jul-2022',\n",
    "    'Aug-2022',\n",
    "    'Sep-2022',\n",
    "    'Oct-2022',\n",
    "    'Nov-2022',\n",
    "    'Dec-2022',\n",
    "    'Jan-2023',\n",
    "    'Feb-2023',\n",
    "    'Mar-2023',\n",
    "    'ICON-ModEx-v2.1-April-2023-replicate-01',\n",
    "    'ICON-ModEx-v2.1-April-2023-replicate-02',\n",
    "    'May-2023',\n",
    "    'June-2023',\n",
    "    'Jul-2023',\n",
    "    'August-2023',\n",
    "    'Sep-2023',\n",
    "    'Oct-2023',\n",
    "    'Nov-2023']\n",
    "\n",
    "list_branches_log10 = [\n",
    "    'Dec-2021-log10',\n",
    "    'Sep-2019-log10',\n",
    "    'Jul-2022-log10',\n",
    "    'Aug-2022-log10',\n",
    "    'Sep-2022-log10',\n",
    "    'Oct-2022-log10',\n",
    "    'Nov-2022-log10',\n",
    "    'Dec-2022-log10',\n",
    "    'Jan-2023-log10',\n",
    "    'Feb-2023-log10',\n",
    "    'Mar-2023-log10',\n",
    "    'Apr-2023-log10',\n",
    "    'May-2023-log10',\n",
    "    'June-2023-log10',\n",
    "    'Jul-2023-log10',\n",
    "    'August-2023-log10',\n",
    "    'Sep-2023-log10',\n",
    "    'Oct-2023-log10',\n",
    "    'Nov-2023-log10',\n",
    "    'Nov-2023-log10-DO-update-correct']\n",
    "\n",
    "# Initialize empty dataframes\n",
    "icon_modex_log10 = pd.DataFrame(columns=['hold-out-avg','hold-out-std','ntrain','roc-auc'])\n",
    "icon_modex_scale = pd.DataFrame(columns=['hold-out-avg','hold-out-std','ntrain','roc-auc'])\n",
    "\n",
    "#=======================================\n",
    "# Gather data over the standard branches\n",
    "#=======================================\n",
    "for bb,branch in enumerate(list_branches_scale):\n",
    "    \n",
    "    # Change to the requested branch\n",
    "    # We do not need to prep_data_on_branch for the non-log10 branches\n",
    "    # since we are not plotting the animation of the scatter. But,\n",
    "    # we do need to do this step to generate the ROC-AUC anyway.\n",
    "    if branch in ['Dec-2021']:\n",
    "        prep_data_on_branch(\n",
    "            repo_prefix=repo_prefix, \n",
    "            repo_name=repo_name, \n",
    "            branch_name=branch, target_name='Respiration_Rate_mg_DO_per_L_per_H')\n",
    "    elif branch in ['June-2023','Jul-2023','August-2023','Sep-2023','Oct-2023','Nov-2023']:\n",
    "        prep_data_on_branch(\n",
    "            repo_prefix=repo_prefix,\n",
    "            repo_name=repo_name,\n",
    "            branch_name=branch, target_name='Normalized_Respiration_Rate_mg_DO_per_H_per_L_sediment')\n",
    "    else:\n",
    "        # Different target name for all other branches\n",
    "        prep_data_on_branch(\n",
    "            repo_prefix=repo_prefix, \n",
    "            repo_name=repo_name, \n",
    "            branch_name=branch, target_name='Respiration_Rate_mg_per_L_per_H')\n",
    "    #!cd {repo_prefix}/{repo_name}; git checkout {branch}\n",
    "    \n",
    "    # We want to get the mean and std of the score and plot that vs the number of inputs to train.\n",
    "    # Each dot will be an ICON-ModEx iteration.\n",
    "    \n",
    "    # This file summarizes the holdout score for all the\n",
    "    # Superlearners for each ICON-ModEx iteration.\n",
    "    holdout_score = pd.read_csv(\n",
    "        repo_prefix+'/'+repo_name+'/output_data/holdout_score.txt', \n",
    "        sep=':', \n",
    "        names=['Value','Number'], \n",
    "        index_col='Value' )\n",
    "    #holdout_score = pd.read_csv(repo+'/output_data/holdout_score.txt', sep=':')\n",
    "    \n",
    "    # This file lists the total number of data available\n",
    "    # (of which 25% is split to the testing set)\n",
    "    # Some of these points are dropped during training due to\n",
    "    # missing values. A better measure of the actual number of\n",
    "    # data points used to train the models is in the \n",
    "    # alternative file which is present after all the \n",
    "    # preprocessing steps are completed.\n",
    "    # RAW INPUT\n",
    "    #input_data = pd.read_csv(repo+'/input_data/ICON-ModEx_Data.csv')\n",
    "    # PREPROCESSED INPUT\n",
    "    input_data = pd.read_csv(repo_prefix+'/'+repo_name+'/scripts/prep_06_output_final_train.csv')\n",
    "    \n",
    "    # Gather data and force binary classification for ROC-AUC\n",
    "    tmp_df = pd.read_csv('intermediate_branch_data/'+branch_name+'/ICON-ModEx_Combined_Predicted_Observed_Respiration_Rates.csv')\n",
    "    y_true = tmp_df['Normalized_Respiration_Rate_mg_DO_per_H_per_L_sediment_obs'] > respiration_threshold\n",
    "    y_score = tmp_df['Normalized_Respiration_Rate_mg_DO_per_H_per_L_sediment_pre_avg'] > respiration_threshold\n",
    "    \n",
    "    icon_modex_scale.loc[len(icon_modex_scale.index)] = [\n",
    "        holdout_score.loc['Avg',:].values[0],\n",
    "        holdout_score.loc['Std',:].values[0],\n",
    "        len(input_data.index),\n",
    "        roc_auc_score(y_true,y_score)\n",
    "    ]\n",
    "\n",
    "#=====================================\n",
    "# Gather data over the -log10 branches\n",
    "#=====================================\n",
    "for bb,branch in enumerate(list_branches_log10):\n",
    "    \n",
    "    # Change to the requested branch\n",
    "    prep_data_on_branch(repo_prefix=repo_prefix, repo_name=repo_name, branch_name=branch)\n",
    "    #!cd {repo_prefix}/{repo_name}; git checkout {branch}\n",
    "    \n",
    "    # We want to get the mean and std of the score and plot that vs the number of inputs to train.\n",
    "    # Each dot will be an ICON-ModEx iteration.\n",
    "    \n",
    "    # This file summarizes the holdout score for all the\n",
    "    # Superlearners for each ICON-ModEx iteration.\n",
    "    holdout_score = pd.read_csv(\n",
    "        repo_prefix+'/'+repo_name+'/output_data/holdout_score.txt', \n",
    "        sep=':', \n",
    "        names=['Value','Number'], \n",
    "        index_col='Value' )\n",
    "    #holdout_score = pd.read_csv(repo+'/output_data/holdout_score.txt', sep=':')\n",
    "    \n",
    "    # This file lists the total number of data available\n",
    "    # (of which 25% is split to the testing set)\n",
    "    # RAW INPUT (see note above)\n",
    "    #input_data = pd.read_csv(repo+'/input_data/ICON-ModEx_Data.csv')\n",
    "    # PREPROCESSED INPUT\n",
    "    input_data = pd.read_csv(repo_prefix+'/'+repo_name+'/scripts/prep_06_output_final_train.csv')\n",
    "    \n",
    "    # Gather data and force binary classification for ROC-AUC\n",
    "    tmp_df = pd.read_csv('intermediate_branch_data/'+branch_name+'/ICON-ModEx_Combined_Predicted_Observed_Respiration_Rates.csv')\n",
    "    y_true = tmp_df['Normalized_Respiration_Rate_mg_DO_per_H_per_L_sediment_obs'] > respiration_threshold\n",
    "    y_score = tmp_df['Normalized_Respiration_Rate_mg_DO_per_H_per_L_sediment_pre_avg'] > respiration_threshold\n",
    "    \n",
    "    icon_modex_log10.loc[len(icon_modex_log10.index)] = [\n",
    "        holdout_score.loc['Avg',:].values[0],\n",
    "        holdout_score.loc['Std',:].values[0],\n",
    "        len(input_data.index),\n",
    "        roc_auc_score(y_true,y_score)\n",
    "    ]\n",
    "    \n",
    "    # We could also grab the histogram of CONUS predictions to check for an evolution of bias over time\n",
    "    # Grab code from the Figure-2 harvestor notebook if needed.\n",
    "    # Use Papermill to launch a notebook\n",
    "    # To list available kernels,\n",
    "    #   jupyter kernelspec list\n",
    "    # The working directory was created by prep_data_on_branch\n",
    "    # The first R kernel execution takes a few extra minutes as\n",
    "    # necessary R packages are installed on-the-fly during the \n",
    "    # first execution of the notebook (but subsequent reruns with\n",
    "    # the same kernel do not need to reinstall).\n",
    "    # Wrap this in try: except: because R-plotting raises an error\n",
    "    # after the plot is made (probably a bounding box issue?)\n",
    "    # that we can ignore.\n",
    "    try:\n",
    "        pm.execute_notebook(\n",
    "            'make_scatter_plot.ipynb',\n",
    "            'log_scatter_plot.ipynb',\n",
    "            parameters=dict(work_dir='./intermediate_branch_data/'+branch),\n",
    "            kernel_name='ir'\n",
    "        )\n",
    "    except:\n",
    "        print('Caught error in notebook. Keep going...')"
   ]
  },
  {
   "cell_type": "code",
   "execution_count": 61,
   "id": "abd1c6f2-888a-46db-a984-c44ccedfd59f",
   "metadata": {
    "tags": []
   },
   "outputs": [
    {
     "name": "stdout",
     "output_type": "stream",
     "text": [
      "'./tmp_100.png' -> 'intermediate_branch_data/Dec-2021-log10/scatter.png'\n",
      "'./tmp_101.png' -> 'intermediate_branch_data/Sep-2019-log10/scatter.png'\n",
      "'./tmp_102.png' -> 'intermediate_branch_data/Jul-2022-log10/scatter.png'\n",
      "'./tmp_103.png' -> 'intermediate_branch_data/Aug-2022-log10/scatter.png'\n",
      "'./tmp_104.png' -> 'intermediate_branch_data/Sep-2022-log10/scatter.png'\n",
      "'./tmp_105.png' -> 'intermediate_branch_data/Oct-2022-log10/scatter.png'\n",
      "'./tmp_106.png' -> 'intermediate_branch_data/Nov-2022-log10/scatter.png'\n",
      "'./tmp_107.png' -> 'intermediate_branch_data/Dec-2022-log10/scatter.png'\n",
      "'./tmp_108.png' -> 'intermediate_branch_data/Jan-2023-log10/scatter.png'\n",
      "'./tmp_109.png' -> 'intermediate_branch_data/Feb-2023-log10/scatter.png'\n",
      "'./tmp_110.png' -> 'intermediate_branch_data/Mar-2023-log10/scatter.png'\n",
      "'./tmp_111.png' -> 'intermediate_branch_data/Apr-2023-log10/scatter.png'\n",
      "'./tmp_112.png' -> 'intermediate_branch_data/May-2023-log10/scatter.png'\n",
      "'./tmp_113.png' -> 'intermediate_branch_data/June-2023-log10/scatter.png'\n",
      "'./tmp_114.png' -> 'intermediate_branch_data/Jul-2023-log10/scatter.png'\n",
      "'./tmp_115.png' -> 'intermediate_branch_data/August-2023-log10/scatter.png'\n",
      "'./tmp_116.png' -> 'intermediate_branch_data/Sep-2023-log10/scatter.png'\n",
      "'./tmp_117.png' -> 'intermediate_branch_data/Oct-2023-log10/scatter.png'\n",
      "'./tmp_118.png' -> 'intermediate_branch_data/Nov-2023-log10/scatter.png'\n",
      "'./tmp_119.png' -> 'intermediate_branch_data/Nov-2023-log10-DO-update-correct/scatter.png'\n",
      "'./tmp_100.png' -> 'intermediate_branch_data/Dec-2021-log10/scatter_no_log.png'\n",
      "'./tmp_101.png' -> 'intermediate_branch_data/Sep-2019-log10/scatter_no_log.png'\n",
      "'./tmp_102.png' -> 'intermediate_branch_data/Jul-2022-log10/scatter_no_log.png'\n",
      "'./tmp_103.png' -> 'intermediate_branch_data/Aug-2022-log10/scatter_no_log.png'\n",
      "'./tmp_104.png' -> 'intermediate_branch_data/Sep-2022-log10/scatter_no_log.png'\n",
      "'./tmp_105.png' -> 'intermediate_branch_data/Oct-2022-log10/scatter_no_log.png'\n",
      "'./tmp_106.png' -> 'intermediate_branch_data/Nov-2022-log10/scatter_no_log.png'\n",
      "'./tmp_107.png' -> 'intermediate_branch_data/Dec-2022-log10/scatter_no_log.png'\n",
      "'./tmp_108.png' -> 'intermediate_branch_data/Jan-2023-log10/scatter_no_log.png'\n",
      "'./tmp_109.png' -> 'intermediate_branch_data/Feb-2023-log10/scatter_no_log.png'\n",
      "'./tmp_110.png' -> 'intermediate_branch_data/Mar-2023-log10/scatter_no_log.png'\n",
      "'./tmp_111.png' -> 'intermediate_branch_data/Apr-2023-log10/scatter_no_log.png'\n",
      "'./tmp_112.png' -> 'intermediate_branch_data/May-2023-log10/scatter_no_log.png'\n",
      "'./tmp_113.png' -> 'intermediate_branch_data/June-2023-log10/scatter_no_log.png'\n",
      "'./tmp_114.png' -> 'intermediate_branch_data/Jul-2023-log10/scatter_no_log.png'\n",
      "'./tmp_115.png' -> 'intermediate_branch_data/August-2023-log10/scatter_no_log.png'\n",
      "'./tmp_116.png' -> 'intermediate_branch_data/Sep-2023-log10/scatter_no_log.png'\n",
      "'./tmp_117.png' -> 'intermediate_branch_data/Oct-2023-log10/scatter_no_log.png'\n",
      "'./tmp_118.png' -> 'intermediate_branch_data/Nov-2023-log10/scatter_no_log.png'\n",
      "'./tmp_119.png' -> 'intermediate_branch_data/Nov-2023-log10-DO-update-correct/scatter_no_log.png'\n"
     ]
    }
   ],
   "source": [
    "# Example with high resolution images\n",
    "#! convert -size 1080x1080 -delay 2 -loop 0 *.png output.gif\n",
    "\n",
    "# Can't use wildcard this b/c lists files alphabetically (i.e. by month \n",
    "# name, not month order).\n",
    "#! convert -delay 2 -loop 0 intermediate_branch_data/*/*.png scatter.gif\n",
    "\n",
    "# Let's just manually prescribe the order since it's not that many \n",
    "# and there are some special cases. Make a temporary symbolic link\n",
    "# to each file locally and name the links so that they go in the\n",
    "# exact order of the ModEx iterations. Then, create the animation\n",
    "# with convert and delete the symbolic links.\n",
    "for bb,branch in enumerate(list_branches_log10):\n",
    "    cc = bb + 100\n",
    "    ! ln -sv intermediate_branch_data/{branch}/scatter.png ./tmp_{cc}.png\n",
    "    \n",
    "! convert -delay 100 -loop 0 tmp_*.png scatter.gif\n",
    "! rm -f tmp_*.png\n",
    "\n",
    "for bb,branch in enumerate(list_branches_log10):\n",
    "    cc = bb + 100\n",
    "    ! ln -sv intermediate_branch_data/{branch}/scatter_no_log.png ./tmp_{cc}.png\n",
    "    \n",
    "! convert -delay 100 -loop 0 tmp_*.png scatter_no_log.gif\n",
    "! rm -f tmp_*.png"
   ]
  },
  {
   "cell_type": "markdown",
   "id": "b679564c",
   "metadata": {},
   "source": [
    "# Load and plot data"
   ]
  },
  {
   "cell_type": "code",
   "execution_count": 62,
   "id": "8b7d3155",
   "metadata": {
    "tags": []
   },
   "outputs": [
    {
     "data": {
      "image/png": "[encoded data removed]",
      "text/plain": [
       "<Figure size 2000x1000 with 2 Axes>"
      ]
     },
     "metadata": {},
     "output_type": "display_data"
    }
   ],
   "source": [
    "icon_modex_manual = pd.read_csv('ICON-ModEx_manual_iterations.csv')\n",
    "\n",
    "# These iterations are the very first automated iterations\n",
    "# presented at AGU2022. They were done in a \"hindcast mode\"\n",
    "# to be able to compare to the manual iterations.\n",
    "icon_modex_raw = pd.read_csv('ICON-ModEx_automated_iterations_raw.csv')\n",
    "\n",
    "fig, [ax, ax2] = plt.subplots(1,2,figsize=(20,10))\n",
    "# No need for manual iterations since recreated by workflow\n",
    "#ax.errorbar(\n",
    "#    icon_modex_manual['ntrain'],\n",
    "#    icon_modex_manual[['hold-out','cv_avg']].max(axis=1),\n",
    "#    yerr=icon_modex_manual['cv_std'],\n",
    "#    fmt='k+',\n",
    "#    ecolor='lightgray',\n",
    "#    capsize=0)\n",
    "#plt.errorbar(\n",
    "#    icon_modex_raw['ntrain'],\n",
    "#    icon_modex_raw['hold-out-avg'],\n",
    "#    yerr=icon_modex_raw['hold-out-std'],\n",
    "#    fmt='ko-',\n",
    "#    ecolor='r',\n",
    "#    capsize=5)\n",
    "ax.errorbar(\n",
    "    icon_modex_scale['ntrain'],\n",
    "    icon_modex_scale['hold-out-avg'],\n",
    "    icon_modex_scale['hold-out-std'],\n",
    "    fmt='ko-',\n",
    "    ecolor='r',\n",
    "    capsize=5)\n",
    "ax.errorbar(\n",
    "    icon_modex_log10['ntrain'],\n",
    "    icon_modex_log10['hold-out-avg'],\n",
    "    icon_modex_log10['hold-out-std'],\n",
    "    fmt='ks',\n",
    "    ecolor='b',\n",
    "    capsize=5)\n",
    "ax.grid()\n",
    "\n",
    "ax2.plot(\n",
    "    icon_modex_scale['ntrain'],\n",
    "    icon_modex_scale['roc-auc'],'r.')\n",
    "ax2.plot(\n",
    "    icon_modex_log10['ntrain'],\n",
    "    icon_modex_log10['roc-auc'],'b.')\n",
    "ax2.grid()\n",
    "\n",
    "plt.ylabel('Avg ML Model Score of Training data set (R2)')\n",
    "plt.xlabel('Total number of samples in input data set')\n",
    "plt.legend(['Manual iterations','ModEx - live','ModEx - log10 hindcast'])\n",
    "plt.savefig('ICON_ModEx_summary.pdf')"
   ]
  },
  {
   "cell_type": "markdown",
   "id": "0bf6b41f",
   "metadata": {},
   "source": [
    "**Figure Caption:** Manual runs were done before AGU2022 as ICON-ModEx ramped up. The \"live\" iterations are the actual ICON-ModEx ML models that generated the results that were used for making decisions of which sites to sample. The hindcast iterations use a log10 filter because this reduces the bias of the ML models (see histogram analysis of Fig2). The big jump in the live iterations is due to the scaling of the respiration rate data with respect to the volume of the analysis container (need to double check this) (i.e. \"Normalization\") in June of 2023. The hindcast runs all take advantage of the scaling and the log10 transform to provide an apples-to-apples comparision of the progress of the ICON-ModEx iterations."
   ]
  },
  {
   "cell_type": "markdown",
   "id": "5161c6fc-ca91-46d5-ad67-34f9fe8fbdab",
   "metadata": {},
   "source": [
    "# Load and plot simplified version"
   ]
  },
  {
   "cell_type": "code",
   "execution_count": 12,
   "id": "162917f8-a430-4b13-a79c-bb8ecf3c4c4b",
   "metadata": {
    "tags": []
   },
   "outputs": [
    {
     "data": {
      "image/png": "[encoded data removed]",
      "text/plain": [
       "<Figure size 640x480 with 1 Axes>"
      ]
     },
     "metadata": {},
     "output_type": "display_data"
    }
   ],
   "source": [
    "icon_modex_manual = pd.read_csv('ICON-ModEx_manual_iterations.csv')\n",
    "\n",
    "# These iterations are the very first automated iterations\n",
    "# presented at AGU2022. They were done in a \"hindcast mode\"\n",
    "# to be able to compare to the manual iterations.\n",
    "icon_modex_raw = pd.read_csv('ICON-ModEx_automated_iterations_raw.csv')\n",
    "\n",
    "fig, ax = plt.subplots()\n",
    "plt.errorbar(\n",
    "    icon_modex_manual['ntrain'],\n",
    "    icon_modex_manual[['hold-out','cv_avg']].max(axis=1),\n",
    "    yerr=icon_modex_manual['cv_std'],\n",
    "    fmt='k+',\n",
    "    ecolor='lightgray',\n",
    "    capsize=0)\n",
    "plt.errorbar(\n",
    "    icon_modex_log10['ntrain'],\n",
    "    icon_modex_log10['hold-out-avg'],\n",
    "    icon_modex_log10['hold-out-std'],\n",
    "    fmt='ks',\n",
    "    ecolor='b',\n",
    "    capsize=5)\n",
    "ax.grid()\n",
    "plt.ylabel('Avg ML Model Score of Training data set (R2)')\n",
    "plt.xlabel('Total number of samples in input data set')\n",
    "plt.legend(['Manual pre-ModEx iterations','ModEx iterations'])\n",
    "plt.savefig('ICON_ModEx_summary_simplified.pdf')"
   ]
  },
  {
   "cell_type": "markdown",
   "id": "d026cf5d-4da4-4d49-93b5-4b2fe53a1a1e",
   "metadata": {},
   "source": [
    "## Temporary experimentation with ROC AUC\n",
    "1. The observations (`y`) must be 0 or 1 (i.e. perfect binary classifiers).\n",
    "2. The predictions can be on a scale from 0 to 1 (i.e. confidence in each classification)\n",
    "3. In our case, we want to know how well hot spots and cold spots are classified. Ideally, we would not force a threshold (i.e. 500 mg O2/L/hour) - but if we have to force a classification based on the observations, we would then need to figure out some kind of normalization of the predictions to go between 0 and 1. The choice of normalization is also arbitary, so there's no way to avoid some kind of arbitrary thresholding in this analysis."
   ]
  },
  {
   "cell_type": "code",
   "execution_count": 14,
   "id": "9bb22f53-a315-40c7-b7a5-f8fd95f7ce95",
   "metadata": {
    "tags": []
   },
   "outputs": [],
   "source": [
    " "
   ]
  },
  {
   "cell_type": "code",
   "execution_count": 31,
   "id": "c1072ac3-a54c-4a0b-9619-06011b36e876",
   "metadata": {
    "tags": []
   },
   "outputs": [],
   "source": [
    "# Generate some example data\n",
    "a = [1, 0, 1, 0, 1]#, 5, 6, 5, 4]\n",
    "b = a #[2, 1, 2, 0, 2, 7, 4, 6, 5]\n",
    "metrics.roc_auc_score(a,b)\n",
    "fpr, tpr, thresholds = metrics.roc_curve(a, b)"
   ]
  },
  {
   "cell_type": "code",
   "execution_count": 29,
   "id": "19c42a8e-54f3-4fc0-ad81-242af0d2f009",
   "metadata": {
    "tags": []
   },
   "outputs": [
    {
     "data": {
      "text/plain": [
       "array([inf,  1.,  0.])"
      ]
     },
     "execution_count": 29,
     "metadata": {},
     "output_type": "execute_result"
    }
   ],
   "source": [
    "thresholds"
   ]
  },
  {
   "cell_type": "code",
   "execution_count": 17,
   "id": "0017e946-ae20-4fce-9989-20d24a299f37",
   "metadata": {
    "tags": []
   },
   "outputs": [
    {
     "data": {
      "text/plain": [
       "0.0"
      ]
     },
     "execution_count": 17,
     "metadata": {},
     "output_type": "execute_result"
    }
   ],
   "source": [
    "b = [0, 1, 0, 1, 0]\n",
    "metrics.roc_auc_score(a,b)"
   ]
  },
  {
   "cell_type": "code",
   "execution_count": 19,
   "id": "9a232962-cd7b-46e9-a0e2-6403707768a7",
   "metadata": {
    "tags": []
   },
   "outputs": [
    {
     "data": {
      "text/plain": [
       "0.5"
      ]
     },
     "execution_count": 19,
     "metadata": {},
     "output_type": "execute_result"
    }
   ],
   "source": [
    "b = [1, 1, 1, 1, 1]\n",
    "metrics.roc_auc_score(a,b)"
   ]
  },
  {
   "cell_type": "code",
   "execution_count": 40,
   "id": "85ddab57-a8da-4c1e-8fd3-a5f06a07037d",
   "metadata": {
    "tags": []
   },
   "outputs": [
    {
     "data": {
      "text/plain": [
       "0.8333333333333334"
      ]
     },
     "execution_count": 40,
     "metadata": {},
     "output_type": "execute_result"
    }
   ],
   "source": [
    "a = [True, False, False, False]\n",
    "b = [True, True, False, False]\n",
    "metrics.roc_auc_score(a,b)"
   ]
  },
  {
   "cell_type": "code",
   "execution_count": 38,
   "id": "ba83ceba-c9f2-41e0-81c8-3274e3c173a8",
   "metadata": {
    "tags": []
   },
   "outputs": [
    {
     "data": {
      "text/plain": [
       "array([inf,  1.,  0.])"
      ]
     },
     "execution_count": 38,
     "metadata": {},
     "output_type": "execute_result"
    }
   ],
   "source": [
    "thresholds"
   ]
  },
  {
   "cell_type": "code",
   "execution_count": 26,
   "id": "0d7be9b2-a355-4c79-9e7b-c533313bb56c",
   "metadata": {
    "tags": []
   },
   "outputs": [
    {
     "data": {
      "text/plain": [
       "array([0. , 0. , 0.5, 0.5, 1. ])"
      ]
     },
     "execution_count": 26,
     "metadata": {},
     "output_type": "execute_result"
    }
   ],
   "source": [
    "fpr"
   ]
  },
  {
   "cell_type": "code",
   "execution_count": 27,
   "id": "57144cea-8e40-464b-8c5d-207a67d913ba",
   "metadata": {
    "tags": []
   },
   "outputs": [
    {
     "data": {
      "text/plain": [
       "array([0. , 0.5, 0.5, 1. , 1. ])"
      ]
     },
     "execution_count": 27,
     "metadata": {},
     "output_type": "execute_result"
    }
   ],
   "source": [
    "tpr"
   ]
  },
  {
   "cell_type": "code",
   "execution_count": 34,
   "id": "2c4bf8fc-5858-4571-9f7f-a15f087f0e1b",
   "metadata": {
    "tags": []
   },
   "outputs": [],
   "source": [
    "branch_name='Nov-2023-log10'\n",
    "tmp_df = pd.read_csv('intermediate_branch_data/'+branch_name+'/ICON-ModEx_Combined_Predicted_Observed_Respiration_Rates.csv')"
   ]
  },
  {
   "cell_type": "code",
   "execution_count": 41,
   "id": "cfc55bc0-ec78-4320-8922-03706efbe1ab",
   "metadata": {
    "tags": []
   },
   "outputs": [
    {
     "data": {
      "text/html": [
       "<div>\n",
       "<style scoped>\n",
       "    .dataframe tbody tr th:only-of-type {\n",
       "        vertical-align: middle;\n",
       "    }\n",
       "\n",
       "    .dataframe tbody tr th {\n",
       "        vertical-align: top;\n",
       "    }\n",
       "\n",
       "    .dataframe thead th {\n",
       "        text-align: right;\n",
       "    }\n",
       "</style>\n",
       "<table border=\"1\" class=\"dataframe\">\n",
       "  <thead>\n",
       "    <tr style=\"text-align: right;\">\n",
       "      <th></th>\n",
       "      <th>Sample_ID</th>\n",
       "      <th>Sample_Longitude_obs</th>\n",
       "      <th>Sample_Latitude_obs</th>\n",
       "      <th>Mean_Temp_Deg_C</th>\n",
       "      <th>pH</th>\n",
       "      <th>Mean_DO_mg_per_L</th>\n",
       "      <th>Mean_DO_percent_saturation</th>\n",
       "      <th>Normalized_Respiration_Rate_mg_DO_per_H_per_L_sediment_obs</th>\n",
       "      <th>Sample_Longitude_pre_avg</th>\n",
       "      <th>Sample_Latitude_pre_avg</th>\n",
       "      <th>Normalized_Respiration_Rate_mg_DO_per_H_per_L_sediment_pre_avg</th>\n",
       "      <th>mean.error</th>\n",
       "      <th>predict.error</th>\n",
       "      <th>pca.dist</th>\n",
       "      <th>mean.error.scaled</th>\n",
       "      <th>pca.dist.scaled</th>\n",
       "      <th>combined.metric</th>\n",
       "      <th>Log_Observed_Normalized_Respiration_Rate</th>\n",
       "      <th>Log_Predicted_Normalized_Respiration_Rate</th>\n",
       "    </tr>\n",
       "  </thead>\n",
       "  <tbody>\n",
       "    <tr>\n",
       "      <th>0</th>\n",
       "      <td>CM_001-1</td>\n",
       "      <td>-117.180494</td>\n",
       "      <td>46.732215</td>\n",
       "      <td>8.66</td>\n",
       "      <td>6.5</td>\n",
       "      <td>10.25</td>\n",
       "      <td>87.93</td>\n",
       "      <td>-41.53</td>\n",
       "      <td>-117.180494</td>\n",
       "      <td>46.732215</td>\n",
       "      <td>-201.733721</td>\n",
       "      <td>65.996270</td>\n",
       "      <td>845.909616</td>\n",
       "      <td>2.618854</td>\n",
       "      <td>0.196483</td>\n",
       "      <td>0.184700</td>\n",
       "      <td>0.036290</td>\n",
       "      <td>1.618362</td>\n",
       "      <td>2.304778</td>\n",
       "    </tr>\n",
       "    <tr>\n",
       "      <th>1</th>\n",
       "      <td>CM_001-2</td>\n",
       "      <td>-117.180494</td>\n",
       "      <td>46.732215</td>\n",
       "      <td>8.66</td>\n",
       "      <td>6.5</td>\n",
       "      <td>10.25</td>\n",
       "      <td>87.93</td>\n",
       "      <td>-47.82</td>\n",
       "      <td>-117.180494</td>\n",
       "      <td>46.732215</td>\n",
       "      <td>-201.733721</td>\n",
       "      <td>65.996270</td>\n",
       "      <td>845.909616</td>\n",
       "      <td>2.618854</td>\n",
       "      <td>0.196483</td>\n",
       "      <td>0.184700</td>\n",
       "      <td>0.036290</td>\n",
       "      <td>1.679610</td>\n",
       "      <td>2.304778</td>\n",
       "    </tr>\n",
       "    <tr>\n",
       "      <th>2</th>\n",
       "      <td>CM_001-3</td>\n",
       "      <td>-117.180494</td>\n",
       "      <td>46.732215</td>\n",
       "      <td>8.66</td>\n",
       "      <td>6.5</td>\n",
       "      <td>10.25</td>\n",
       "      <td>87.93</td>\n",
       "      <td>-42.31</td>\n",
       "      <td>-117.180494</td>\n",
       "      <td>46.732215</td>\n",
       "      <td>-201.733721</td>\n",
       "      <td>65.996270</td>\n",
       "      <td>845.909616</td>\n",
       "      <td>2.618854</td>\n",
       "      <td>0.196483</td>\n",
       "      <td>0.184700</td>\n",
       "      <td>0.036290</td>\n",
       "      <td>1.626443</td>\n",
       "      <td>2.304778</td>\n",
       "    </tr>\n",
       "    <tr>\n",
       "      <th>3</th>\n",
       "      <td>CM_002-1</td>\n",
       "      <td>-77.388447</td>\n",
       "      <td>38.781927</td>\n",
       "      <td>19.95</td>\n",
       "      <td>6.5</td>\n",
       "      <td>9.42</td>\n",
       "      <td>103.51</td>\n",
       "      <td>-83.28</td>\n",
       "      <td>-77.388447</td>\n",
       "      <td>38.781927</td>\n",
       "      <td>-155.999652</td>\n",
       "      <td>66.661657</td>\n",
       "      <td>845.961461</td>\n",
       "      <td>0.200349</td>\n",
       "      <td>0.198187</td>\n",
       "      <td>0.014130</td>\n",
       "      <td>0.002800</td>\n",
       "      <td>1.920541</td>\n",
       "      <td>2.193124</td>\n",
       "    </tr>\n",
       "    <tr>\n",
       "      <th>4</th>\n",
       "      <td>CM_002-2</td>\n",
       "      <td>-77.388447</td>\n",
       "      <td>38.781927</td>\n",
       "      <td>19.95</td>\n",
       "      <td>6.5</td>\n",
       "      <td>9.42</td>\n",
       "      <td>103.51</td>\n",
       "      <td>-173.76</td>\n",
       "      <td>-77.388447</td>\n",
       "      <td>38.781927</td>\n",
       "      <td>-155.999652</td>\n",
       "      <td>66.661657</td>\n",
       "      <td>845.961461</td>\n",
       "      <td>0.200349</td>\n",
       "      <td>0.198187</td>\n",
       "      <td>0.014130</td>\n",
       "      <td>0.002800</td>\n",
       "      <td>2.239950</td>\n",
       "      <td>2.193124</td>\n",
       "    </tr>\n",
       "    <tr>\n",
       "      <th>...</th>\n",
       "      <td>...</td>\n",
       "      <td>...</td>\n",
       "      <td>...</td>\n",
       "      <td>...</td>\n",
       "      <td>...</td>\n",
       "      <td>...</td>\n",
       "      <td>...</td>\n",
       "      <td>...</td>\n",
       "      <td>...</td>\n",
       "      <td>...</td>\n",
       "      <td>...</td>\n",
       "      <td>...</td>\n",
       "      <td>...</td>\n",
       "      <td>...</td>\n",
       "      <td>...</td>\n",
       "      <td>...</td>\n",
       "      <td>...</td>\n",
       "      <td>...</td>\n",
       "      <td>...</td>\n",
       "    </tr>\n",
       "    <tr>\n",
       "      <th>682</th>\n",
       "      <td>S19S_0032-M</td>\n",
       "      <td>-119.023670</td>\n",
       "      <td>36.955030</td>\n",
       "      <td>13.10</td>\n",
       "      <td>7.0</td>\n",
       "      <td>9.35</td>\n",
       "      <td>87.50</td>\n",
       "      <td>-3.73</td>\n",
       "      <td>-119.023670</td>\n",
       "      <td>36.955030</td>\n",
       "      <td>-69.593400</td>\n",
       "      <td>69.072747</td>\n",
       "      <td>846.155292</td>\n",
       "      <td>8.195376</td>\n",
       "      <td>0.205047</td>\n",
       "      <td>0.577994</td>\n",
       "      <td>0.118516</td>\n",
       "      <td>0.571709</td>\n",
       "      <td>1.842568</td>\n",
       "    </tr>\n",
       "    <tr>\n",
       "      <th>683</th>\n",
       "      <td>S19S_0032-U</td>\n",
       "      <td>-119.023750</td>\n",
       "      <td>36.954970</td>\n",
       "      <td>13.10</td>\n",
       "      <td>7.0</td>\n",
       "      <td>9.35</td>\n",
       "      <td>87.50</td>\n",
       "      <td>-46.77</td>\n",
       "      <td>-119.023750</td>\n",
       "      <td>36.954970</td>\n",
       "      <td>-69.593400</td>\n",
       "      <td>69.072747</td>\n",
       "      <td>846.155292</td>\n",
       "      <td>8.195376</td>\n",
       "      <td>0.205047</td>\n",
       "      <td>0.577994</td>\n",
       "      <td>0.118516</td>\n",
       "      <td>1.669967</td>\n",
       "      <td>1.842568</td>\n",
       "    </tr>\n",
       "    <tr>\n",
       "      <th>684</th>\n",
       "      <td>S19S_0089-D</td>\n",
       "      <td>-80.445390</td>\n",
       "      <td>37.210080</td>\n",
       "      <td>20.80</td>\n",
       "      <td>7.0</td>\n",
       "      <td>9.95</td>\n",
       "      <td>118.60</td>\n",
       "      <td>-1185.05</td>\n",
       "      <td>-80.445390</td>\n",
       "      <td>37.210080</td>\n",
       "      <td>-510.756752</td>\n",
       "      <td>70.484424</td>\n",
       "      <td>846.312799</td>\n",
       "      <td>0.567333</td>\n",
       "      <td>0.214940</td>\n",
       "      <td>0.040012</td>\n",
       "      <td>0.008600</td>\n",
       "      <td>3.073737</td>\n",
       "      <td>2.708214</td>\n",
       "    </tr>\n",
       "    <tr>\n",
       "      <th>685</th>\n",
       "      <td>S19S_0089-M</td>\n",
       "      <td>-80.445290</td>\n",
       "      <td>37.210120</td>\n",
       "      <td>20.80</td>\n",
       "      <td>7.0</td>\n",
       "      <td>9.95</td>\n",
       "      <td>118.60</td>\n",
       "      <td>-1138.30</td>\n",
       "      <td>-80.445290</td>\n",
       "      <td>37.210120</td>\n",
       "      <td>-510.756752</td>\n",
       "      <td>70.484424</td>\n",
       "      <td>846.312799</td>\n",
       "      <td>0.567333</td>\n",
       "      <td>0.214940</td>\n",
       "      <td>0.040012</td>\n",
       "      <td>0.008600</td>\n",
       "      <td>3.056257</td>\n",
       "      <td>2.708214</td>\n",
       "    </tr>\n",
       "    <tr>\n",
       "      <th>686</th>\n",
       "      <td>S19S_0089-U</td>\n",
       "      <td>-80.445130</td>\n",
       "      <td>37.210140</td>\n",
       "      <td>20.80</td>\n",
       "      <td>7.0</td>\n",
       "      <td>9.95</td>\n",
       "      <td>118.60</td>\n",
       "      <td>-47.16</td>\n",
       "      <td>-80.445130</td>\n",
       "      <td>37.210140</td>\n",
       "      <td>-510.756752</td>\n",
       "      <td>70.484424</td>\n",
       "      <td>846.312799</td>\n",
       "      <td>0.567333</td>\n",
       "      <td>0.214940</td>\n",
       "      <td>0.040012</td>\n",
       "      <td>0.008600</td>\n",
       "      <td>1.673574</td>\n",
       "      <td>2.708214</td>\n",
       "    </tr>\n",
       "  </tbody>\n",
       "</table>\n",
       "<p>687 rows × 19 columns</p>\n",
       "</div>"
      ],
      "text/plain": [
       "       Sample_ID  Sample_Longitude_obs  Sample_Latitude_obs  Mean_Temp_Deg_C  \\\n",
       "0       CM_001-1           -117.180494            46.732215             8.66   \n",
       "1       CM_001-2           -117.180494            46.732215             8.66   \n",
       "2       CM_001-3           -117.180494            46.732215             8.66   \n",
       "3       CM_002-1            -77.388447            38.781927            19.95   \n",
       "4       CM_002-2            -77.388447            38.781927            19.95   \n",
       "..           ...                   ...                  ...              ...   \n",
       "682  S19S_0032-M           -119.023670            36.955030            13.10   \n",
       "683  S19S_0032-U           -119.023750            36.954970            13.10   \n",
       "684  S19S_0089-D            -80.445390            37.210080            20.80   \n",
       "685  S19S_0089-M            -80.445290            37.210120            20.80   \n",
       "686  S19S_0089-U            -80.445130            37.210140            20.80   \n",
       "\n",
       "      pH  Mean_DO_mg_per_L  Mean_DO_percent_saturation  \\\n",
       "0    6.5             10.25                       87.93   \n",
       "1    6.5             10.25                       87.93   \n",
       "2    6.5             10.25                       87.93   \n",
       "3    6.5              9.42                      103.51   \n",
       "4    6.5              9.42                      103.51   \n",
       "..   ...               ...                         ...   \n",
       "682  7.0              9.35                       87.50   \n",
       "683  7.0              9.35                       87.50   \n",
       "684  7.0              9.95                      118.60   \n",
       "685  7.0              9.95                      118.60   \n",
       "686  7.0              9.95                      118.60   \n",
       "\n",
       "     Normalized_Respiration_Rate_mg_DO_per_H_per_L_sediment_obs  \\\n",
       "0                                               -41.53            \n",
       "1                                               -47.82            \n",
       "2                                               -42.31            \n",
       "3                                               -83.28            \n",
       "4                                              -173.76            \n",
       "..                                                 ...            \n",
       "682                                              -3.73            \n",
       "683                                             -46.77            \n",
       "684                                           -1185.05            \n",
       "685                                           -1138.30            \n",
       "686                                             -47.16            \n",
       "\n",
       "     Sample_Longitude_pre_avg  Sample_Latitude_pre_avg  \\\n",
       "0                 -117.180494                46.732215   \n",
       "1                 -117.180494                46.732215   \n",
       "2                 -117.180494                46.732215   \n",
       "3                  -77.388447                38.781927   \n",
       "4                  -77.388447                38.781927   \n",
       "..                        ...                      ...   \n",
       "682               -119.023670                36.955030   \n",
       "683               -119.023750                36.954970   \n",
       "684                -80.445390                37.210080   \n",
       "685                -80.445290                37.210120   \n",
       "686                -80.445130                37.210140   \n",
       "\n",
       "     Normalized_Respiration_Rate_mg_DO_per_H_per_L_sediment_pre_avg  \\\n",
       "0                                          -201.733721                \n",
       "1                                          -201.733721                \n",
       "2                                          -201.733721                \n",
       "3                                          -155.999652                \n",
       "4                                          -155.999652                \n",
       "..                                                 ...                \n",
       "682                                         -69.593400                \n",
       "683                                         -69.593400                \n",
       "684                                        -510.756752                \n",
       "685                                        -510.756752                \n",
       "686                                        -510.756752                \n",
       "\n",
       "     mean.error  predict.error  pca.dist  mean.error.scaled  pca.dist.scaled  \\\n",
       "0     65.996270     845.909616  2.618854           0.196483         0.184700   \n",
       "1     65.996270     845.909616  2.618854           0.196483         0.184700   \n",
       "2     65.996270     845.909616  2.618854           0.196483         0.184700   \n",
       "3     66.661657     845.961461  0.200349           0.198187         0.014130   \n",
       "4     66.661657     845.961461  0.200349           0.198187         0.014130   \n",
       "..          ...            ...       ...                ...              ...   \n",
       "682   69.072747     846.155292  8.195376           0.205047         0.577994   \n",
       "683   69.072747     846.155292  8.195376           0.205047         0.577994   \n",
       "684   70.484424     846.312799  0.567333           0.214940         0.040012   \n",
       "685   70.484424     846.312799  0.567333           0.214940         0.040012   \n",
       "686   70.484424     846.312799  0.567333           0.214940         0.040012   \n",
       "\n",
       "     combined.metric  Log_Observed_Normalized_Respiration_Rate  \\\n",
       "0           0.036290                                  1.618362   \n",
       "1           0.036290                                  1.679610   \n",
       "2           0.036290                                  1.626443   \n",
       "3           0.002800                                  1.920541   \n",
       "4           0.002800                                  2.239950   \n",
       "..               ...                                       ...   \n",
       "682         0.118516                                  0.571709   \n",
       "683         0.118516                                  1.669967   \n",
       "684         0.008600                                  3.073737   \n",
       "685         0.008600                                  3.056257   \n",
       "686         0.008600                                  1.673574   \n",
       "\n",
       "     Log_Predicted_Normalized_Respiration_Rate  \n",
       "0                                     2.304778  \n",
       "1                                     2.304778  \n",
       "2                                     2.304778  \n",
       "3                                     2.193124  \n",
       "4                                     2.193124  \n",
       "..                                         ...  \n",
       "682                                   1.842568  \n",
       "683                                   1.842568  \n",
       "684                                   2.708214  \n",
       "685                                   2.708214  \n",
       "686                                   2.708214  \n",
       "\n",
       "[687 rows x 19 columns]"
      ]
     },
     "execution_count": 41,
     "metadata": {},
     "output_type": "execute_result"
    }
   ],
   "source": [
    "tmp_df"
   ]
  },
  {
   "cell_type": "code",
   "execution_count": null,
   "id": "5a602e68-875d-4185-bc60-87d72fb04863",
   "metadata": {},
   "outputs": [],
   "source": []
  }
 ],
 "metadata": {
  "kernelspec": {
   "display_name": "Python 3 (ipykernel)",
   "language": "python",
   "name": "python3"
  },
  "language_info": {
   "codemirror_mode": {
    "name": "ipython",
    "version": 3
   },
   "file_extension": ".py",
   "mimetype": "text/x-python",
   "name": "python",
   "nbconvert_exporter": "python",
   "pygments_lexer": "ipython3",
   "version": "3.11.5"
  }
 },
 "nbformat": 4,
 "nbformat_minor": 5
}
