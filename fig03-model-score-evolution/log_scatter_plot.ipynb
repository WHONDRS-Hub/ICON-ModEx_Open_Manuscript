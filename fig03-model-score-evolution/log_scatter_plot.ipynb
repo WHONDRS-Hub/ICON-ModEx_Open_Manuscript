{
 "cells": [
  {
   "cell_type": "markdown",
   "id": "d172e21a",
   "metadata": {
    "tags": [
     "papermill-error-cell-tag"
    ]
   },
   "source": [
    "<span style=\"color:red; font-family:Helvetica Neue, Helvetica, Arial, sans-serif; font-size:2em;\">An Exception was encountered at '<a href=\"#papermill-error-cell\">In [8]</a>'.</span>"
   ]
  },
  {
   "cell_type": "raw",
   "id": "6bf7d4b3",
   "metadata": {
    "papermill": {
     "duration": 0.0028,
     "end_time": "2024-07-03T15:54:26.449863",
     "exception": false,
     "start_time": "2024-07-03T15:54:26.447063",
     "status": "completed"
    },
    "tags": []
   },
   "source": [
    "---\n",
    "title: \"Fig2_Rversion\"\n",
    "author: \"Bre Rivera Waterman\"\n",
    "date: \"2024-02-22\"\n",
    "output: github_document\n",
    "editor_options: \n",
    "  chunk_output_type: console\n",
    "chunk_output_type: inline\n",
    "---"
   ]
  },
  {
   "cell_type": "code",
   "execution_count": 1,
   "id": "f3d3c52b-4224-469c-ba3b-75ed4a58a431",
   "metadata": {
    "execution": {
     "iopub.execute_input": "2024-07-03T15:54:26.462001Z",
     "iopub.status.busy": "2024-07-03T15:54:26.458403Z",
     "iopub.status.idle": "2024-07-03T15:54:26.488301Z",
     "shell.execute_reply": "2024-07-03T15:54:26.486683Z"
    },
    "papermill": {
     "duration": 0.03746,
     "end_time": "2024-07-03T15:54:26.490513",
     "exception": false,
     "start_time": "2024-07-03T15:54:26.453053",
     "status": "completed"
    },
    "tags": [
     "parameters"
    ]
   },
   "outputs": [],
   "source": [
    "# Parameters cell for papermill launching\n",
    "work_dir <- \"./intermediate_branch_data/Nov-2023-log10\""
   ]
  },
  {
   "cell_type": "code",
   "execution_count": 2,
   "id": "eb368c3b",
   "metadata": {
    "execution": {
     "iopub.execute_input": "2024-07-03T15:54:26.523607Z",
     "iopub.status.busy": "2024-07-03T15:54:26.497098Z",
     "iopub.status.idle": "2024-07-03T15:54:26.534289Z",
     "shell.execute_reply": "2024-07-03T15:54:26.532766Z"
    },
    "papermill": {
     "duration": 0.04328,
     "end_time": "2024-07-03T15:54:26.536419",
     "exception": false,
     "start_time": "2024-07-03T15:54:26.493139",
     "status": "completed"
    },
    "tags": [
     "injected-parameters"
    ]
   },
   "outputs": [],
   "source": [
    "# Parameters\n",
    "work_dir = \"./intermediate_branch_data/Nov-2023-log10-DO-update-correct\"\n"
   ]
  },
  {
   "cell_type": "code",
   "execution_count": 3,
   "id": "3ee45c0c",
   "metadata": {
    "execution": {
     "iopub.execute_input": "2024-07-03T15:54:26.544466Z",
     "iopub.status.busy": "2024-07-03T15:54:26.543134Z",
     "iopub.status.idle": "2024-07-03T15:54:26.556528Z",
     "shell.execute_reply": "2024-07-03T15:54:26.555022Z"
    },
    "name": "setup",
    "papermill": {
     "duration": 0.019364,
     "end_time": "2024-07-03T15:54:26.558495",
     "exception": false,
     "start_time": "2024-07-03T15:54:26.539131",
     "status": "completed"
    },
    "tags": []
   },
   "outputs": [],
   "source": [
    "# Installs just fine\n",
    "#install.packages(\"knitr\", repos='http://cran.us.r-project.org', quiet=FALSE, Ncpu=4)\n",
    "\n",
    "# haven package compiles but cannot link to libiconv even though available in .miniconda/libs/\n",
    "# This failure spills over to prevent tidyverse from installing. Instead, install tidyverse\n",
    "# as an\n",
    "#install.packages(\"haven\", repos='http://cran.us.r-project.org', quiet=FALSE, Ncpu=4, keep_outputs=TRUE, configure.args=c(haven = '-L/usr/local/lib'))\n",
    "#install.packages(\"tidyverse\", repos='http://cran.us.r-project.org', quiet=FALSE, Ncpu=4)\n",
    "\n",
    "# This takes a few mins to install and works, but has version incompatibilities\n",
    "# with other packages, so unlikely to work with conda install r-tidyverse.\n",
    "# Replace with conda install -c conda-forge r-colourpicker\n",
    "#install.packages(\"colourpicker\", repos='http://cran.us.r-project.org', quiet=FALSE, Ncpu=4)\n",
    "\n",
    "# Example for compiler flag specifications on individual package installs\n",
    "#install.packages(c(\"ncdf4\", \"RNetCDF\"),\n",
    "#  configure.args = c(RNetCDF = \"--with-netcdf-include=/usr/include/udunits2\"))\n",
    "\n",
    "# Will fail if RStudio is not running.\n",
    "#install.packages(\"rstudioapi\", repos='http://cran.us.r-project.org', quiet=TRUE)\n",
    "\n",
    "#library(knitr)\n",
    "#knitr::opts_chunk$set(echo = TRUE)\n",
    "\n",
    "#current_path <- rstudioapi::getActiveDocumentContext()$path \n",
    "setwd(work_dir)\n",
    "\n",
    "# Confirmation of change directory\n",
    "#getwd()"
   ]
  },
  {
   "cell_type": "markdown",
   "id": "d7f3bd2e",
   "metadata": {
    "papermill": {
     "duration": 0.002961,
     "end_time": "2024-07-03T15:54:26.564513",
     "exception": false,
     "start_time": "2024-07-03T15:54:26.561552",
     "status": "completed"
    },
    "tags": []
   },
   "source": [
    " - import libraries"
   ]
  },
  {
   "cell_type": "code",
   "execution_count": 4,
   "id": "945cbc87",
   "metadata": {
    "execution": {
     "iopub.execute_input": "2024-07-03T15:54:26.572381Z",
     "iopub.status.busy": "2024-07-03T15:54:26.571028Z",
     "iopub.status.idle": "2024-07-03T15:54:26.581424Z",
     "shell.execute_reply": "2024-07-03T15:54:26.579919Z"
    },
    "lines_to_next_cell": 0,
    "papermill": {
     "duration": 0.016026,
     "end_time": "2024-07-03T15:54:26.583178",
     "exception": false,
     "start_time": "2024-07-03T15:54:26.567152",
     "status": "completed"
    },
    "tags": []
   },
   "outputs": [],
   "source": [
    "# library(tidyverse)\n",
    "# #library(colourpicker)\n",
    "# library(lubridate)\n",
    "# library(emmeans)\n",
    "# #library(sf)\n",
    "# #library(ggspatial)\n",
    "# library(spData)\n",
    "# #library(ggpmisc)\n",
    "# #install.packages(\"ggpubr\")\n",
    "# #library(\"rstudioapi\")\n",
    "# #install.packages(\"ggExtra\")\n",
    "# library(ggExtra)\n",
    "# library(patchwork)"
   ]
  },
  {
   "cell_type": "code",
   "execution_count": 5,
   "id": "de102e25-1f34-41f4-8745-bceb6ad66dcd",
   "metadata": {
    "execution": {
     "iopub.execute_input": "2024-07-03T15:54:26.590826Z",
     "iopub.status.busy": "2024-07-03T15:54:26.589771Z",
     "iopub.status.idle": "2024-07-03T15:54:27.157294Z",
     "shell.execute_reply": "2024-07-03T15:54:27.155851Z"
    },
    "papermill": {
     "duration": 0.573479,
     "end_time": "2024-07-03T15:54:27.159310",
     "exception": false,
     "start_time": "2024-07-03T15:54:26.585831",
     "status": "completed"
    },
    "tags": []
   },
   "outputs": [
    {
     "name": "stderr",
     "output_type": "stream",
     "text": [
      "Warning message:\n",
      "“package ‘ggplot2’ was built under R version 4.3.3”\n"
     ]
    },
    {
     "name": "stderr",
     "output_type": "stream",
     "text": [
      "Warning message:\n",
      "“package ‘stringr’ was built under R version 4.3.2”\n"
     ]
    },
    {
     "name": "stderr",
     "output_type": "stream",
     "text": [
      "── \u001b[1mAttaching core tidyverse packages\u001b[22m ──────────────────────── tidyverse 2.0.0 ──\n",
      "\u001b[32m✔\u001b[39m \u001b[34mdplyr    \u001b[39m 1.1.3     \u001b[32m✔\u001b[39m \u001b[34mreadr    \u001b[39m 2.1.4\n",
      "\u001b[32m✔\u001b[39m \u001b[34mforcats  \u001b[39m 1.0.0     \u001b[32m✔\u001b[39m \u001b[34mstringr  \u001b[39m 1.5.1\n",
      "\u001b[32m✔\u001b[39m \u001b[34mggplot2  \u001b[39m 3.5.1     \u001b[32m✔\u001b[39m \u001b[34mtibble   \u001b[39m 3.2.1\n",
      "\u001b[32m✔\u001b[39m \u001b[34mlubridate\u001b[39m 1.9.3     \u001b[32m✔\u001b[39m \u001b[34mtidyr    \u001b[39m 1.3.0\n",
      "\u001b[32m✔\u001b[39m \u001b[34mpurrr    \u001b[39m 1.0.2     \n"
     ]
    },
    {
     "name": "stderr",
     "output_type": "stream",
     "text": [
      "── \u001b[1mConflicts\u001b[22m ────────────────────────────────────────── tidyverse_conflicts() ──\n",
      "\u001b[31m✖\u001b[39m \u001b[34mdplyr\u001b[39m::\u001b[32mfilter()\u001b[39m masks \u001b[34mstats\u001b[39m::filter()\n",
      "\u001b[31m✖\u001b[39m \u001b[34mdplyr\u001b[39m::\u001b[32mlag()\u001b[39m    masks \u001b[34mstats\u001b[39m::lag()\n",
      "\u001b[36mℹ\u001b[39m Use the conflicted package (\u001b[3m\u001b[34m<http://conflicted.r-lib.org/>\u001b[39m\u001b[23m) to force all conflicts to become errors\n"
     ]
    }
   ],
   "source": [
    "library(tidyverse)\n",
    "#library(ggpmisc)"
   ]
  },
  {
   "cell_type": "markdown",
   "id": "6ab03933",
   "metadata": {
    "papermill": {
     "duration": 0.00362,
     "end_time": "2024-07-03T15:54:27.166716",
     "exception": false,
     "start_time": "2024-07-03T15:54:27.163096",
     "status": "completed"
    },
    "tags": []
   },
   "source": [
    "## Scatter plot  \n",
    "- using new merged dataset to create scatter plot\n",
    "- add kernel densities to the plots (along the side)"
   ]
  },
  {
   "cell_type": "code",
   "execution_count": 6,
   "id": "29838df8",
   "metadata": {
    "execution": {
     "iopub.execute_input": "2024-07-03T15:54:27.176661Z",
     "iopub.status.busy": "2024-07-03T15:54:27.174910Z",
     "iopub.status.idle": "2024-07-03T15:54:27.388437Z",
     "shell.execute_reply": "2024-07-03T15:54:27.386997Z"
    },
    "lines_to_next_cell": 2,
    "papermill": {
     "duration": 0.219288,
     "end_time": "2024-07-03T15:54:27.390050",
     "exception": false,
     "start_time": "2024-07-03T15:54:27.170762",
     "status": "completed"
    },
    "tags": []
   },
   "outputs": [
    {
     "name": "stderr",
     "output_type": "stream",
     "text": [
      "Warning message:\n",
      "“\u001b[1m\u001b[22mOne or more parsing issues, call `problems()` on your data frame for details,\n",
      "e.g.:\n",
      "  dat <- vroom(...)\n",
      "  problems(dat)”\n"
     ]
    },
    {
     "name": "stderr",
     "output_type": "stream",
     "text": [
      "\u001b[1mRows: \u001b[22m\u001b[34m684\u001b[39m \u001b[1mColumns: \u001b[22m\u001b[34m19\u001b[39m\n"
     ]
    },
    {
     "name": "stderr",
     "output_type": "stream",
     "text": [
      "\u001b[36m──\u001b[39m \u001b[1mColumn specification\u001b[22m \u001b[36m────────────────────────────────────────────────────────\u001b[39m\n",
      "\u001b[1mDelimiter:\u001b[22m \",\"\n",
      "\u001b[31mchr\u001b[39m  (1): Sample_ID\n",
      "\u001b[32mdbl\u001b[39m (17): Sample_Longitude_obs, Sample_Latitude_obs, Mean_Temp_Deg_C, pH, Me...\n",
      "\u001b[33mlgl\u001b[39m  (1): Mean_DO_percent_saturation\n"
     ]
    },
    {
     "name": "stderr",
     "output_type": "stream",
     "text": [
      "\n",
      "\u001b[36mℹ\u001b[39m Use `spec()` to retrieve the full column specification for this data.\n",
      "\u001b[36mℹ\u001b[39m Specify the column types or set `show_col_types = FALSE` to quiet this message.\n"
     ]
    }
   ],
   "source": [
    "#some filtering/mutating first \n",
    "#C:/Users/b923w423/Documents/GitHub/ICON-ModEx_Open_Manuscript\n",
    "\n",
    "combods_split <- read_csv(\"ICON-ModEx_Combined_Predicted_Observed_Respiration_Rates.csv\", na = c(-9999, \"N/A\", \"NA\", NA)) %>%\n",
    "#remova Na's\n",
    "  #split data set into \"hot\" and \"cold\" spots\n",
    "  mutate(ds_split = ifelse(Log_Observed_Normalized_Respiration_Rate > 2.7, \"500+\",                         ifelse(Log_Observed_Normalized_Respiration_Rate < 2.7, \"500-\", \"500-\") )) %>% \n",
    "  \n",
    "#clasifying by quadrant (hot, cold, misclass hot, misclass cold) by year\n",
    "# Need to get rid of the year because we are working year-by-year\n",
    "  mutate(ds_quadrant23 =                                                    ifelse(Log_Observed_Normalized_Respiration_Rate > 2.7 & Log_Predicted_Normalized_Respiration_Rate > 2.7 , \"hs23\",\n",
    "  ifelse(Log_Observed_Normalized_Respiration_Rate > 2.7 & Log_Predicted_Normalized_Respiration_Rate < 2.7 , \"misclass_hs23\",                                                                                              \n",
    "ifelse(Log_Observed_Normalized_Respiration_Rate < 2.7 & Log_Predicted_Normalized_Respiration_Rate < 2.7 , \"cs23\",    \n",
    "ifelse(Log_Observed_Normalized_Respiration_Rate < 2.7 & Log_Predicted_Normalized_Respiration_Rate > 2.7 , \"misclass_cs23\", NA)))) ) #,                   \n",
    "      \n",
    "#ds_quadrant19 =        \n",
    "# ifelse(Log_Observed_Normalized_Respiration_Rate > 2.7 & Log_Predicted_Normalized_Respiration_Rate_Sep2019 > 2.7 , \"hs19\",\n",
    "#  ifelse(Log_Observed_Normalized_Respiration_Rate > 2.7 & Log_Predicted_Normalized_Respiration_Rate_Sep2019 < 2.7 , \"misclass_hs19\",  \n",
    "# ifelse(Log_Observed_Normalized_Respiration_Rate < 2.7 & Log_Predicted_Normalized_Respiration_Rate_Sep2019 > 2.7 , \"misclass_cs19\",\n",
    "#ifelse(Log_Observed_Normalized_Respiration_Rate < 2.7 & Log_Predicted_Normalized_Respiration_Rate_Sep2019 < 2.7 , \"cs19\", NA ) )))) "
   ]
  },
  {
   "cell_type": "markdown",
   "id": "be323c6e",
   "metadata": {
    "papermill": {
     "duration": 0.003468,
     "end_time": "2024-07-03T15:54:27.397295",
     "exception": false,
     "start_time": "2024-07-03T15:54:27.393827",
     "status": "completed"
    },
    "tags": []
   },
   "source": [
    "### Scatter plot\n",
    " - needs to have kernel density plots on y and x axis\n",
    " - needs use log data\n",
    " - needs to have overall line, line for above 500, below 500, and R^2 values for all three\n",
    " - facet wrap or color dots by iteration (first versus last)\n",
    " \n",
    " - right now s19s iteration, but want OG 0th iteration"
   ]
  },
  {
   "cell_type": "code",
   "execution_count": 7,
   "id": "d4a8e020",
   "metadata": {
    "execution": {
     "iopub.execute_input": "2024-07-03T15:54:27.407272Z",
     "iopub.status.busy": "2024-07-03T15:54:27.406045Z",
     "iopub.status.idle": "2024-07-03T15:54:27.416304Z",
     "shell.execute_reply": "2024-07-03T15:54:27.414988Z"
    },
    "lines_to_next_cell": 0,
    "papermill": {
     "duration": 0.016285,
     "end_time": "2024-07-03T15:54:27.417863",
     "exception": false,
     "start_time": "2024-07-03T15:54:27.401578",
     "status": "completed"
    },
    "tags": []
   },
   "outputs": [],
   "source": [
    "# #this will change - waiting on real 0th iteration data from Stefan/Brie\n",
    "# firstiterationds <- combods_filt %>% filter(str_detect(Sample_Name, \"S19S\"))\n",
    "\n",
    "# #run 3 lm up here, then extract R^2, then call into annotate \n",
    "# lm_all <- lm(Log_Predicted_Normalized_Respiration_Rate_Sep2019 ~ Log_Observed_Normalized_Respiration_Rate, firstiterationds)\n",
    "# summary(lm_all)\n",
    "\n",
    "# lm_sup <- lm(Log_Predicted_Normalized_Respiration_Rate_Sep2019 ~ Log_Observed_Normalized_Respiration_Rate, firstiterationds %>% filter(ds_split == \"500+\"))\n",
    "# summary(lm_sup)\n",
    "\n",
    "# lm_sub <- lm(Log_Predicted_Normalized_Respiration_Rate_Sep2019 ~ Log_Observed_Normalized_Respiration_Rate, firstiterationds %>% filter(ds_split == \"500-\"))\n",
    "# summary(lm_sub)\n",
    "\n",
    "# #plot\n",
    "# fullscatter_firstiteration <- \n",
    "#  firstiterationds %>%\n",
    "#     ggplot(aes(abs(Log_Observed_Normalized_Respiration_Rate ),\n",
    "#                       abs(Log_Predicted_Normalized_Respiration_Rate_Sep2019) )) +\n",
    "#                       #,  color =  ds_split))+ \n",
    "# #to see R^2 for above/below thresholds, remove color grouping above and use stat poly eq fx (below)\n",
    "#   geom_point(color = \"darkgrey\", size = 3, pch = 21) + \n",
    "#     geom_vline (xintercept = 2.7, linetype = \"dashed\", color=\"grey\") + \n",
    "#     geom_hline (yintercept = 2.7, linetype = \"dashed\", color=\"dark grey\") + #not a clear threshold \n",
    " \n",
    "   \n",
    "#         geom_abline (linetype = \"longdash\", color=\"black\") + #not a clear threshold \n",
    "#    stat_poly_line(color = \"black\", alpha = 0.5) + #overall best fit\n",
    "#  # stat_poly_eq(use_label(c( \"R2\"))) + #remove hashtag to see R^2 of log500 split\n",
    "#     geom_smooth( aes(abs(Log_Observed_Normalized_Respiration_Rate), #above/below threshold best fit\n",
    "#                       abs(Log_Predicted_Normalized_Respiration_Rate_Sep2019),\n",
    "#                       color =  ds_split), method = \"lm\", alpha = 0.2) + \n",
    "#   xlab(\"log10(Observed rates)\") + \n",
    "#   ylab(\"log10(Predicted rates)\") + \n",
    "# scale_shape_manual(values = c(21, 16)) + #shape or color by iteration\n",
    "#   scale_color_manual(values = c( \"lightblue\", \"maroon\")) +\n",
    "\n",
    "# annotate('text', label = str_c('R^2 == ', round(summary(lm_all)$r.squared, 2)), parse = T, x = 3.5, y = 0.75, size = 5, family = 'serif', color = \"black\")+\n",
    "# annotate('text', label = str_c('R^2 == ', round(summary(lm_sub)$r.squared, 2)), parse = T, x = 3.5, y = 0.5, size = 5, family = 'serif', color=\"lightblue\")+\n",
    "# annotate('text', label = str_c('R^2 == ', round(summary(lm_sup)$r.squared, 2)), parse = T, x = 3.5, y = 0.25, size = 5, family = 'serif',  color=\"maroon\")+\n",
    "#   lims(y = c(0,4), x = c(0,4)) + \n",
    "#   theme_classic() +\n",
    "#    theme(text = element_text(size = 16,  family = 'serif'), \n",
    "#          legend.position = 0)\n",
    "# fullscatter_firstiteration\n",
    "\n",
    "# #adding density plots on axes\n",
    "# ggExtra::ggMarginal(fullscatter_firstiteration, fill = \"lightgrey\")\n",
    "\n",
    "# #save file\n",
    "# ggsave(filename = \"Scripts/fullscatter_firstiteration.tiff\", plot = fullscatter_firstiteration, width = 6, height = 6, dpi = 300)   \n",
    " \n",
    " "
   ]
  },
  {
   "cell_type": "markdown",
   "id": "4f57e458",
   "metadata": {
    "papermill": {
     "duration": 0.003079,
     "end_time": "2024-07-03T15:54:27.424065",
     "exception": false,
     "start_time": "2024-07-03T15:54:27.420986",
     "status": "completed"
    },
    "tags": []
   },
   "source": [
    " - final iteration "
   ]
  },
  {
   "cell_type": "markdown",
   "id": "c8bf57fb",
   "metadata": {
    "tags": [
     "papermill-error-cell-tag"
    ]
   },
   "source": [
    "<span id=\"papermill-error-cell\" style=\"color:red; font-family:Helvetica Neue, Helvetica, Arial, sans-serif; font-size:2em;\">Execution using papermill encountered an exception here and stopped:</span>"
   ]
  },
  {
   "cell_type": "code",
   "execution_count": 8,
   "id": "e97facfa",
   "metadata": {
    "execution": {
     "iopub.execute_input": "2024-07-03T15:54:27.432476Z",
     "iopub.status.busy": "2024-07-03T15:54:27.431296Z",
     "iopub.status.idle": "2024-07-03T15:54:29.103382Z",
     "shell.execute_reply": "2024-07-03T15:54:29.101343Z"
    },
    "lines_to_next_cell": 0,
    "papermill": {
     "duration": 1.678335,
     "end_time": "2024-07-03T15:54:29.105319",
     "exception": true,
     "start_time": "2024-07-03T15:54:27.426984",
     "status": "failed"
    },
    "tags": []
   },
   "outputs": [
    {
     "data": {
      "text/plain": [
       "\n",
       "Call:\n",
       "lm(formula = Log_Predicted_Normalized_Respiration_Rate ~ Log_Observed_Normalized_Respiration_Rate, \n",
       "    data = combods_split)\n",
       "\n",
       "Residuals:\n",
       "    Min      1Q  Median      3Q     Max \n",
       "-0.8260 -0.1800 -0.0363  0.1710  1.1483 \n",
       "\n",
       "Coefficients:\n",
       "                                         Estimate Std. Error t value Pr(>|t|)\n",
       "(Intercept)                               1.58920    0.01712   92.82   <2e-16\n",
       "Log_Observed_Normalized_Respiration_Rate  0.42866    0.01029   41.66   <2e-16\n",
       "                                            \n",
       "(Intercept)                              ***\n",
       "Log_Observed_Normalized_Respiration_Rate ***\n",
       "---\n",
       "Signif. codes:  0 ‘***’ 0.001 ‘**’ 0.01 ‘*’ 0.05 ‘.’ 0.1 ‘ ’ 1\n",
       "\n",
       "Residual standard error: 0.2625 on 682 degrees of freedom\n",
       "Multiple R-squared:  0.7179,\tAdjusted R-squared:  0.7175 \n",
       "F-statistic:  1736 on 1 and 682 DF,  p-value: < 2.2e-16\n"
      ]
     },
     "metadata": {},
     "output_type": "display_data"
    },
    {
     "data": {
      "text/plain": [
       "\n",
       "Call:\n",
       "lm(formula = Log_Predicted_Normalized_Respiration_Rate ~ Log_Observed_Normalized_Respiration_Rate, \n",
       "    data = combods_split %>% filter(ds_split == \"500+\"))\n",
       "\n",
       "Residuals:\n",
       "     Min       1Q   Median       3Q      Max \n",
       "-0.99171 -0.05417  0.07124  0.13804  0.45871 \n",
       "\n",
       "Coefficients:\n",
       "                                         Estimate Std. Error t value Pr(>|t|)\n",
       "(Intercept)                               -0.9284     0.5432  -1.709   0.0908\n",
       "Log_Observed_Normalized_Respiration_Rate   1.2238     0.1619   7.561 2.92e-11\n",
       "                                            \n",
       "(Intercept)                              .  \n",
       "Log_Observed_Normalized_Respiration_Rate ***\n",
       "---\n",
       "Signif. codes:  0 ‘***’ 0.001 ‘**’ 0.01 ‘*’ 0.05 ‘.’ 0.1 ‘ ’ 1\n",
       "\n",
       "Residual standard error: 0.2888 on 92 degrees of freedom\n",
       "Multiple R-squared:  0.3832,\tAdjusted R-squared:  0.3765 \n",
       "F-statistic: 57.17 on 1 and 92 DF,  p-value: 2.92e-11\n"
      ]
     },
     "metadata": {},
     "output_type": "display_data"
    },
    {
     "data": {
      "text/plain": [
       "\n",
       "Call:\n",
       "lm(formula = Log_Predicted_Normalized_Respiration_Rate ~ Log_Observed_Normalized_Respiration_Rate, \n",
       "    data = combods_split %>% filter(ds_split == \"500-\"))\n",
       "\n",
       "Residuals:\n",
       "     Min       1Q   Median       3Q      Max \n",
       "-0.38166 -0.15176 -0.07268  0.10778  1.16090 \n",
       "\n",
       "Coefficients:\n",
       "                                         Estimate Std. Error t value Pr(>|t|)\n",
       "(Intercept)                               1.73476    0.01830   94.79   <2e-16\n",
       "Log_Observed_Normalized_Respiration_Rate  0.26449    0.01538   17.20   <2e-16\n",
       "                                            \n",
       "(Intercept)                              ***\n",
       "Log_Observed_Normalized_Respiration_Rate ***\n",
       "---\n",
       "Signif. codes:  0 ‘***’ 0.001 ‘**’ 0.01 ‘*’ 0.05 ‘.’ 0.1 ‘ ’ 1\n",
       "\n",
       "Residual standard error: 0.2232 on 588 degrees of freedom\n",
       "Multiple R-squared:  0.3346,\tAdjusted R-squared:  0.3335 \n",
       "F-statistic: 295.7 on 1 and 588 DF,  p-value: < 2.2e-16\n"
      ]
     },
     "metadata": {},
     "output_type": "display_data"
    },
    {
     "name": "stderr",
     "output_type": "stream",
     "text": [
      "Warning message:\n",
      "“\u001b[1m\u001b[22mA numeric `legend.position` argument in `theme()` was deprecated in ggplot2\n",
      "3.5.0.\n",
      "\u001b[36mℹ\u001b[39m Please use the `legend.position.inside` argument of `theme()` instead.”\n"
     ]
    },
    {
     "name": "stderr",
     "output_type": "stream",
     "text": [
      "\u001b[1m\u001b[22m`geom_smooth()` using formula = 'y ~ x'\n"
     ]
    },
    {
     "ename": "ERROR",
     "evalue": "Error in grid.Call.graphics(C_setviewport, vp, TRUE): non-finite location and/or size for viewport\n",
     "output_type": "error",
     "traceback": [
      "Error in grid.Call.graphics(C_setviewport, vp, TRUE): non-finite location and/or size for viewport\nTraceback:\n",
      "1. ggsave(filename = \"./scatter.png\", plot = fullscatter_lastiteration, \n .     width = 6, height = 6, dpi = 300)",
      "2. grid.draw(plot)",
      "3. grid.draw.ggplot(plot)",
      "4. print(x)",
      "5. print.ggplot(x)",
      "6. grid.draw(gtable)",
      "7. grid.draw.gTree(gtable)",
      "8. recordGraphics(drawGTree(x), list(x = x), getNamespace(\"grid\"))",
      "9. drawGTree(x)",
      "10. grid.draw(x$children[[i]], recording = FALSE)",
      "11. grid.draw.gTree(x$children[[i]], recording = FALSE)",
      "12. recordGraphics(drawGTree(x), list(x = x), getNamespace(\"grid\"))",
      "13. drawGTree(x)",
      "14. grid.draw(x$children[[i]], recording = FALSE)",
      "15. grid.draw.gTree(x$children[[i]], recording = FALSE)",
      "16. recordGraphics(drawGTree(x), list(x = x), getNamespace(\"grid\"))",
      "17. drawGTree(x)",
      "18. preDraw(x)",
      "19. preDraw.gTree(x)",
      "20. pushvpgp(x)",
      "21. pushgrobvp(x$vp)",
      "22. pushgrobvp.viewport(x$vp)",
      "23. pushViewport(vp, recording = FALSE)",
      "24. lapply(vps, push.vp, recording)",
      "25. FUN(X[[i]], ...)",
      "26. push.vp.vpStack(X[[i]], ...)",
      "27. lapply(vp, push.vp, recording)",
      "28. FUN(X[[i]], ...)",
      "29. push.vp.viewport(X[[i]], ...)",
      "30. grid.Call.graphics(C_setviewport, vp, TRUE)"
     ]
    }
   ],
   "source": [
    "#add in lm's\n",
    "#run 3 lm up here, then extract R^2, then call into annotate \n",
    "lm_all_final <- lm(Log_Predicted_Normalized_Respiration_Rate ~ Log_Observed_Normalized_Respiration_Rate, combods_split)\n",
    "summary(lm_all_final)\n",
    "\n",
    "lm_sup_final <- lm(Log_Predicted_Normalized_Respiration_Rate ~ Log_Observed_Normalized_Respiration_Rate, combods_split %>% filter(ds_split == \"500+\"))\n",
    "summary(lm_sup_final)\n",
    "\n",
    "lm_sub_final <- lm(Log_Predicted_Normalized_Respiration_Rate ~ Log_Observed_Normalized_Respiration_Rate, combods_split %>% filter(ds_split == \"500-\"))\n",
    "summary(lm_sub_final)\n",
    "\n",
    "\n",
    "\n",
    "fullscatter_lastiteration <- \n",
    "  combods_split %>% ggplot(aes(abs(Log_Observed_Normalized_Respiration_Rate ),\n",
    "                      abs(Log_Predicted_Normalized_Respiration_Rate) #)) + #\n",
    "                      ,  color =  ds_split))+ \n",
    "#to see R^2 for above/below thresholds, remove color grouping above and use stat poly eq fx (below)\n",
    "  geom_point(color = \"darkgrey\", size = 3, pch = 21) + \n",
    "    geom_vline (xintercept = 2.7, linetype = \"dashed\", color=\"grey\") + \n",
    "    geom_hline (yintercept = 2.7, linetype = \"dashed\", color=\"dark grey\") + #not a clear threshold \n",
    "      geom_abline (linetype = \"longdash\", color=\"black\") + #not a clear threshold\n",
    "\n",
    "# Required by ggextra, fails to import above. Where are the other lines (blue and red) plotted?\n",
    "#SFG#   stat_poly_line(color = \"black\", alpha = 0.5) + #overall best fit\n",
    "\n",
    "# stat_poly_eq(use_label(c( \"R2\"))) + #remove hashtag to see R^2 of log500 split\n",
    " \n",
    "    geom_smooth( aes(abs(Log_Observed_Normalized_Respiration_Rate ), #above/below threshold best fit\n",
    "                      abs(Log_Predicted_Normalized_Respiration_Rate),\n",
    "                      color =  ds_split), method = \"lm\", alpha = 0.2) + \n",
    "  xlab(\"log10(Observed rates)\") + \n",
    "  ylab(\"log10(Predicted rates)\") + \n",
    "scale_shape_manual(values = c(21, 16)) + #shape or color by iteration\n",
    "  scale_color_manual(values = c( \"lightblue\", \"maroon\")) +\n",
    "\n",
    "annotate('text', label = str_c('R^2 == ', round(summary(lm_all_final)$r.squared, 2)), parse = T, x = 3.5, y = 0.75, size = 5, family = 'serif', color = \"black\")+\n",
    "annotate('text', label = str_c('R^2 == ', round(summary(lm_sub_final)$r.squared, 2)), parse = T, x = 3.5, y = 0.5, size = 5, family = 'serif', color=\"lightblue\")+\n",
    "annotate('text', label = str_c('R^2 == ', round(summary(lm_sup_final)$r.squared, 2)), parse = T, x = 3.5, y = 0.25, size = 5, family = 'serif',  color=\"maroon\")+\n",
    "    \n",
    "  lims(y = c(0,4), x = c(0,4)) + \n",
    "  theme_classic() +\n",
    "   theme(text = element_text(size = 16, family = 'serif'), \n",
    "         legend.position = 0)\n",
    "\n",
    "#adding density plots on axes\n",
    " #ggExtra::ggMarginal(fullscatter_lastiteration, fill = \"lightgrey\")\n",
    " \n",
    "# Original plot save\n",
    "ggsave(filename = \"./scatter.png\", plot = fullscatter_lastiteration, width = 6, height = 6, dpi = 300)  \n",
    "\n",
    "# Alternative\n",
    "#png(\"./scatter.png\")\n",
    "#print(fullscatter_lastieration)\n",
    "#dev.off()"
   ]
  },
  {
   "cell_type": "markdown",
   "id": "ac959c03",
   "metadata": {
    "papermill": {
     "duration": null,
     "end_time": null,
     "exception": null,
     "start_time": null,
     "status": "pending"
    },
    "tags": []
   },
   "source": [
    "\n"
   ]
  },
  {
   "cell_type": "markdown",
   "id": "64fefda7",
   "metadata": {
    "lines_to_next_cell": 0,
    "papermill": {
     "duration": null,
     "end_time": null,
     "exception": null,
     "start_time": null,
     "status": "pending"
    },
    "tags": []
   },
   "source": [
    "- exploring misclass patterns"
   ]
  },
  {
   "cell_type": "code",
   "execution_count": null,
   "id": "1322e4dd",
   "metadata": {
    "lines_to_next_cell": 2,
    "papermill": {
     "duration": null,
     "end_time": null,
     "exception": null,
     "start_time": null,
     "status": "pending"
    },
    "tags": []
   },
   "outputs": [],
   "source": [
    "# combods_date <- combods_split %>%\n",
    "#    mutate(Date_whole = ymd(Observed_Sample_Date), Year = year(Observed_Sample_Date), Month = month(Observed_Sample_Date), Day = day(Observed_Sample_Date))\n",
    " \n",
    "\n",
    "\n",
    "# #based on previous plots, temporal outliers are from 2023 only\n",
    "# combods_date %>% ggplot(aes(abs(Log_Observed_Normalized_Respiration_Rate),\n",
    "#                       abs(Log_Predicted_Normalized_Respiration_Rate_Nov2023), color = Year ))+ \n",
    "# #to see R^2 for above/below thresholds, remove color grouping above and use stat poly eq fx (below)\n",
    "#   geom_point( pch = 21, size = 3) + \n",
    "#     geom_vline (xintercept = 2.7, linetype = \"dashed\", color=\"grey\") + \n",
    "#     geom_hline (yintercept = 2.7, linetype = \"dashed\", color=\"dark grey\") + #not a clear threshold \n",
    "#       geom_abline (linetype = \"longdash\", color=\"black\") + #not a clear threshold \n",
    "#   # stat_poly_line(color = \"black\", alpha = 0.5) + #overall best fit\n",
    "#   #stat_poly_eq(use_label(c( \"R2\"))) + #remove hashtag to see R^2 of log500 split\n",
    "#   # scale_color_gradientn(colours = rev(rainbow(12))) +\n",
    "\n",
    "#    # geom_smooth( aes(abs(Log_Observed_Normalized_Respiration_Rate ), #above/below threshold best fit\n",
    "#     #                  abs(Log_Predicted_Normalized_Respiration_Rate_Nov2023),\n",
    "#      #                 color =  ds_split), method = \"lm\", alpha = 0.2) +\n",
    "  \n",
    "#   xlab(\"log10(Observed rates)\") + \n",
    "#   ylab(\"log10(Predicted rates)\") + \n",
    "#   lims(y = c(0,4), x = c(0,4)) + \n",
    "#   theme_classic() +\n",
    "#    theme(text = element_text(size = 16))\n",
    "\n",
    "\n",
    "  \n",
    "  "
   ]
  },
  {
   "cell_type": "markdown",
   "id": "38c35b36",
   "metadata": {
    "lines_to_next_cell": 0,
    "papermill": {
     "duration": null,
     "end_time": null,
     "exception": null,
     "start_time": null,
     "status": "pending"
    },
    "tags": []
   },
   "source": [
    "- checking classifications"
   ]
  },
  {
   "cell_type": "code",
   "execution_count": null,
   "id": "bbab55dd",
   "metadata": {
    "lines_to_next_cell": 2,
    "papermill": {
     "duration": null,
     "end_time": null,
     "exception": null,
     "start_time": null,
     "status": "pending"
    },
    "tags": []
   },
   "outputs": [],
   "source": [
    "# #to check that classifications are correct\n",
    "# combods_date %>% ggplot(aes(abs(Log_Observed_Normalized_Respiration_Rate),\n",
    "#                       abs(Log_Predicted_Normalized_Respiration_Rate_Nov2023),  color =  ds_quadrant23))+ \n",
    "# #to see R^2 for above/below thresholds, remove color grouping above and use stat poly eq fx (below)\n",
    "#   geom_point( pch = 21) + \n",
    "#     geom_vline (xintercept = 2.7, linetype = \"dashed\", color=\"grey\") + \n",
    "#     geom_hline (yintercept = 2.7, linetype = \"dashed\", color=\"dark grey\") + #not a clear threshold \n",
    "#       geom_abline (linetype = \"longdash\", color=\"black\") + #not a clear threshold \n",
    "#   # stat_poly_line(color = \"black\", alpha = 0.5) + #overall best fit\n",
    "#   #stat_poly_eq(use_label(c( \"R2\"))) + #remove hashtag to see R^2 of log500 split\n",
    "#    #scale_color_gradientn(colours = rev(rainbow(12))) +\n",
    "\n",
    "#    # geom_smooth( aes(abs(Log_Observed_Normalized_Respiration_Rate ), #above/below threshold best fit\n",
    "#     #                  abs(Log_Predicted_Normalized_Respiration_Rate_Nov2023),\n",
    "#      #                 color =  ds_split), method = \"lm\", alpha = 0.2) +\n",
    "  \n",
    "#   xlab(\"log10(Observed rates+1)\") + \n",
    "#   ylab(\"log10(Predicted rates+1)\") + \n",
    "#   lims(y = c(0,4), x = c(0,4)) + \n",
    "#   theme_classic() +\n",
    "#    theme(text = element_text(size = 16))\n",
    "\n",
    "  \n",
    " \n",
    "# combods_date %>% ggplot(aes(abs(Log_Observed_Normalized_Respiration_Rate),\n",
    "#                       abs(Log_Predicted_Normalized_Respiration_Rate_Sep2019),  color = ds_quadrant19 ))+ \n",
    "# #to see R^2 for above/below thresholds, remove color grouping above and use stat poly eq fx (below)\n",
    "#   geom_point( pch = 21) + \n",
    "#     geom_vline (xintercept = 2.7, linetype = \"dashed\", color=\"grey\") + \n",
    "#     geom_hline (yintercept = 2.7, linetype = \"dashed\", color=\"dark grey\") + #not a clear threshold \n",
    "#       geom_abline (linetype = \"longdash\", color=\"black\") + #not a clear threshold \n",
    "#   # stat_poly_line(color = \"black\", alpha = 0.5) + #overall best fit\n",
    "#   #stat_poly_eq(use_label(c( \"R2\"))) + #remove hashtag to see R^2 of log500 split\n",
    "#   # scale_color_gradientn(colours = rev(rainbow(12))) +\n",
    "\n",
    "#    # geom_smooth( aes(abs(Log_Observed_Normalized_Respiration_Rate ), #above/below threshold best fit\n",
    "#                      # abs(Log_Predicted_Normalized_Respiration_Rate),\n",
    "#                      # color =  ds_split), method = \"lm\", alpha = 0.2) +\n",
    "  \n",
    "#   xlab(\"log10(Observed rates+1)\") + \n",
    "#   ylab(\"log10(Predicted rates+1)\") + \n",
    "#   lims(y = c(0,4), x = c(0,4)) + \n",
    "#   theme_classic() +\n",
    "#    theme(text = element_text(size = 16))"
   ]
  },
  {
   "cell_type": "markdown",
   "id": "4841e10b",
   "metadata": {
    "lines_to_next_cell": 0,
    "papermill": {
     "duration": null,
     "end_time": null,
     "exception": null,
     "start_time": null,
     "status": "pending"
    },
    "tags": []
   },
   "source": [
    "#map to see miss-classifications spatially\n",
    "  - NA's not filtered out?"
   ]
  },
  {
   "cell_type": "code",
   "execution_count": null,
   "id": "6b8daa50",
   "metadata": {
    "lines_to_next_cell": 0,
    "papermill": {
     "duration": null,
     "end_time": null,
     "exception": null,
     "start_time": null,
     "status": "pending"
    },
    "tags": []
   },
   "outputs": [],
   "source": [
    "# usa <- st_as_sf(maps::map(\"state\", fill=TRUE, plot =FALSE))\n",
    "\n",
    "# outliers2023 <- \n",
    "# ggplot(usa) +\n",
    "#   geom_sf(color = \"#2b2b2b\", fill = \"lightgrey\", size=0.125, alpha = 0.15) +\n",
    "#   coord_sf(crs = st_crs(\"+proj=laea +lat_0=45 +lon_0=-100 +x_0=0 +y_0=0 +a=6370997 +b=6370997 +units=m +no_defs\"), datum = NA) +\n",
    "#    geom_spatial_point(data=combods_date, aes(x=Longitude, y=Latitude, color = ds_quadrant23), size = 3) + \n",
    "#                scale_color_manual(values=c(   \"#B9D3EE\", \"maroon\", \"darkgrey\", \"#CDBA96\" ) )+\n",
    "#      ylab(\"\") + \n",
    "#   xlab(\"Longitude\") + \n",
    "#     theme_minimal() +\n",
    "#    labs(title=\"2023 iteration\")\n",
    "# outliers2023\n",
    "\n",
    "# outliers2019 <- \n",
    "# ggplot(usa) +\n",
    "#   geom_sf(color = \"#2b2b2b\", fill = \"lightgrey\", size=0.125, alpha = 0.15) +\n",
    "#   coord_sf(crs = st_crs(\"+proj=laea +lat_0=45 +lon_0=-100 +x_0=0 +y_0=0 +a=6370997 +b=6370997 +units=m +no_defs\"), datum = NA) +\n",
    "#    geom_spatial_point(data=combods_date, aes(x=Longitude, y=Latitude, color = ds_quadrant19), size = 3) + \n",
    "#                scale_color_manual(values=c(   \"#B9D3EE\", \"maroon\", \"darkgrey\", \"#CDBA96\" ) )+\n",
    "#      ylab(\"Latitude\") + \n",
    "#   xlab(\"Longitude\") + \n",
    "#     theme_minimal() + \n",
    "#   theme(legend.position = 0)+\n",
    "#      labs(title=\"2022 iteration\")\n",
    "\n",
    "\n",
    "\n",
    "# misclassmap <- outliers2019 + outliers2023\n",
    "# misclassmap\n",
    "\n",
    "\n",
    "# ggsave(filename = \"Scripts/misclassmap.tiff\", plot = misclassmap, width = 10, height = 5, dpi = 300)   \n"
   ]
  },
  {
   "cell_type": "markdown",
   "id": "2517bfca",
   "metadata": {
    "papermill": {
     "duration": null,
     "end_time": null,
     "exception": null,
     "start_time": null,
     "status": "pending"
    },
    "tags": []
   },
   "source": []
  }
 ],
 "metadata": {
  "jupytext": {
   "cell_metadata_filter": "tags,name,-all",
   "main_language": "R",
   "notebook_metadata_filter": "-all"
  },
  "kernelspec": {
   "display_name": "R [conda env:root] *",
   "language": "R",
   "name": "conda-root-r"
  },
  "language_info": {
   "codemirror_mode": "r",
   "file_extension": ".r",
   "mimetype": "text/x-r-source",
   "name": "R",
   "pygments_lexer": "r",
   "version": "4.3.1"
  },
  "papermill": {
   "default_parameters": {},
   "duration": 3.878962,
   "end_time": "2024-07-03T15:54:29.229783",
   "environment_variables": {},
   "exception": true,
   "input_path": "make_scatter_plot.ipynb",
   "output_path": "log_scatter_plot.ipynb",
   "parameters": {
    "work_dir": "./intermediate_branch_data/Nov-2023-log10-DO-update-correct"
   },
   "start_time": "2024-07-03T15:54:25.350821",
   "version": "2.6.0"
  }
 },
 "nbformat": 4,
 "nbformat_minor": 5
}