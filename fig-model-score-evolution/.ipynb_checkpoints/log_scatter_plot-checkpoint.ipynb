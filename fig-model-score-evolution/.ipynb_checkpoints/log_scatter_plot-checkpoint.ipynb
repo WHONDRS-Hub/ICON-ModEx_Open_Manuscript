{
 "cells": [
  {
   "cell_type": "markdown",
   "id": "1aa81557",
   "metadata": {
    "tags": [
     "papermill-error-cell-tag"
    ]
   },
   "source": [
    "<span style=\"color:red; font-family:Helvetica Neue, Helvetica, Arial, sans-serif; font-size:2em;\">An Exception was encountered at '<a href=\"#papermill-error-cell\">In [4]</a>'.</span>"
   ]
  },
  {
   "cell_type": "raw",
   "id": "6bf7d4b3",
   "metadata": {
    "papermill": {
     "duration": 0.001958,
     "end_time": "2024-07-17T21:17:26.107799",
     "exception": false,
     "start_time": "2024-07-17T21:17:26.105841",
     "status": "completed"
    },
    "tags": []
   },
   "source": [
    "---\n",
    "title: \"Fig2_Rversion\"\n",
    "author: \"Bre Rivera Waterman\"\n",
    "date: \"2024-02-22\"\n",
    "output: github_document\n",
    "editor_options: \n",
    "  chunk_output_type: console\n",
    "chunk_output_type: inline\n",
    "---"
   ]
  },
  {
   "cell_type": "code",
   "execution_count": 1,
   "id": "f3d3c52b-4224-469c-ba3b-75ed4a58a431",
   "metadata": {
    "execution": {
     "iopub.execute_input": "2024-07-17T21:17:26.138756Z",
     "iopub.status.busy": "2024-07-17T21:17:26.136024Z",
     "iopub.status.idle": "2024-07-17T21:17:26.165705Z",
     "shell.execute_reply": "2024-07-17T21:17:26.164112Z"
    },
    "papermill": {
     "duration": 0.057527,
     "end_time": "2024-07-17T21:17:26.167547",
     "exception": false,
     "start_time": "2024-07-17T21:17:26.110020",
     "status": "completed"
    },
    "tags": [
     "parameters"
    ]
   },
   "outputs": [],
   "source": [
    "# Parameters cell for papermill launching\n",
    "work_dir <- \"./intermediate_branch_data/Nov-2023-log10\""
   ]
  },
  {
   "cell_type": "code",
   "execution_count": 2,
   "id": "229e3bf7",
   "metadata": {
    "execution": {
     "iopub.execute_input": "2024-07-17T21:17:26.198880Z",
     "iopub.status.busy": "2024-07-17T21:17:26.172384Z",
     "iopub.status.idle": "2024-07-17T21:17:26.209812Z",
     "shell.execute_reply": "2024-07-17T21:17:26.208262Z"
    },
    "papermill": {
     "duration": 0.042613,
     "end_time": "2024-07-17T21:17:26.211921",
     "exception": false,
     "start_time": "2024-07-17T21:17:26.169308",
     "status": "completed"
    },
    "tags": [
     "injected-parameters"
    ]
   },
   "outputs": [],
   "source": [
    "# Parameters\n",
    "work_dir = \"./intermediate_branch_data/Nov-2023-log10-DO-update-correct\"\n"
   ]
  },
  {
   "cell_type": "code",
   "execution_count": 3,
   "id": "3ee45c0c",
   "metadata": {
    "execution": {
     "iopub.execute_input": "2024-07-17T21:17:26.219354Z",
     "iopub.status.busy": "2024-07-17T21:17:26.217873Z",
     "iopub.status.idle": "2024-07-17T21:17:26.235391Z",
     "shell.execute_reply": "2024-07-17T21:17:26.233853Z"
    },
    "name": "setup",
    "papermill": {
     "duration": 0.022762,
     "end_time": "2024-07-17T21:17:26.236996",
     "exception": false,
     "start_time": "2024-07-17T21:17:26.214234",
     "status": "completed"
    },
    "tags": []
   },
   "outputs": [
    {
     "data": {
      "text/html": [
       "'/home/sfgary/ICON-ModEx_Open_Manuscript/fig03-model-score-evolution/intermediate_branch_data/Nov-2023-log10-DO-update-correct'"
      ],
      "text/latex": [
       "'/home/sfgary/ICON-ModEx\\_Open\\_Manuscript/fig03-model-score-evolution/intermediate\\_branch\\_data/Nov-2023-log10-DO-update-correct'"
      ],
      "text/markdown": [
       "'/home/sfgary/ICON-ModEx_Open_Manuscript/fig03-model-score-evolution/intermediate_branch_data/Nov-2023-log10-DO-update-correct'"
      ],
      "text/plain": [
       "[1] \"/home/sfgary/ICON-ModEx_Open_Manuscript/fig03-model-score-evolution/intermediate_branch_data/Nov-2023-log10-DO-update-correct\""
      ]
     },
     "metadata": {},
     "output_type": "display_data"
    }
   ],
   "source": [
    "# Change to working directory\n",
    "setwd(work_dir)\n",
    "\n",
    "# Confirmation of change directory\n",
    "getwd()"
   ]
  },
  {
   "cell_type": "markdown",
   "id": "fba3fe8a",
   "metadata": {
    "tags": [
     "papermill-error-cell-tag"
    ]
   },
   "source": [
    "<span id=\"papermill-error-cell\" style=\"color:red; font-family:Helvetica Neue, Helvetica, Arial, sans-serif; font-size:2em;\">Execution using papermill encountered an exception here and stopped:</span>"
   ]
  },
  {
   "cell_type": "code",
   "execution_count": 4,
   "id": "52ea8d24-f8be-4012-a74b-56dfd8767821",
   "metadata": {
    "execution": {
     "iopub.execute_input": "2024-07-17T21:17:26.243294Z",
     "iopub.status.busy": "2024-07-17T21:17:26.242059Z",
     "iopub.status.idle": "2024-07-17T21:17:26.789888Z",
     "shell.execute_reply": "2024-07-17T21:17:26.788311Z"
    },
    "papermill": {
     "duration": 0.552696,
     "end_time": "2024-07-17T21:17:26.791680",
     "exception": true,
     "start_time": "2024-07-17T21:17:26.238984",
     "status": "failed"
    },
    "tags": []
   },
   "outputs": [
    {
     "name": "stderr",
     "output_type": "stream",
     "text": [
      "── \u001b[1mAttaching core tidyverse packages\u001b[22m ──────────────────────── tidyverse 2.0.0 ──\n",
      "\u001b[32m✔\u001b[39m \u001b[34mdplyr    \u001b[39m 1.1.3     \u001b[32m✔\u001b[39m \u001b[34mreadr    \u001b[39m 2.1.4\n",
      "\u001b[32m✔\u001b[39m \u001b[34mforcats  \u001b[39m 1.0.0     \u001b[32m✔\u001b[39m \u001b[34mstringr  \u001b[39m 1.5.0\n",
      "\u001b[32m✔\u001b[39m \u001b[34mggplot2  \u001b[39m 3.4.4     \u001b[32m✔\u001b[39m \u001b[34mtibble   \u001b[39m 3.2.1\n",
      "\u001b[32m✔\u001b[39m \u001b[34mlubridate\u001b[39m 1.9.3     \u001b[32m✔\u001b[39m \u001b[34mtidyr    \u001b[39m 1.3.0\n",
      "\u001b[32m✔\u001b[39m \u001b[34mpurrr    \u001b[39m 1.0.2     \n"
     ]
    },
    {
     "name": "stderr",
     "output_type": "stream",
     "text": [
      "── \u001b[1mConflicts\u001b[22m ────────────────────────────────────────── tidyverse_conflicts() ──\n",
      "\u001b[31m✖\u001b[39m \u001b[34mdplyr\u001b[39m::\u001b[32mfilter()\u001b[39m masks \u001b[34mstats\u001b[39m::filter()\n",
      "\u001b[31m✖\u001b[39m \u001b[34mdplyr\u001b[39m::\u001b[32mlag()\u001b[39m    masks \u001b[34mstats\u001b[39m::lag()\n",
      "\u001b[36mℹ\u001b[39m Use the conflicted package (\u001b[3m\u001b[34m<http://conflicted.r-lib.org/>\u001b[39m\u001b[23m) to force all conflicts to become errors\n"
     ]
    },
    {
     "ename": "ERROR",
     "evalue": "Error in library(ggextra): there is no package called ‘ggextra’\n",
     "output_type": "error",
     "traceback": [
      "Error in library(ggextra): there is no package called ‘ggextra’\nTraceback:\n",
      "1. library(ggextra)"
     ]
    }
   ],
   "source": [
    "library(tidyverse)\n",
    "library(ggextra)"
   ]
  },
  {
   "cell_type": "markdown",
   "id": "6ab03933",
   "metadata": {
    "papermill": {
     "duration": null,
     "end_time": null,
     "exception": null,
     "start_time": null,
     "status": "pending"
    },
    "tags": []
   },
   "source": [
    "## Scatter plot  \n",
    "- using new merged dataset to create scatter plot\n",
    "- add kernel densities to the plots (along the side)"
   ]
  },
  {
   "cell_type": "code",
   "execution_count": null,
   "id": "29838df8",
   "metadata": {
    "lines_to_next_cell": 2,
    "papermill": {
     "duration": null,
     "end_time": null,
     "exception": null,
     "start_time": null,
     "status": "pending"
    },
    "tags": []
   },
   "outputs": [],
   "source": [
    "#some filtering/mutating first \n",
    "combods_split <- read_csv(\"ICON-ModEx_Combined_Predicted_Observed_Respiration_Rates.csv\", na = c(-9999, \"N/A\", \"NA\", NA)) %>%\n",
    "#remova Na's\n",
    "  #split data set into \"hot\" and \"cold\" spots\n",
    "  mutate(ds_split = ifelse(Log_Observed_Normalized_Respiration_Rate > 2.7, \"500+\",                         ifelse(Log_Observed_Normalized_Respiration_Rate < 2.7, \"500-\", \"500-\") )) %>% \n",
    "  \n",
    "#clasifying by quadrant (hot, cold, misclass hot, misclass cold) by year\n",
    "# Need to get rid of the year because we are working year-by-year\n",
    "  mutate(ds_quadrant23 =                                                    ifelse(Log_Observed_Normalized_Respiration_Rate > 2.7 & Log_Predicted_Normalized_Respiration_Rate > 2.7 , \"hs23\",\n",
    "  ifelse(Log_Observed_Normalized_Respiration_Rate > 2.7 & Log_Predicted_Normalized_Respiration_Rate < 2.7 , \"misclass_hs23\",                                                                                              \n",
    "ifelse(Log_Observed_Normalized_Respiration_Rate < 2.7 & Log_Predicted_Normalized_Respiration_Rate < 2.7 , \"cs23\",    \n",
    "ifelse(Log_Observed_Normalized_Respiration_Rate < 2.7 & Log_Predicted_Normalized_Respiration_Rate > 2.7 , \"misclass_cs23\", NA)))) )"
   ]
  },
  {
   "cell_type": "markdown",
   "id": "be323c6e",
   "metadata": {
    "papermill": {
     "duration": null,
     "end_time": null,
     "exception": null,
     "start_time": null,
     "status": "pending"
    },
    "tags": []
   },
   "source": [
    "### Scatter plot\n",
    " - needs to have kernel density plots on y and x axis\n",
    " - needs use log data\n",
    " - needs to have overall line, line for above 500, below 500, and R^2 values for all three\n",
    " - facet wrap or color dots by iteration (first versus last)\n",
    " \n",
    " - right now s19s iteration, but want OG 0th iteration"
   ]
  },
  {
   "cell_type": "code",
   "execution_count": null,
   "id": "e97facfa",
   "metadata": {
    "lines_to_next_cell": 0,
    "papermill": {
     "duration": null,
     "end_time": null,
     "exception": null,
     "start_time": null,
     "status": "pending"
    },
    "tags": []
   },
   "outputs": [],
   "source": [
    "#add in lm's\n",
    "#run 3 lm up here, then extract R^2, then call into annotate \n",
    "lm_all_final <- lm(Log_Predicted_Normalized_Respiration_Rate ~ Log_Observed_Normalized_Respiration_Rate, combods_split)\n",
    "summary(lm_all_final)\n",
    "\n",
    "lm_sup_final <- lm(Log_Predicted_Normalized_Respiration_Rate ~ Log_Observed_Normalized_Respiration_Rate, combods_split %>% filter(ds_split == \"500+\"))\n",
    "summary(lm_sup_final)\n",
    "\n",
    "lm_sub_final <- lm(Log_Predicted_Normalized_Respiration_Rate ~ Log_Observed_Normalized_Respiration_Rate, combods_split %>% filter(ds_split == \"500-\"))\n",
    "summary(lm_sub_final)\n",
    "\n",
    "\n",
    "\n",
    "fullscatter_lastiteration <- \n",
    "  combods_split %>% ggplot(aes(abs(Log_Observed_Normalized_Respiration_Rate ),\n",
    "                      abs(Log_Predicted_Normalized_Respiration_Rate) #)) + #\n",
    "                      ,  color =  ds_split))+ \n",
    "#to see R^2 for above/below thresholds, remove color grouping above and use stat poly eq fx (below)\n",
    "  geom_point(color = \"darkgrey\", size = 3, pch = 21) + \n",
    "    geom_vline (xintercept = 2.7, linetype = \"dashed\", color=\"grey\") + \n",
    "    geom_hline (yintercept = 2.7, linetype = \"dashed\", color=\"dark grey\") + #not a clear threshold \n",
    "      geom_abline (linetype = \"longdash\", color=\"black\") + #not a clear threshold\n",
    "\n",
    "# Required by ggextra, fails to import above. Where are the other lines (blue and red) plotted?\n",
    "     #ggpmisc::stat_poly_line(color = \"black\", alpha = 0.5) + #overall best fit\n",
    "\n",
    "\n",
    "# stat_poly_eq(use_label(c( \"R2\"))) + #remove hashtag to see R^2 of log500 split\n",
    " \n",
    "    geom_smooth( aes(abs(Log_Observed_Normalized_Respiration_Rate ), #above/below threshold best fit\n",
    "                      abs(Log_Predicted_Normalized_Respiration_Rate),\n",
    "                      color =  ds_split), method = \"lm\", alpha = 0.2) + \n",
    "    geom_smooth( aes(abs(Log_Observed_Normalized_Respiration_Rate ), #above/below threshold best fit\n",
    "                      abs(Log_Predicted_Normalized_Respiration_Rate)), method = \"lm\", alpha = 0.2,\n",
    "                      color =  \"black\") +\n",
    "  xlab(\"log10(Observed rates)\") + \n",
    "  ylab(\"log10(Predicted rates)\") + \n",
    "scale_shape_manual(values = c(21, 16)) + #shape or color by iteration\n",
    "  scale_color_manual(values = c( \"lightblue\", \"maroon\")) +\n",
    "\n",
    "annotate('text', label = str_c('R^2 == ', round(summary(lm_all_final)$r.squared, 2)), parse = T, x = 3.5, y = 0.75, size = 5, family = 'serif', color = \"black\")+\n",
    "annotate('text', label = str_c('R^2 == ', round(summary(lm_sub_final)$r.squared, 2)), parse = T, x = 3.5, y = 0.5, size = 5, family = 'serif', color=\"lightblue\")+\n",
    "annotate('text', label = str_c('R^2 == ', round(summary(lm_sup_final)$r.squared, 2)), parse = T, x = 3.5, y = 0.25, size = 5, family = 'serif',  color=\"maroon\")+\n",
    "    \n",
    "  lims(y = c(0,4), x = c(0,4)) + \n",
    "  theme_classic() +\n",
    "   theme(text = element_text(size = 16, family = 'serif'), \n",
    "         legend.position = 0)\n",
    "\n",
    "#adding density plots on axes\n",
    " histograms <- ggExtra::ggMarginal(fullscatter_lastiteration, fill = \"lightgrey\")\n",
    " \n",
    "# Original plot save in tidy\n",
    "ggsave(filename = \"./scatter.png\", plot = histograms, width = 6, height = 6, dpi = 300)  \n",
    "#ggsave(filename = \"./scatter.pdf\", plot = fullscatter_lastiteration, width = 6, height = 6, units=\"in\", dpi = 300, device=\"pdf\")  \n",
    "# View plot inline\n",
    "#histograms\n",
    "\n",
    "# Alternative in base\n",
    "#png(\"./scatter.png\")\n",
    "#print(histograms)\n",
    "#print(fullscatter_lastiteration)\n",
    "#dev.off()"
   ]
  },
  {
   "cell_type": "markdown",
   "id": "ac959c03",
   "metadata": {
    "papermill": {
     "duration": null,
     "end_time": null,
     "exception": null,
     "start_time": null,
     "status": "pending"
    },
    "tags": []
   },
   "source": [
    "\n"
   ]
  },
  {
   "cell_type": "code",
   "execution_count": null,
   "id": "a528eecb-5292-454b-87ac-96d2c3f61766",
   "metadata": {
    "papermill": {
     "duration": null,
     "end_time": null,
     "exception": null,
     "start_time": null,
     "status": "pending"
    },
    "tags": []
   },
   "outputs": [],
   "source": [
    "# Display figure inline if necessary\n",
    "histograms"
   ]
  },
  {
   "cell_type": "markdown",
   "id": "2517bfca",
   "metadata": {
    "papermill": {
     "duration": null,
     "end_time": null,
     "exception": null,
     "start_time": null,
     "status": "pending"
    },
    "tags": []
   },
   "source": []
  }
 ],
 "metadata": {
  "jupytext": {
   "cell_metadata_filter": "tags,name,-all",
   "main_language": "R",
   "notebook_metadata_filter": "-all"
  },
  "kernelspec": {
   "display_name": "R",
   "language": "R",
   "name": "ir"
  },
  "language_info": {
   "codemirror_mode": "r",
   "file_extension": ".r",
   "mimetype": "text/x-r-source",
   "name": "R",
   "pygments_lexer": "r",
   "version": "4.3.1"
  },
  "papermill": {
   "default_parameters": {},
   "duration": 1.65325,
   "end_time": "2024-07-17T21:17:26.913024",
   "environment_variables": {},
   "exception": true,
   "input_path": "make_scatter_plot.ipynb",
   "output_path": "log_scatter_plot.ipynb",
   "parameters": {
    "work_dir": "./intermediate_branch_data/Nov-2023-log10-DO-update-correct"
   },
   "start_time": "2024-07-17T21:17:25.259774",
   "version": "2.6.0"
  }
 },
 "nbformat": 4,
 "nbformat_minor": 5
}