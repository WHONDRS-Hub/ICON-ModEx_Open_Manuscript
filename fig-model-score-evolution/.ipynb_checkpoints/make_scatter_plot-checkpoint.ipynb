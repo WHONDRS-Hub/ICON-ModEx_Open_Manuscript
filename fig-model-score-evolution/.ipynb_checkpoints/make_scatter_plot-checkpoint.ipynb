{
 "cells": [
  {
   "cell_type": "raw",
   "id": "6bf7d4b3",
   "metadata": {
    "tags": []
   },
   "source": [
    "---\n",
    "title: \"Fig2_Rversion\"\n",
    "author: \"Bre Rivera Waterman\"\n",
    "date: \"2024-02-22\"\n",
    "output: github_document\n",
    "editor_options: \n",
    "  chunk_output_type: console\n",
    "chunk_output_type: inline\n",
    "---"
   ]
  },
  {
   "cell_type": "code",
   "execution_count": null,
   "id": "f3d3c52b-4224-469c-ba3b-75ed4a58a431",
   "metadata": {
    "tags": [
     "parameters"
    ]
   },
   "outputs": [],
   "source": [
    "# Parameters cell for papermill launching\n",
    "work_dir <- \"./intermediate_branch_data/Nov-2023-log10\""
   ]
  },
  {
   "cell_type": "code",
   "execution_count": null,
   "id": "3ee45c0c",
   "metadata": {
    "name": "setup",
    "tags": []
   },
   "outputs": [],
   "source": [
    "# Change to working directory\n",
    "setwd(work_dir)\n",
    "\n",
    "# Confirmation of change directory\n",
    "getwd()"
   ]
  },
  {
   "cell_type": "code",
   "execution_count": null,
   "id": "c183df8a-98c4-49a1-a853-924171928455",
   "metadata": {
    "tags": []
   },
   "outputs": [],
   "source": [
    "system(\"conda env list\", intern=TRUE)"
   ]
  },
  {
   "cell_type": "code",
   "execution_count": null,
   "id": "52ea8d24-f8be-4012-a74b-56dfd8767821",
   "metadata": {
    "tags": []
   },
   "outputs": [],
   "source": [
    "library(tidyverse)\n",
    "# Capitalization matters!\n",
    "library(ggExtra)\n",
    "library(segmented)"
   ]
  },
  {
   "cell_type": "markdown",
   "id": "6ab03933",
   "metadata": {},
   "source": [
    "## Scatter plot  \n",
    "- using new merged dataset to create scatter plot\n",
    "- add kernel densities to the plots (along the side)"
   ]
  },
  {
   "cell_type": "code",
   "execution_count": null,
   "id": "29838df8",
   "metadata": {
    "lines_to_next_cell": 2,
    "tags": []
   },
   "outputs": [],
   "source": [
    "#some filtering/mutating first \n",
    "combods_split <- read_csv(\"ICON-ModEx_Combined_Predicted_Observed_Respiration_Rates.csv\", na = c(-9999, \"N/A\", \"NA\", NA)) ### %>%\n",
    "#remova Na's\n",
    "  #split data set into \"hot\" and \"cold\" spots\n",
    "  #TMP-TEST-SFG#mutate(ds_split = ifelse(Log_Observed_Normalized_Respiration_Rate > 2.7, \"500+\",                         ifelse(Log_Observed_Normalized_Respiration_Rate < 2.7, \"500-\", \"500-\") )) %>% \n",
    "  ###\n",
    "### #clasifying by quadrant (hot, cold, misclass hot, misclass cold) by year\n",
    "### # Need to get rid of the year because we are working year-by-year\n",
    "###  mutate(ds_quadrant23 =                                                    ifelse(Log_Observed_Normalized_Respiration_Rate > 2.7 & Log_Predicted_Normalized_Respiration_Rate > 2.7 , \"hs23\",\n",
    "###  ifelse(Log_Observed_Normalized_Respiration_Rate > 2.7 & Log_Predicted_Normalized_Respiration_Rate < 2.7 , \"misclass_hs23\",                                                                                              \n",
    "### ifelse(Log_Observed_Normalized_Respiration_Rate < 2.7 & Log_Predicted_Normalized_Respiration_Rate < 2.7 , \"cs23\",    \n",
    "### ifelse(Log_Observed_Normalized_Respiration_Rate < 2.7 & Log_Predicted_Normalized_Respiration_Rate > 2.7 , \"misclass_cs23\", NA)))) )"
   ]
  },
  {
   "cell_type": "markdown",
   "id": "be323c6e",
   "metadata": {},
   "source": [
    "## Scatter plot in log-log space\n",
    " - needs to have kernel density plots on y and x axis\n",
    " - needs use log data\n",
    " - needs to have overall line, line for above 500, below 500, and R^2 values for all three\n",
    " - facet wrap or color dots by iteration (first versus last)\n",
    " \n",
    " - right now s19s iteration, but want OG 0th iteration"
   ]
  },
  {
   "cell_type": "code",
   "execution_count": null,
   "id": "e97facfa",
   "metadata": {
    "lines_to_next_cell": 0,
    "tags": []
   },
   "outputs": [],
   "source": [
    "#add in lm's\n",
    "#run 3 lm up here, then extract R^2, then call into annotate \n",
    "lm_all_final <- lm(Log_Predicted_Normalized_Respiration_Rate ~ Log_Observed_Normalized_Respiration_Rate, combods_split)\n",
    "summary(lm_all_final)\n",
    "\n",
    "#breakpoint\n",
    "breakpoint <- segmented(lm_all_final)$psi[,2]\n",
    "bp_uncertainty <- segmented(lm_all_final)$psi[,3]\n",
    "segCI <- confint(lm_all_final,level = 0.95)\n",
    "\n",
    "combods_split <- combods_split%>%\n",
    "   mutate(ds_split = ifelse(Log_Observed_Normalized_Respiration_Rate > breakpoint, \"Hot\", ifelse(Log_Observed_Normalized_Respiration_Rate < breakpoint, \"Cold\", \"Cold\") ))\n",
    "\n",
    "lm_sup_final <- lm(Log_Predicted_Normalized_Respiration_Rate ~ Log_Observed_Normalized_Respiration_Rate, combods_split %>% filter(Log_Observed_Normalized_Respiration_Rate >= breakpoint))\n",
    "summary(lm_sup_final)\n",
    "\n",
    "lm_sub_final <- lm(Log_Predicted_Normalized_Respiration_Rate ~ Log_Observed_Normalized_Respiration_Rate, combods_split %>% filter(Log_Observed_Normalized_Respiration_Rate < breakpoint))\n",
    "summary(lm_sub_final)\n",
    "\n",
    "branch_name <- str_extract(work_dir, '[^/]+$')\n",
    "branch_name_split <- str_split(branch_name, '-')[[1]]\n",
    "\n",
    "# Relabel branch names for clarity\n",
    "# Sep 2019 is completed 2019 data set, but it wasn't ready until very late 2021.\n",
    "# Dec 2021 is data as presented to the community meeting with is an incomplete subset of Sep 2019 (now renamed).\n",
    "if (str_detect(branch_name,\"2019\")){\n",
    "    month <- \"Dec\"\n",
    "    year <- \"2021b\"}else if(str_detect(branch_name,\"2021\")){\n",
    "    month <- \"Dec\"\n",
    "    year <- \"2021a\"\n",
    "    }else{\n",
    "    month <- branch_name_split[1]\n",
    "    year <- branch_name_split[2]}\n",
    "\n",
    "fullscatter_lastiteration <- \n",
    "  combods_split %>% ggplot(aes(abs(Log_Observed_Normalized_Respiration_Rate ),\n",
    "                      abs(Log_Predicted_Normalized_Respiration_Rate) #)) + #\n",
    "                      ,  color =  ds_split))+ \n",
    "#to see R^2 for above/below thresholds, remove color grouping above and use stat poly eq fx (below)\n",
    "  geom_point(color = \"darkgrey\", size = 3, pch = 21) + \n",
    "    geom_vline (xintercept = breakpoint, linetype = \"dashed\", color=\"grey\") + \n",
    "    geom_hline (yintercept = breakpoint, linetype = \"dashed\", color=\"dark grey\") + #not a clear threshold \n",
    "      geom_abline (linetype = \"longdash\", color=\"black\") + #not a clear threshold\n",
    "\n",
    "# Required by ggextra, fails to import above. Where are the other lines (blue and red) plotted?\n",
    "     #ggpmisc::stat_poly_line(color = \"black\", alpha = 0.5) + #overall best fit\n",
    "\n",
    "\n",
    "# stat_poly_eq(use_label(c( \"R2\"))) + #remove hashtag to see R^2 of log500 split\n",
    " \n",
    "    geom_smooth( aes(abs(Log_Observed_Normalized_Respiration_Rate ), #above/below threshold best fit\n",
    "                      abs(Log_Predicted_Normalized_Respiration_Rate),\n",
    "                      color =  ds_split), method = \"lm\", alpha = 0.2) + \n",
    "    geom_smooth( aes(abs(Log_Observed_Normalized_Respiration_Rate ), #above/below threshold best fit\n",
    "                      abs(Log_Predicted_Normalized_Respiration_Rate)), method = \"lm\", alpha = 0.2,\n",
    "                      color =  \"black\") +\n",
    "  xlab(\"log10(Observed rates)\") + \n",
    "  ylab(\"log10(Predicted rates)\") + \n",
    "scale_shape_manual(values = c(21, 16)) + #shape or color by iteration\n",
    "  scale_color_manual(values = c( \"lightblue\", \"maroon\")) +\n",
    "\n",
    "annotate('text', label = str_c('R^2 == ', round(summary(lm_all_final)$r.squared, 2)), parse = T, x = 3.5, y = 0.75, size = 5, family = 'serif', color = \"black\")+\n",
    "annotate('text', label = str_c('R^2 == ', round(summary(lm_sub_final)$r.squared, 2)), parse = T, x = 3.5, y = 0.5, size = 5, family = 'serif', color=\"lightblue\")+\n",
    "annotate('text', label = str_c('R^2 == ', round(summary(lm_sup_final)$r.squared, 2)), parse = T, x = 3.5, y = 0.25, size = 5, family = 'serif',  color=\"maroon\")+\n",
    "\n",
    "annotate('text', label = str_c('RMSE == ', round(sqrt(mean(lm_all_final$residuals^2)), 2)), parse = T, x = 2.0, y = 0.72, size = 5, family = 'serif', color = \"black\")+\n",
    "annotate('text', label = str_c('RMSE == ', round(sqrt(mean(lm_sub_final$residuals^2)), 2)), parse = T, x = 2.0, y = 0.47, size = 5, family = 'serif', color = \"lightblue\")+\n",
    "annotate('text', label = str_c('RMSE == ', round(sqrt(mean(lm_sup_final$residuals^2)), 2)), parse = T, x = 2.0, y = 0.22, size = 5, family = 'serif', color = \"maroon\")+\n",
    "\n",
    "annotate('text', label = paste(month, year), x = 0.5, y = 4, size = 5, family = 'serif',  color=\"black\")+\n",
    "\n",
    "annotate('text', label = round(breakpoint,2), x = breakpoint, y = 3.8, size = 5, family = 'serif',  color=\"black\")+\n",
    "\n",
    "lims(y = c(0,4), x = c(0,4)) + \n",
    "  theme_classic() +\n",
    "   theme(text = element_text(size = 16, family = 'serif'), \n",
    "         legend.position = 0)\n",
    "\n",
    "#adding density plots on axes\n",
    " histograms <- ggExtra::ggMarginal(fullscatter_lastiteration, fill = \"lightgrey\")\n",
    " \n",
    "# Original plot save in tidy\n",
    "ggsave(filename = \"./scatter.png\", plot = histograms, width = 6, height = 6, dpi = 300)\n",
    "ggsave(filename = \"./scatter.pdf\", plot = histograms, width = 6, height = 6, dpi = 300)\n",
    "#ggsave(filename = \"./scatter.pdf\", plot = fullscatter_lastiteration, width = 6, height = 6, units=\"in\", dpi = 300, device=\"pdf\")  \n",
    "# View plot inline\n",
    "#histograms\n",
    "\n",
    "# Alternative in base\n",
    "#png(\"./scatter.png\")\n",
    "#print(histograms)\n",
    "#print(fullscatter_lastiteration)\n",
    "#dev.off()"
   ]
  },
  {
   "cell_type": "markdown",
   "id": "ac959c03",
   "metadata": {},
   "source": [
    "\n"
   ]
  },
  {
   "cell_type": "code",
   "execution_count": null,
   "id": "a528eecb-5292-454b-87ac-96d2c3f61766",
   "metadata": {
    "tags": []
   },
   "outputs": [],
   "source": [
    "# Display figure inline if necessary\n",
    "histograms"
   ]
  },
  {
   "cell_type": "markdown",
   "id": "2517bfca",
   "metadata": {},
   "source": [
    "## Observations vs. predicted values scatter plots in normal space"
   ]
  },
  {
   "cell_type": "code",
   "execution_count": null,
   "id": "ddf472a0-8d41-4082-864d-fae6c97ed541",
   "metadata": {
    "tags": []
   },
   "outputs": [],
   "source": [
    "#add in lm's\n",
    "# Linear model is what generates the R^2\n",
    "#run 3 lm up here, then extract R^2, then call into annotate \n",
    "lm_all_final <- lm(Normalized_Respiration_Rate_mg_DO_per_H_per_L_sediment_pre_avg ~ Normalized_Respiration_Rate_mg_DO_per_H_per_L_sediment_obs, combods_split)\n",
    "summary(lm_all_final)\n",
    "\n",
    "#breakpoint\n",
    "breakpoint <- segmented(lm_all_final)$psi[,2]\n",
    "bp_uncertainty <- segmented(lm_all_final)$psi[,3]\n",
    "segCI <- confint(lm_all_final,level = 0.95)\n",
    "\n",
    "combods_split <- combods_split%>%\n",
    "   mutate(ds_split = ifelse(Normalized_Respiration_Rate_mg_DO_per_H_per_L_sediment_obs > breakpoint, \"Hot\", ifelse(Normalized_Respiration_Rate_mg_DO_per_H_per_L_sediment_obs < breakpoint, \"Cold\", \"Cold\") ))\n",
    "\n",
    "\n",
    "lm_sup_final <- lm(Normalized_Respiration_Rate_mg_DO_per_H_per_L_sediment_pre_avg ~ Normalized_Respiration_Rate_mg_DO_per_H_per_L_sediment_obs, combods_split %>% filter(Normalized_Respiration_Rate_mg_DO_per_H_per_L_sediment_obs >= breakpoint))\n",
    "summary(lm_sup_final)\n",
    "\n",
    "lm_sub_final <- lm(Normalized_Respiration_Rate_mg_DO_per_H_per_L_sediment_pre_avg ~ Normalized_Respiration_Rate_mg_DO_per_H_per_L_sediment_obs, combods_split %>% filter(Normalized_Respiration_Rate_mg_DO_per_H_per_L_sediment_obs < breakpoint))\n",
    "summary(lm_sub_final)\n",
    "\n",
    "fullscatter_lastiteration_no_log <- \n",
    "  combods_split %>% ggplot(aes(abs(Normalized_Respiration_Rate_mg_DO_per_H_per_L_sediment_obs ),\n",
    "                      abs(Normalized_Respiration_Rate_mg_DO_per_H_per_L_sediment_pre_avg) #)) + #\n",
    "                      ,  color =  ds_split))+ \n",
    "#to see R^2 for above/below thresholds, remove color grouping above and use stat poly eq fx (below)\n",
    "  geom_point(color = \"darkgrey\", size = 3, pch = 21) + \n",
    "    geom_vline (xintercept = abs(breakpoint), linetype = \"dashed\", color=\"grey\") + \n",
    "    geom_hline (yintercept = abs(breakpoint), linetype = \"dashed\", color=\"dark grey\") + #not a clear threshold \n",
    "      geom_abline (linetype = \"longdash\", color=\"black\") + #not a clear threshold\n",
    "\n",
    "# Required by ggextra, fails to import above. Where are the other lines (blue and red) plotted?\n",
    "     #ggpmisc::stat_poly_line(color = \"black\", alpha = 0.5) + #overall best fit\n",
    "\n",
    "\n",
    "# stat_poly_eq(use_label(c( \"R2\"))) + #remove hashtag to see R^2 of log500 split\n",
    " \n",
    "    geom_smooth( aes(abs(Normalized_Respiration_Rate_mg_DO_per_H_per_L_sediment_obs ), #above/below threshold best fit\n",
    "                      abs(Normalized_Respiration_Rate_mg_DO_per_H_per_L_sediment_pre_avg),\n",
    "                      color =  ds_split), method = \"lm\", alpha = 0.2) + \n",
    "    geom_smooth( aes(abs(Normalized_Respiration_Rate_mg_DO_per_H_per_L_sediment_obs ), #above/below threshold best fit\n",
    "                      abs(Normalized_Respiration_Rate_mg_DO_per_H_per_L_sediment_pre_avg)), method = \"lm\", alpha = 0.2,\n",
    "                      color =  \"black\") +\n",
    "  xlab(\"Observed rates\") + \n",
    "  ylab(\"Predicted rates\") + \n",
    "scale_shape_manual(values = c(21, 16)) + #shape or color by iteration\n",
    "  scale_color_manual(values = c( \"lightblue\", \"maroon\")) +\n",
    "\n",
    "annotate('text', label = str_c('R^2 == ', round(summary(lm_all_final)$r.squared, 2)), parse = T, x = 3500, y = 1500, size = 5, family = 'serif', color = \"black\")+\n",
    "annotate('text', label = str_c('R^2 == ', round(summary(lm_sub_final)$r.squared, 2)), parse = T, x = 3500, y = 1200, size = 5, family = 'serif', color=\"lightblue\")+\n",
    "annotate('text', label = str_c('R^2 == ', round(summary(lm_sup_final)$r.squared, 2)), parse = T, x = 3500, y = 1000, size = 5, family = 'serif',  color=\"maroon\")+\n",
    "    \n",
    "annotate('text', label = str_c('RMSE == ', round(sqrt(mean(lm_all_final$residuals^2)), 2)), parse = T, x = 1000.0, y = 3500, size = 5, family = 'serif', color = \"black\")+\n",
    "annotate('text', label = str_c('RMSE == ', round(sqrt(mean(lm_sub_final$residuals^2)), 2)), parse = T, x = 1000.0, y = 3200, size = 5, family = 'serif', color = \"lightblue\")+\n",
    "annotate('text', label = str_c('RMSE == ', round(sqrt(mean(lm_sup_final$residuals^2)), 2)), parse = T, x = 1000.0, y = 3000, size = 5, family = 'serif', color = \"maroon\")+\n",
    "\n",
    "annotate('text', label = paste(month, year), x = 450.0, y = 4000.0, size = 5, family = 'serif',  color=\"black\")+\n",
    "\n",
    "annotate('text', label = round(abs(breakpoint),2), x = abs(breakpoint), y = 3800.0, size = 5, family = 'serif',  color=\"black\")+\n",
    "\n",
    "  lims(y = c(0,4000), x = c(0,4000)) + \n",
    "  theme_classic() +\n",
    "   theme(text = element_text(size = 16, family = 'serif'), \n",
    "         legend.position = 0)\n",
    "\n",
    "#adding density plots on axes\n",
    " histograms_no_log <- ggExtra::ggMarginal(fullscatter_lastiteration_no_log, fill = \"lightgrey\")\n",
    " \n",
    "# Original plot save in tidy\n",
    "ggsave(filename = \"./scatter_no_log.png\", plot = histograms_no_log, width = 6, height = 6, dpi = 300)  "
   ]
  },
  {
   "cell_type": "code",
   "execution_count": null,
   "id": "0191d62d-07b4-4df9-84d4-822725360853",
   "metadata": {
    "tags": []
   },
   "outputs": [],
   "source": [
    "#fullscatter_lastiteration_no_log\n",
    "histograms_no_log"
   ]
  },
  {
   "cell_type": "code",
   "execution_count": null,
   "id": "68c3407c-7b03-4dd9-b8cd-ae865599291e",
   "metadata": {},
   "outputs": [],
   "source": []
  }
 ],
 "metadata": {
  "jupytext": {
   "cell_metadata_filter": "tags,name,-all",
   "main_language": "R",
   "notebook_metadata_filter": "-all"
  },
  "kernelspec": {
   "display_name": "R",
   "language": "R",
   "name": "ir"
  },
  "language_info": {
   "codemirror_mode": "r",
   "file_extension": ".r",
   "mimetype": "text/x-r-source",
   "name": "R",
   "pygments_lexer": "r",
   "version": "4.3.1"
  }
 },
 "nbformat": 4,
 "nbformat_minor": 5
}
