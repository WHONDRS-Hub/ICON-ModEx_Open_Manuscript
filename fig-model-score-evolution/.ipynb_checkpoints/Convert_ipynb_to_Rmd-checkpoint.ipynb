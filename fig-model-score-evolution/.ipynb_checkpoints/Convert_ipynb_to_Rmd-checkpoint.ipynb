{
 "cells": [
  {
   "cell_type": "code",
   "execution_count": 5,
   "id": "9aa3c9fa-e19e-49db-8b32-bf9f2befc2d4",
   "metadata": {
    "tags": []
   },
   "outputs": [],
   "source": [
    "input = \"make_scatter_plot.ipynb\"\n",
    "\n",
    "# xfun call simply replaces the .ipynb extension \n",
    "# with the Rmd extension to set the name of the\n",
    "# output file.\n",
    "rmarkdown:::convert_ipynb(input, output = xfun::with_ext(input, \"Rmd\"))"
   ]
  }
 ],
 "metadata": {
  "kernelspec": {
   "display_name": "R",
   "language": "R",
   "name": "ir"
  },
  "language_info": {
   "codemirror_mode": "r",
   "file_extension": ".r",
   "mimetype": "text/x-r-source",
   "name": "R",
   "pygments_lexer": "r",
   "version": "4.3.1"
  }
 },
 "nbformat": 4,
 "nbformat_minor": 5
}
