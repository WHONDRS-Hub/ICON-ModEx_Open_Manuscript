{
 "cells": [
  {
   "cell_type": "markdown",
   "id": "7577fdc8",
   "metadata": {},
   "source": [
    "# Assessing the ICON-ModEx ML models\n",
    "\n",
    "## How does the model score change with each ICON-ModEx iteration?\n",
    "This notebook will harvest the data from the `dynamic-learning-rivers` repository to make a plot showing the evolution of the ML models as more traininig data is added.\n",
    "\n",
    "## Important behind the scenes information\n",
    "Here, I am assuming that this notebook is running in a Linux context (e.g. pull a [container that runs a local Jupyter server](https://hub.docker.com/r/jupyter/datascience-notebook) and open the notebook therein). This code will switch branches within a repository that it downloads from GitHub to load the data for side by side comparisions. It will then delete the source repository and retain only the harvested data used for plotting. The harvested data will be saved alongside this notebook here.\n",
    "\n",
    "## Jumping between Python and R\n",
    "Working between these two languages can be done cell-by-cell (i.e. `r2py`) or, in this case, notebook by notebook by launching additional \"subnotebooks\" with `papermill`. We use the latter option here because we want a Python loop to launch a series of R tasks; this is harder to do when all the R must be in a separate cell from the Python.\n",
    "\n",
    "When installing R tidyverse into the conda environment, there are at least three options:\n",
    "1. Direct install from CRAN, e.g.:\n",
    "```\n",
    "install.packages(\"tidyverse\", repos='http://cran.us.r-project.org', quiet=FALSE, Ncpu=4)\n",
    "```\n",
    "2. Conda install from conda-forge:\n",
    "```\n",
    "conda install -c conda-forge r-tidyverse\n",
    "```\n",
    "3. Conda install from anaconda:\n",
    "```\n",
    "conda install -c anaconda r-tidyverse\n",
    "```\n",
    "As of July 2024, there are linking (not compile) errors for some of the dependencies in Option 1. Option 1, since it compiles from source, also takes a relatively long time (10's of minutes). Option 2 seemed like the best way to go since thre are many more downloads of those packages than Option 3, but there are some bugs in how the figure domain is set up and communicated to Jupyter thus impacting some plotting routines. Therefore, Option 3 is the only one that worked end-to-end. It could be that the exact version of Python and/or Jupyter that I am using conflicts with Option 2. The hashes differ on some, but not all, of the R packages installed in Options 2 and 3 (i.e. comparing them with `conda list | grep r-`)."
   ]
  },
  {
   "cell_type": "code",
   "execution_count": null,
   "id": "cde014e2",
   "metadata": {
    "tags": []
   },
   "outputs": [],
   "source": [
    "# Run once at start of notebook if these \n",
    "# packages are not already installed\n",
    "! conda install -y -q pandas numpy matplotlib\n",
    "! conda install -y -q papermill\n",
    "! conda install -y -q scikit-learn\n",
    "\n",
    "# Packages needed for R notebook\n",
    "# Conda install pulls binaries from conda-forge, much faster than\n",
    "# installing direct from CRAN (and building from source).\n",
    "# ALso, some packages have linking errors when building \n",
    "# from source.\n",
    "\n",
    "# Install packages from Conda Forge (Option 2, above)\n",
    "#! conda install -y -q -c conda-forge r-tidyverse\n",
    "#! conda install -y -q -c conda-forge r-colourpicker\n",
    "#! conda install -y -q -c conda-forge r-emmeans\n",
    "#! conda install -y -q -c conda-forge r-ggspatial\n",
    "#! conda install -y -q -c conda-forge r-spdata\n",
    "#! conda install -y -q -c conda-forge r-ggpmisc\n",
    "#! conda install -y -q -c conda-forge r-ggextra\n",
    "#! conda install -y -q -c conda-forge r-patchwork\n",
    "\n",
    "# Install packages from Anaconda (Option 3, above)\n",
    "! conda install -y -q -c anaconda r-tidyverse\n",
    "! conda install -y -q -c anaconda r-ggextra\n",
    "! conda install -y -q -c anaconda r-segmented\n",
    "\n",
    "# Get an environment definition file for reproducibility\n",
    "# (i.e. you can rebuild this environment with `conda env update --name <env_name> -f icon-modex-scatter-plot-conda-env.yaml`\n",
    "! conda env export > icon-modex-scatter-plot-conda-env.yaml"
   ]
  },
  {
   "cell_type": "code",
   "execution_count": 1,
   "id": "3546e7a0",
   "metadata": {
    "tags": []
   },
   "outputs": [
    {
     "name": "stderr",
     "output_type": "stream",
     "text": [
      "Matplotlib is building the font cache; this may take a moment.\n"
     ]
    }
   ],
   "source": [
    "import pandas as pd\n",
    "import numpy as np\n",
    "import papermill as pm\n",
    "import matplotlib.pyplot as plt\n",
    "import matplotlib as mpl\n",
    "from sklearn.metrics import roc_auc_score\n",
    "from sklearn.metrics import r2_score\n",
    "from sklearn.metrics import explained_variance_score"
   ]
  },
  {
   "cell_type": "markdown",
   "id": "8f0d2cd7",
   "metadata": {},
   "source": [
    "## Clone source repository"
   ]
  },
  {
   "cell_type": "code",
   "execution_count": 2,
   "id": "1118300c",
   "metadata": {
    "tags": []
   },
   "outputs": [
    {
     "name": "stdout",
     "output_type": "stream",
     "text": [
      "fatal: destination path 'dynamic-learning-rivers' already exists and is not an empty directory.\n"
     ]
    }
   ],
   "source": [
    "repo_prefix = '~/tmp/'\n",
    "repo_org='parallelworks'\n",
    "repo_name='dynamic-learning-rivers'\n",
    "repo_url = 'https://github.com/'+repo_org+'/'+repo_name\n",
    "\n",
    "! mkdir -p {repo_prefix}\n",
    "! cd {repo_prefix}; git clone {repo_url}"
   ]
  },
  {
   "cell_type": "markdown",
   "id": "7f5fe846",
   "metadata": {},
   "source": [
    "## Grab data and save to CSV\n",
    "Here we want to track the model score over ModEx iterations."
   ]
  },
  {
   "cell_type": "code",
   "execution_count": 3,
   "id": "e1a0852b",
   "metadata": {
    "tags": []
   },
   "outputs": [],
   "source": [
    "# Functionalize all the data preporatory steps based on the\n",
    "# branch name.\n",
    "def prep_data_on_branch(repo_prefix=repo_prefix, repo_name=repo_name, branch_name='main'):\n",
    "    \n",
    "    #===============================\n",
    "    # The following two commands are\n",
    "    # each independent of each other\n",
    "    # in that they run in two separate\n",
    "    # child shells spawned from the\n",
    "    # main underlying execution shell.\n",
    "    # This means that the mkdir command\n",
    "    # is NOT executed within the GitHub\n",
    "    # repository.\n",
    "    #=================================\n",
    "    # Change to the requested branch\n",
    "    ! cd {repo_prefix}/{repo_name}; git checkout {branch_name}\n",
    "    \n",
    "    # Create a working directory for this branch\n",
    "    ! mkdir -p ./intermediate_branch_data/{branch_name}\n",
    "    \n",
    "    # Load data we want to prepare/merge/preprocess\n",
    "    data_prefix=repo_prefix+'/'+repo_name\n",
    "    \n",
    "    # Some of the branches have different amounts of data \n",
    "    # available depending on when they were run and which\n",
    "    # version of the ML model generated the results.\n",
    "    \n",
    "    # Special case of reproducing old community\n",
    "    # meeting results with old ML model\n",
    "    if branch in ['Dec-2021a']:\n",
    "        target_name='Respiration_Rate_mg_DO_per_L_per_H'\n",
    "        \n",
    "    # Most likely case of new ML model with updating results\n",
    "    elif branch in [\n",
    "        'June-2023',\n",
    "        'Jul-2023',\n",
    "        'August-2023',\n",
    "        'Sep-2023',\n",
    "        'Oct-2023',\n",
    "        'Nov-2023',\n",
    "        'Dec-2021a-log10',\n",
    "        'Dec-2021b-log10',\n",
    "        'Jul-2022-log10',\n",
    "        'Aug-2022-log10',\n",
    "        'Sep-2022-log10',\n",
    "        'Oct-2022-log10',\n",
    "        'Nov-2022-log10',\n",
    "        'Dec-2022-log10',\n",
    "        'Jan-2023-log10',\n",
    "        'Feb-2023-log10',\n",
    "        'Mar-2023-log10',\n",
    "        'Apr-2023-log10',\n",
    "        'May-2023-log10',\n",
    "        'June-2023-log10',\n",
    "        'Jul-2023-log10',\n",
    "        'August-2023-log10',\n",
    "        'Sep-2023-log10',\n",
    "        'Oct-2023-log10',\n",
    "        'Nov-2023-log10',\n",
    "        'Nov-2023-log10-DO-update-correct',\n",
    "        'baseline_hp_100',\n",
    "        'baseline_hp_200',\n",
    "        'baseline_hp_300',\n",
    "        'baseline_lp_100',\n",
    "        'baseline_lp_200',\n",
    "        'baseline_lp_300',\n",
    "        'pca_hp_100',\n",
    "        'pca_hp_200',\n",
    "        'pca_hp_300',\n",
    "        'pca_lp_100',\n",
    "        'pca_lp_200',\n",
    "        'pca_lp_300']:\n",
    "        target_name='Normalized_Respiration_Rate_mg_DO_per_H_per_L_sediment'\n",
    "\n",
    "    # Special case of old ML model\n",
    "    else:\n",
    "        target_name='Respiration_Rate_mg_per_L_per_H'\n",
    "        \n",
    "    main_input = pd.read_csv(data_prefix+\"/scripts/prep_01_output_train.csv\")\n",
    "    avg_output = pd.read_csv(data_prefix+'/scripts/post_01_output_ml_predict_avg.csv')\n",
    "    std_output = pd.read_csv(data_prefix+'/scripts/post_01_output_ml_predict_std.csv')\n",
    "    \n",
    "    # Use Sample_ID as the index so files can be merged on this value\n",
    "    main_input.set_index('Sample_ID',inplace=True)\n",
    "    avg_output.set_index('Sample_ID',inplace=True)\n",
    "    std_output.set_index('Sample_ID',inplace=True)\n",
    "\n",
    "    # Merge files\n",
    "    avg_merge = pd.merge(\n",
    "        main_input,\n",
    "        avg_output, \n",
    "        left_index=True,\n",
    "        right_index=True,\n",
    "        suffixes=['_obs','_pre_avg'])\n",
    "    \n",
    "    # Add log calculations for use with R notebook\n",
    "    avg_merge['Log_Observed_Normalized_Respiration_Rate'] = np.log10(np.abs(avg_merge[target_name+'_obs']))\n",
    "    avg_merge['Log_Predicted_Normalized_Respiration_Rate'] = np.log10(np.abs(avg_merge[target_name+'_pre_avg']))\n",
    "    \n",
    "    # Add duplicate columns with uniform target name for\n",
    "    # use later\n",
    "    avg_merge['Observed_Normalized_Respiration_Rate'] = avg_merge[target_name+'_obs']\n",
    "    avg_merge['Predicted_Normalized_Respiration_Rate'] = avg_merge[target_name+'_pre_avg']\n",
    "    \n",
    "    # Add percent error\n",
    "    avg_merge['Observed_RR_percent_error'] = 100.0*np.abs( (\n",
    "        avg_merge['Observed_Normalized_Respiration_Rate'] - avg_merge['Predicted_Normalized_Respiration_Rate']\n",
    "    )/avg_merge['Observed_Normalized_Respiration_Rate'])\n",
    "    \n",
    "    all_merge = pd.merge(\n",
    "        avg_merge,\n",
    "        std_output, \n",
    "        left_index=True,\n",
    "        right_index=True,\n",
    "        suffixes=['','_pre_std'])\n",
    "\n",
    "    predict_and_obs_merge = pd.merge(\n",
    "        avg_output,\n",
    "        std_output,\n",
    "        left_index=True,\n",
    "        right_index=True,\n",
    "        suffixes=['_pre_avg','_pre_std'])\n",
    "    \n",
    "    # Write intermediate output files\n",
    "    # Name it the same as what the R notebook expects...\n",
    "    avg_merge.to_csv('intermediate_branch_data/'+branch_name+'/ICON-ModEx_Combined_Predicted_Observed_Respiration_Rates.csv',mode='w')\n",
    "    all_merge.to_csv('intermediate_branch_data/'+branch_name+'/output_obs_avgpre_stdpre_merged.csv',mode='w')\n",
    "    predict_and_obs_merge.to_csv('intermediate_branch_data/'+branch_name+'/output_all_sites_avgpre_stdpre_merged.csv',mode='w')\n",
    "\n",
    "    # Apply filter for points only in CONUS\n",
    "    ! ./conus_filter.sh ./intermediate_branch_data/{branch_name}"
   ]
  },
  {
   "cell_type": "code",
   "execution_count": 4,
   "id": "389484e4",
   "metadata": {
    "tags": []
   },
   "outputs": [],
   "source": [
    "# Start from fresh! Delete any .csv files that may already be here\n",
    "!rm -f ICON-ModEx_automated_iterations.csv\n",
    "\n",
    "# Define the threshold for strong/weak respiration rates\n",
    "respiration_threshold = -500.0 \n",
    "\n",
    "# List the branches we want to work with\n",
    "list_branches_scale = [\n",
    "    'Dec-2021a',\n",
    "    'Jul-2022',\n",
    "    'Aug-2022',\n",
    "    'Sep-2022',\n",
    "    'Oct-2022',\n",
    "    'Nov-2022',\n",
    "    'Dec-2022',\n",
    "    'Jan-2023',\n",
    "    'Feb-2023',\n",
    "    'Mar-2023',\n",
    "    'ICON-ModEx-v2.1-April-2023-replicate-01',\n",
    "    'ICON-ModEx-v2.1-April-2023-replicate-02',\n",
    "    'May-2023',\n",
    "    'June-2023',\n",
    "    'Jul-2023',\n",
    "    'August-2023',\n",
    "    'Sep-2023',\n",
    "    'Oct-2023',\n",
    "    'Nov-2023']\n",
    "\n",
    "list_branches_log10 = [\n",
    "    'Dec-2021a-log10',\n",
    "    'Dec-2021b-log10',\n",
    "    'Jul-2022-log10',\n",
    "    'Aug-2022-log10',\n",
    "    'Sep-2022-log10',\n",
    "    'Oct-2022-log10',\n",
    "    'Nov-2022-log10',\n",
    "    'Dec-2022-log10',\n",
    "    'Jan-2023-log10',\n",
    "    'Feb-2023-log10',\n",
    "    'Mar-2023-log10',\n",
    "    'Apr-2023-log10',\n",
    "    'May-2023-log10',\n",
    "    'June-2023-log10',\n",
    "    'Jul-2023-log10',\n",
    "    'August-2023-log10',\n",
    "    'Sep-2023-log10',\n",
    "    'Oct-2023-log10',\n",
    "    'Nov-2023-log10-DO-update-correct']\n",
    "\n",
    "list_branches_baseline = [\n",
    "    'baseline_hp_100',\n",
    "    'baseline_hp_200',\n",
    "    'baseline_hp_300',\n",
    "    'baseline_lp_100',\n",
    "    'baseline_lp_200',\n",
    "    'baseline_lp_300'\n",
    "]\n",
    "\n",
    "list_branches_pca = [\n",
    "    'pca_hp_100',\n",
    "    'pca_hp_200',\n",
    "    'pca_hp_300',\n",
    "    'pca_lp_100',\n",
    "    'pca_lp_200',\n",
    "    'pca_lp_300'\n",
    "]\n",
    "\n",
    "# Decompress CONUS outline dataset\n",
    "! gunzip -c us.xy.gz > us.xy"
   ]
  },
  {
   "cell_type": "code",
   "execution_count": 5,
   "id": "b4168840",
   "metadata": {
    "tags": []
   },
   "outputs": [
    {
     "name": "stdout",
     "output_type": "stream",
     "text": [
      "Updating files: 100% (511/511), done.\n",
      "branch 'Dec-2021a' set up to track 'origin/Dec-2021a'.\n",
      "Switched to a new branch 'Dec-2021a'\n",
      "Unable to find image 'parallelworks/gmt:latest' locally\n",
      "latest: Pulling from parallelworks/gmt\n",
      "\n",
      "\u001b[1B9c85623a: Pulling fs layer \n",
      "\u001b[1B03d09bef: Pulling fs layer \n",
      "\u001b[1B2b6ffd48: Pulling fs layer \n",
      "\u001b[1Be8630103: Pulling fs layer \n",
      "\u001b[1Bb75e7078: Pulling fs layer \n",
      "\u001b[1B1655d959: Pulling fs layer \n",
      "\u001b[1Bfdfeb463: Pull complete .64MB/87.64MBB[7A\u001b[2K\u001b[5A\u001b[2K\u001b[7A\u001b[2K\u001b[6A\u001b[2K\u001b[7A\u001b[2K\u001b[7A\u001b[2K\u001b[4A\u001b[2K\u001b[7A\u001b[2K\u001b[2A\u001b[2K\u001b[7A\u001b[2K\u001b[2A\u001b[2K\u001b[7A\u001b[2K\u001b[2A\u001b[2K\u001b[7A\u001b[2K\u001b[3A\u001b[2K\u001b[7A\u001b[2K\u001b[3A\u001b[2K\u001b[7A\u001b[2K\u001b[2A\u001b[2K\u001b[3A\u001b[2K\u001b[2A\u001b[2K\u001b[7A\u001b[2K\u001b[4A\u001b[2K\u001b[3A\u001b[2K\u001b[3A\u001b[2K\u001b[1A\u001b[2K\u001b[3A\u001b[2K\u001b[1A\u001b[2K\u001b[1A\u001b[2K\u001b[3A\u001b[2K\u001b[3A\u001b[2K\u001b[3A\u001b[2K\u001b[1A\u001b[2K\u001b[3A\u001b[2K\u001b[1A\u001b[2K\u001b[1A\u001b[2K\u001b[1A\u001b[2K\u001b[3A\u001b[2K\u001b[1A\u001b[2K\u001b[3A\u001b[2K\u001b[1A\u001b[2K\u001b[3A\u001b[2K\u001b[1A\u001b[2K\u001b[3A\u001b[2K\u001b[3A\u001b[2K\u001b[1A\u001b[2K\u001b[3A\u001b[2K\u001b[1A\u001b[2K\u001b[3A\u001b[2K\u001b[3A\u001b[2K\u001b[1A\u001b[2K\u001b[3A\u001b[2K\u001b[1A\u001b[2K\u001b[3A\u001b[2K\u001b[1A\u001b[2K\u001b[3A\u001b[2K\u001b[1A\u001b[2K\u001b[3A\u001b[2K\u001b[1A\u001b[2K\u001b[3A\u001b[2K\u001b[3A\u001b[2K\u001b[3A\u001b[2K\u001b[3A\u001b[2K\u001b[3A\u001b[2K\u001b[3A\u001b[2K\u001b[3A\u001b[2K\u001b[3A\u001b[2K\u001b[3A\u001b[2K\u001b[3A\u001b[2K\u001b[3A\u001b[2K\u001b[3A\u001b[2K\u001b[3A\u001b[2K\u001b[3A\u001b[2K\u001b[3A\u001b[2K\u001b[3A\u001b[2K\u001b[3A\u001b[2K\u001b[3A\u001b[2K\u001b[3A\u001b[2K\u001b[3A\u001b[2K\u001b[3A\u001b[2K\u001b[3A\u001b[2K\u001b[3A\u001b[2K\u001b[3A\u001b[2K\u001b[3A\u001b[2K\u001b[3A\u001b[2K\u001b[3A\u001b[2K\u001b[3A\u001b[2K\u001b[3A\u001b[2K\u001b[3A\u001b[2K\u001b[3A\u001b[2K\u001b[3A\u001b[2K\u001b[3A\u001b[2K\u001b[3A\u001b[2K\u001b[3A\u001b[2K\u001b[3A\u001b[2K\u001b[3A\u001b[2K\u001b[3A\u001b[2K\u001b[3A\u001b[2K\u001b[3A\u001b[2K\u001b[3A\u001b[2K\u001b[3A\u001b[2K\u001b[3A\u001b[2K\u001b[3A\u001b[2K\u001b[3A\u001b[2K\u001b[3A\u001b[2K\u001b[3A\u001b[2K\u001b[3A\u001b[2K\u001b[3A\u001b[2K\u001b[3A\u001b[2K\u001b[3A\u001b[2K\u001b[3A\u001b[2K\u001b[3A\u001b[2K\u001b[3A\u001b[2K\u001b[3A\u001b[2K\u001b[3A\u001b[2K\u001b[3A\u001b[2K\u001b[3A\u001b[2K\u001b[3A\u001b[2K\u001b[3A\u001b[2K\u001b[3A\u001b[2K\u001b[3A\u001b[2K\u001b[3A\u001b[2K\u001b[3A\u001b[2K\u001b[3A\u001b[2K\u001b[3A\u001b[2K\u001b[3A\u001b[2K\u001b[3A\u001b[2K\u001b[3A\u001b[2K\u001b[3A\u001b[2K\u001b[3A\u001b[2K\u001b[3A\u001b[2K\u001b[3A\u001b[2K\u001b[3A\u001b[2K\u001b[3A\u001b[2K\u001b[3A\u001b[2K\u001b[3A\u001b[2K\u001b[3A\u001b[2K\u001b[3A\u001b[2K\u001b[3A\u001b[2K\u001b[3A\u001b[2K\u001b[3A\u001b[2K\u001b[3A\u001b[2K\u001b[3A\u001b[2K\u001b[3A\u001b[2K\u001b[3A\u001b[2K\u001b[3A\u001b[2K\u001b[3A\u001b[2K\u001b[3A\u001b[2K\u001b[3A\u001b[2K\u001b[3A\u001b[2K\u001b[3A\u001b[2K\u001b[3A\u001b[2K\u001b[3A\u001b[2K\u001b[3A\u001b[2K\u001b[3A\u001b[2K\u001b[3A\u001b[2K\u001b[3A\u001b[2K\u001b[3A\u001b[2K\u001b[3A\u001b[2K\u001b[3A\u001b[2K\u001b[3A\u001b[2K\u001b[3A\u001b[2K\u001b[3A\u001b[2K\u001b[3A\u001b[2K\u001b[3A\u001b[2K\u001b[3A\u001b[2K\u001b[3A\u001b[2K\u001b[3A\u001b[2K\u001b[3A\u001b[2K\u001b[3A\u001b[2K\u001b[3A\u001b[2K\u001b[3A\u001b[2K\u001b[3A\u001b[2K\u001b[3A\u001b[2K\u001b[3A\u001b[2K\u001b[3A\u001b[2K\u001b[3A\u001b[2K\u001b[3A\u001b[2K\u001b[3A\u001b[2K\u001b[3A\u001b[2K\u001b[3A\u001b[2K\u001b[3A\u001b[2K\u001b[3A\u001b[2K\u001b[3A\u001b[2K\u001b[3A\u001b[2K\u001b[3A\u001b[2K\u001b[3A\u001b[2K\u001b[3A\u001b[2K\u001b[3A\u001b[2K\u001b[3A\u001b[2K\u001b[3A\u001b[2K\u001b[3A\u001b[2K\u001b[3A\u001b[2K\u001b[3A\u001b[2K\u001b[3A\u001b[2K\u001b[3A\u001b[2K\u001b[3A\u001b[2K\u001b[3A\u001b[2K\u001b[3A\u001b[2K\u001b[3A\u001b[2K\u001b[3A\u001b[2K\u001b[3A\u001b[2K\u001b[3A\u001b[2K\u001b[3A\u001b[2K\u001b[3A\u001b[2K\u001b[3A\u001b[2K\u001b[3A\u001b[2K\u001b[3A\u001b[2K\u001b[3A\u001b[2K\u001b[3A\u001b[2K\u001b[3A\u001b[2K\u001b[3A\u001b[2K\u001b[3A\u001b[2K\u001b[3A\u001b[2K\u001b[3A\u001b[2K\u001b[3A\u001b[2K\u001b[3A\u001b[2K\u001b[3A\u001b[2K\u001b[3A\u001b[2K\u001b[3A\u001b[2K\u001b[3A\u001b[2K\u001b[3A\u001b[2K\u001b[3A\u001b[2K\u001b[3A\u001b[2K\u001b[3A\u001b[2K\u001b[3A\u001b[2K\u001b[3A\u001b[2K\u001b[3A\u001b[2K\u001b[3A\u001b[2K\u001b[3A\u001b[2K\u001b[3A\u001b[2K\u001b[3A\u001b[2K\u001b[3A\u001b[2K\u001b[3A\u001b[2K\u001b[3A\u001b[2K\u001b[3A\u001b[2K\u001b[3A\u001b[2K\u001b[3A\u001b[2K\u001b[3A\u001b[2K\u001b[3A\u001b[2K\u001b[3A\u001b[2K\u001b[3A\u001b[2K\u001b[3A\u001b[2K\u001b[3A\u001b[2K\u001b[2A\u001b[2K\u001b[2A\u001b[2K\u001b[2A\u001b[2K\u001b[2A\u001b[2K\u001b[2A\u001b[2K\u001b[2A\u001b[2K\u001b[2A\u001b[2K\u001b[1A\u001b[2K\u001b[1A\u001b[2K\u001b[1A\u001b[2K\u001b[1A\u001b[2K\u001b[1A\u001b[2K\u001b[1A\u001b[2K\u001b[1A\u001b[2K\u001b[1A\u001b[2K\u001b[1A\u001b[2K\u001b[1A\u001b[2K\u001b[1A\u001b[2K\u001b[1A\u001b[2KDigest: sha256:9b4274e2b29d9678583fd5ad1d64cc5cb7c6b830de542d418fd2a3a76399c871\n",
      "Status: Downloaded newer image for parallelworks/gmt:latest\n",
      "Updating files: 100% (382/382), done.\n",
      "branch 'Jul-2022' set up to track 'origin/Jul-2022'.\n",
      "Switched to a new branch 'Jul-2022'\n",
      "Updating files: 100% (185/185), done.\n",
      "branch 'Aug-2022' set up to track 'origin/Aug-2022'.\n",
      "Switched to a new branch 'Aug-2022'\n",
      "Updating files: 100% (185/185), done.\n",
      "branch 'Sep-2022' set up to track 'origin/Sep-2022'.\n",
      "Switched to a new branch 'Sep-2022'\n",
      "Updating files: 100% (185/185), done.\n",
      "branch 'Oct-2022' set up to track 'origin/Oct-2022'.\n",
      "Switched to a new branch 'Oct-2022'\n",
      "branch 'Nov-2022' set up to track 'origin/Nov-2022'.\n",
      "Switched to a new branch 'Nov-2022'\n",
      "branch 'Dec-2022' set up to track 'origin/Dec-2022'.\n",
      "Switched to a new branch 'Dec-2022'\n",
      "branch 'Jan-2023' set up to track 'origin/Jan-2023'.\n",
      "Switched to a new branch 'Jan-2023'\n",
      "Updating files: 100% (185/185), done.\n",
      "branch 'Feb-2023' set up to track 'origin/Feb-2023'.\n",
      "Switched to a new branch 'Feb-2023'\n",
      "Updating files: 100% (185/185), done.\n",
      "branch 'Mar-2023' set up to track 'origin/Mar-2023'.\n",
      "Switched to a new branch 'Mar-2023'\n",
      "branch 'ICON-ModEx-v2.1-April-2023-replicate-01' set up to track 'origin/ICON-ModEx-v2.1-April-2023-replicate-01'.\n",
      "Switched to a new branch 'ICON-ModEx-v2.1-April-2023-replicate-01'\n",
      "branch 'ICON-ModEx-v2.1-April-2023-replicate-02' set up to track 'origin/ICON-ModEx-v2.1-April-2023-replicate-02'.\n",
      "Switched to a new branch 'ICON-ModEx-v2.1-April-2023-replicate-02'\n",
      "branch 'May-2023' set up to track 'origin/May-2023'.\n",
      "Switched to a new branch 'May-2023'\n",
      "Updating files: 100% (311/311), done.\n",
      "branch 'June-2023' set up to track 'origin/June-2023'.\n",
      "Switched to a new branch 'June-2023'\n",
      "Updating files: 100% (257/257), done.\n",
      "branch 'Jul-2023' set up to track 'origin/Jul-2023'.\n",
      "Switched to a new branch 'Jul-2023'\n",
      "Updating files: 100% (259/259), done.\n",
      "branch 'August-2023' set up to track 'origin/August-2023'.\n",
      "Switched to a new branch 'August-2023'\n",
      "Updating files: 100% (272/272), done.\n",
      "branch 'Sep-2023' set up to track 'origin/Sep-2023'.\n",
      "Switched to a new branch 'Sep-2023'\n",
      "Updating files: 100% (280/280), done.\n",
      "branch 'Oct-2023' set up to track 'origin/Oct-2023'.\n",
      "Switched to a new branch 'Oct-2023'\n",
      "Updating files: 100% (289/289), done.\n",
      "branch 'Nov-2023' set up to track 'origin/Nov-2023'.\n",
      "Switched to a new branch 'Nov-2023'\n"
     ]
    }
   ],
   "source": [
    "#=======================================\n",
    "# Gather data over the standard branches\n",
    "#=======================================\n",
    "\n",
    "# Initialize empty dataframe\n",
    "icon_modex_scale = pd.DataFrame(\n",
    "    columns=['hold-out-avg','hold-out-std','ntrain'])\n",
    "\n",
    "for bb,branch in enumerate(list_branches_scale):\n",
    "    \n",
    "    # Change to the requested branch\n",
    "    # We do not need to prep_data_on_branch for the non-log10 branches\n",
    "    # since we are not plotting the animation of the scatter. But,\n",
    "    # we do need to do this step to generate the ROC-AUC anyway.\n",
    "    prep_data_on_branch(\n",
    "            repo_prefix=repo_prefix, \n",
    "            repo_name=repo_name, \n",
    "            branch_name=branch)\n",
    "    #!cd {repo_prefix}/{repo_name}; git checkout {branch}\n",
    "    \n",
    "    # We want to get the mean and std of the score and plot that vs the number of inputs to train.\n",
    "    # Each dot will be an ICON-ModEx iteration.\n",
    "    \n",
    "    # This file summarizes the holdout score for all the\n",
    "    # Superlearners for each ICON-ModEx iteration.\n",
    "    holdout_score = pd.read_csv(\n",
    "        repo_prefix+'/'+repo_name+'/output_data/holdout_score.txt', \n",
    "        sep=':', \n",
    "        names=['Value','Number'], \n",
    "        index_col='Value' )\n",
    "    #holdout_score = pd.read_csv(repo+'/output_data/holdout_score.txt', sep=':')\n",
    "    \n",
    "    # This file lists the total number of data available\n",
    "    # (of which 25% is split to the testing set)\n",
    "    # Some of these points are dropped during training due to\n",
    "    # missing values. A better measure of the actual number of\n",
    "    # data points used to train the models is in the \n",
    "    # alternative file which is present after all the \n",
    "    # preprocessing steps are completed.\n",
    "    # RAW INPUT\n",
    "    #input_data = pd.read_csv(repo+'/input_data/ICON-ModEx_Data.csv')\n",
    "    # PREPROCESSED INPUT\n",
    "    input_data = pd.read_csv(repo_prefix+'/'+repo_name+'/scripts/prep_06_output_final_train.csv')\n",
    "    \n",
    "    # Gather data and force binary classification for ROC-AUC\n",
    "    #tmp_df = pd.read_csv('intermediate_branch_data/'+branch+'/ICON-ModEx_Combined_Predicted_Observed_Respiration_Rates.csv')\n",
    "    #y_true = tmp_df['Observed_Normalized_Respiration_Rate'] > respiration_threshold\n",
    "    #y_score = tmp_df['Predicted_Normalized_Respiration_Rate'] > respiration_threshold\n",
    "    #roc_auc_score_value = roc_auc_score(y_true,y_score)\n",
    "    #print(str(roc_auc_score_value))\n",
    "    \n",
    "    icon_modex_scale.loc[len(icon_modex_scale.index)] = [\n",
    "        holdout_score.loc['Avg',:].values[0],\n",
    "        holdout_score.loc['Std',:].values[0],\n",
    "        len(input_data.index)\n",
    "        #roc_auc_score_value\n",
    "    ]"
   ]
  },
  {
   "cell_type": "code",
   "execution_count": 6,
   "id": "0844338c",
   "metadata": {
    "tags": []
   },
   "outputs": [
    {
     "name": "stdout",
     "output_type": "stream",
     "text": [
      "Updating files: 100% (399/399), done.\n",
      "branch 'Dec-2021a-log10' set up to track 'origin/Dec-2021a-log10'.\n",
      "Switched to a new branch 'Dec-2021a-log10'\n",
      "0.5\n"
     ]
    },
    {
     "name": "stderr",
     "output_type": "stream",
     "text": [
      "Translator for 'R' language does not support parameter introspection.\n",
      "Passed unknown parameter: work_dir\n"
     ]
    },
    {
     "data": {
      "application/vnd.jupyter.widget-view+json": {
       "model_id": "2ad23a702c2f4427b5ce9a80444e1734",
       "version_major": 2,
       "version_minor": 0
      },
      "text/plain": [
       "Executing:   0%|          | 0/16 [00:00<?, ?cell/s]"
      ]
     },
     "metadata": {},
     "output_type": "display_data"
    },
    {
     "name": "stderr",
     "output_type": "stream",
     "text": [
      "\n",
      "Execution halted\n"
     ]
    },
    {
     "name": "stdout",
     "output_type": "stream",
     "text": [
      "Updating files: 100% (327/327), done.\n",
      "branch 'Dec-2021b-log10' set up to track 'origin/Dec-2021b-log10'.\n",
      "Switched to a new branch 'Dec-2021b-log10'\n"
     ]
    },
    {
     "name": "stderr",
     "output_type": "stream",
     "text": [
      "Translator for 'R' language does not support parameter introspection.\n",
      "Passed unknown parameter: work_dir\n"
     ]
    },
    {
     "name": "stdout",
     "output_type": "stream",
     "text": [
      "0.7403789659224442\n"
     ]
    },
    {
     "data": {
      "application/vnd.jupyter.widget-view+json": {
       "model_id": "08cd6ce03a7243b2808be402649df5ce",
       "version_major": 2,
       "version_minor": 0
      },
      "text/plain": [
       "Executing:   0%|          | 0/16 [00:00<?, ?cell/s]"
      ]
     },
     "metadata": {},
     "output_type": "display_data"
    },
    {
     "name": "stderr",
     "output_type": "stream",
     "text": [
      "\n",
      "Execution halted\n"
     ]
    },
    {
     "name": "stdout",
     "output_type": "stream",
     "text": [
      "Updating files: 100% (344/344), done.\n",
      "branch 'Jul-2022-log10' set up to track 'origin/Jul-2022-log10'.\n",
      "Switched to a new branch 'Jul-2022-log10'\n"
     ]
    },
    {
     "name": "stderr",
     "output_type": "stream",
     "text": [
      "Translator for 'R' language does not support parameter introspection.\n",
      "Passed unknown parameter: work_dir\n"
     ]
    },
    {
     "name": "stdout",
     "output_type": "stream",
     "text": [
      "0.8716436355465678\n"
     ]
    },
    {
     "data": {
      "application/vnd.jupyter.widget-view+json": {
       "model_id": "eef49926a226446aaa6c9b7deee3d1aa",
       "version_major": 2,
       "version_minor": 0
      },
      "text/plain": [
       "Executing:   0%|          | 0/16 [00:00<?, ?cell/s]"
      ]
     },
     "metadata": {},
     "output_type": "display_data"
    },
    {
     "name": "stderr",
     "output_type": "stream",
     "text": [
      "\n",
      "Execution halted\n"
     ]
    },
    {
     "name": "stdout",
     "output_type": "stream",
     "text": [
      "branch 'Aug-2022-log10' set up to track 'origin/Aug-2022-log10'.\n",
      "Switched to a new branch 'Aug-2022-log10'\n"
     ]
    },
    {
     "name": "stderr",
     "output_type": "stream",
     "text": [
      "Translator for 'R' language does not support parameter introspection.\n",
      "Passed unknown parameter: work_dir\n"
     ]
    },
    {
     "name": "stdout",
     "output_type": "stream",
     "text": [
      "0.8684186003168389\n"
     ]
    },
    {
     "data": {
      "application/vnd.jupyter.widget-view+json": {
       "model_id": "f8762518baac48d9a7377cdc96c44464",
       "version_major": 2,
       "version_minor": 0
      },
      "text/plain": [
       "Executing:   0%|          | 0/16 [00:00<?, ?cell/s]"
      ]
     },
     "metadata": {},
     "output_type": "display_data"
    },
    {
     "name": "stderr",
     "output_type": "stream",
     "text": [
      "\n",
      "Execution halted\n"
     ]
    },
    {
     "name": "stdout",
     "output_type": "stream",
     "text": [
      "Updating files: 100% (299/299), done.\n",
      "branch 'Sep-2022-log10' set up to track 'origin/Sep-2022-log10'.\n",
      "Switched to a new branch 'Sep-2022-log10'\n"
     ]
    },
    {
     "name": "stderr",
     "output_type": "stream",
     "text": [
      "Translator for 'R' language does not support parameter introspection.\n",
      "Passed unknown parameter: work_dir\n"
     ]
    },
    {
     "name": "stdout",
     "output_type": "stream",
     "text": [
      "0.9307030183527983\n"
     ]
    },
    {
     "data": {
      "application/vnd.jupyter.widget-view+json": {
       "model_id": "5cf57de4f7e24ea38260e4a9039cd9f2",
       "version_major": 2,
       "version_minor": 0
      },
      "text/plain": [
       "Executing:   0%|          | 0/16 [00:00<?, ?cell/s]"
      ]
     },
     "metadata": {},
     "output_type": "display_data"
    },
    {
     "name": "stderr",
     "output_type": "stream",
     "text": [
      "\n",
      "Execution halted\n"
     ]
    },
    {
     "name": "stdout",
     "output_type": "stream",
     "text": [
      "Updating files: 100% (299/299), done.\n",
      "branch 'Oct-2022-log10' set up to track 'origin/Oct-2022-log10'.\n",
      "Switched to a new branch 'Oct-2022-log10'\n",
      "0.9353221447873703\n"
     ]
    },
    {
     "name": "stderr",
     "output_type": "stream",
     "text": [
      "Translator for 'R' language does not support parameter introspection.\n",
      "Passed unknown parameter: work_dir\n"
     ]
    },
    {
     "data": {
      "application/vnd.jupyter.widget-view+json": {
       "model_id": "1f19f34deab14f4fa5f2780fe3f62281",
       "version_major": 2,
       "version_minor": 0
      },
      "text/plain": [
       "Executing:   0%|          | 0/16 [00:00<?, ?cell/s]"
      ]
     },
     "metadata": {},
     "output_type": "display_data"
    },
    {
     "name": "stderr",
     "output_type": "stream",
     "text": [
      "\n",
      "Execution halted\n"
     ]
    },
    {
     "name": "stdout",
     "output_type": "stream",
     "text": [
      "Updating files: 100% (299/299), done.\n",
      "branch 'Nov-2022-log10' set up to track 'origin/Nov-2022-log10'.\n",
      "Switched to a new branch 'Nov-2022-log10'\n"
     ]
    },
    {
     "name": "stderr",
     "output_type": "stream",
     "text": [
      "Translator for 'R' language does not support parameter introspection.\n",
      "Passed unknown parameter: work_dir\n"
     ]
    },
    {
     "name": "stdout",
     "output_type": "stream",
     "text": [
      "0.9292808219178081\n"
     ]
    },
    {
     "data": {
      "application/vnd.jupyter.widget-view+json": {
       "model_id": "d2f25d7bea424432b84f8d8342d0450c",
       "version_major": 2,
       "version_minor": 0
      },
      "text/plain": [
       "Executing:   0%|          | 0/16 [00:00<?, ?cell/s]"
      ]
     },
     "metadata": {},
     "output_type": "display_data"
    },
    {
     "name": "stderr",
     "output_type": "stream",
     "text": [
      "\n",
      "Execution halted\n"
     ]
    },
    {
     "name": "stdout",
     "output_type": "stream",
     "text": [
      "branch 'Dec-2022-log10' set up to track 'origin/Dec-2022-log10'.\n",
      "Switched to a new branch 'Dec-2022-log10'\n"
     ]
    },
    {
     "name": "stderr",
     "output_type": "stream",
     "text": [
      "Translator for 'R' language does not support parameter introspection.\n",
      "Passed unknown parameter: work_dir\n"
     ]
    },
    {
     "name": "stdout",
     "output_type": "stream",
     "text": [
      "0.936654403038215\n"
     ]
    },
    {
     "data": {
      "application/vnd.jupyter.widget-view+json": {
       "model_id": "32e97dc78f474bb3b1474a05cb72249f",
       "version_major": 2,
       "version_minor": 0
      },
      "text/plain": [
       "Executing:   0%|          | 0/16 [00:00<?, ?cell/s]"
      ]
     },
     "metadata": {},
     "output_type": "display_data"
    },
    {
     "name": "stderr",
     "output_type": "stream",
     "text": [
      "\n",
      "Execution halted\n"
     ]
    },
    {
     "name": "stdout",
     "output_type": "stream",
     "text": [
      "branch 'Jan-2023-log10' set up to track 'origin/Jan-2023-log10'.\n",
      "Switched to a new branch 'Jan-2023-log10'\n",
      "0.9299050632911392"
     ]
    },
    {
     "name": "stderr",
     "output_type": "stream",
     "text": [
      "Translator for 'R' language does not support parameter introspection.\n",
      "Passed unknown parameter: work_dir\n"
     ]
    },
    {
     "name": "stdout",
     "output_type": "stream",
     "text": [
      "\n"
     ]
    },
    {
     "data": {
      "application/vnd.jupyter.widget-view+json": {
       "model_id": "c85cdb3d4a6146fdaf934695ac2bbe34",
       "version_major": 2,
       "version_minor": 0
      },
      "text/plain": [
       "Executing:   0%|          | 0/16 [00:00<?, ?cell/s]"
      ]
     },
     "metadata": {},
     "output_type": "display_data"
    },
    {
     "name": "stderr",
     "output_type": "stream",
     "text": [
      "\n",
      "Execution halted\n"
     ]
    },
    {
     "name": "stdout",
     "output_type": "stream",
     "text": [
      "Updating files: 100% (299/299), done.\n",
      "branch 'Feb-2023-log10' set up to track 'origin/Feb-2023-log10'.\n",
      "Switched to a new branch 'Feb-2023-log10'\n"
     ]
    },
    {
     "name": "stderr",
     "output_type": "stream",
     "text": [
      "Translator for 'R' language does not support parameter introspection.\n",
      "Passed unknown parameter: work_dir\n"
     ]
    },
    {
     "name": "stdout",
     "output_type": "stream",
     "text": [
      "0.9436677184201936\n"
     ]
    },
    {
     "data": {
      "application/vnd.jupyter.widget-view+json": {
       "model_id": "94685f1b383e427fb60999fe27ba0f0a",
       "version_major": 2,
       "version_minor": 0
      },
      "text/plain": [
       "Executing:   0%|          | 0/16 [00:00<?, ?cell/s]"
      ]
     },
     "metadata": {},
     "output_type": "display_data"
    },
    {
     "name": "stderr",
     "output_type": "stream",
     "text": [
      "\n",
      "Execution halted\n"
     ]
    },
    {
     "name": "stdout",
     "output_type": "stream",
     "text": [
      "branch 'Mar-2023-log10' set up to track 'origin/Mar-2023-log10'.\n",
      "Switched to a new branch 'Mar-2023-log10'\n"
     ]
    },
    {
     "name": "stderr",
     "output_type": "stream",
     "text": [
      "Translator for 'R' language does not support parameter introspection.\n",
      "Passed unknown parameter: work_dir\n"
     ]
    },
    {
     "name": "stdout",
     "output_type": "stream",
     "text": [
      "0.9374229589026725\n"
     ]
    },
    {
     "data": {
      "application/vnd.jupyter.widget-view+json": {
       "model_id": "6a90e915559f45879b07a4a1dfc9b686",
       "version_major": 2,
       "version_minor": 0
      },
      "text/plain": [
       "Executing:   0%|          | 0/16 [00:00<?, ?cell/s]"
      ]
     },
     "metadata": {},
     "output_type": "display_data"
    },
    {
     "name": "stderr",
     "output_type": "stream",
     "text": [
      "\n",
      "Execution halted\n"
     ]
    },
    {
     "name": "stdout",
     "output_type": "stream",
     "text": [
      "Updating files: 100% (299/299), done.\n",
      "branch 'Apr-2023-log10' set up to track 'origin/Apr-2023-log10'.\n",
      "Switched to a new branch 'Apr-2023-log10'\n"
     ]
    },
    {
     "name": "stderr",
     "output_type": "stream",
     "text": [
      "Translator for 'R' language does not support parameter introspection.\n",
      "Passed unknown parameter: work_dir\n"
     ]
    },
    {
     "name": "stdout",
     "output_type": "stream",
     "text": [
      "0.9291917759659696\n"
     ]
    },
    {
     "data": {
      "application/vnd.jupyter.widget-view+json": {
       "model_id": "c323a4ad5fc542ac9e3668cb7aef2af7",
       "version_major": 2,
       "version_minor": 0
      },
      "text/plain": [
       "Executing:   0%|          | 0/16 [00:00<?, ?cell/s]"
      ]
     },
     "metadata": {},
     "output_type": "display_data"
    },
    {
     "name": "stderr",
     "output_type": "stream",
     "text": [
      "\n",
      "Execution halted\n"
     ]
    },
    {
     "name": "stdout",
     "output_type": "stream",
     "text": [
      "branch 'May-2023-log10' set up to track 'origin/May-2023-log10'.\n",
      "Switched to a new branch 'May-2023-log10'\n"
     ]
    },
    {
     "name": "stderr",
     "output_type": "stream",
     "text": [
      "Translator for 'R' language does not support parameter introspection.\n",
      "Passed unknown parameter: work_dir\n"
     ]
    },
    {
     "name": "stdout",
     "output_type": "stream",
     "text": [
      "0.946021684329034\n"
     ]
    },
    {
     "data": {
      "application/vnd.jupyter.widget-view+json": {
       "model_id": "c3e374387a32422395386f32885ca6c4",
       "version_major": 2,
       "version_minor": 0
      },
      "text/plain": [
       "Executing:   0%|          | 0/16 [00:00<?, ?cell/s]"
      ]
     },
     "metadata": {},
     "output_type": "display_data"
    },
    {
     "name": "stderr",
     "output_type": "stream",
     "text": [
      "\n",
      "Execution halted\n"
     ]
    },
    {
     "name": "stdout",
     "output_type": "stream",
     "text": [
      "branch 'June-2023-log10' set up to track 'origin/June-2023-log10'.\n",
      "Switched to a new branch 'June-2023-log10'\n",
      "0.936957779063042\n"
     ]
    },
    {
     "name": "stderr",
     "output_type": "stream",
     "text": [
      "Translator for 'R' language does not support parameter introspection.\n",
      "Passed unknown parameter: work_dir\n"
     ]
    },
    {
     "data": {
      "application/vnd.jupyter.widget-view+json": {
       "model_id": "be5156c9185845e3b8099542f6363601",
       "version_major": 2,
       "version_minor": 0
      },
      "text/plain": [
       "Executing:   0%|          | 0/16 [00:00<?, ?cell/s]"
      ]
     },
     "metadata": {},
     "output_type": "display_data"
    },
    {
     "name": "stderr",
     "output_type": "stream",
     "text": [
      "\n",
      "Execution halted\n"
     ]
    },
    {
     "name": "stdout",
     "output_type": "stream",
     "text": [
      "Updating files: 100% (299/299), done.\n",
      "branch 'Jul-2023-log10' set up to track 'origin/Jul-2023-log10'.\n",
      "Switched to a new branch 'Jul-2023-log10'\n"
     ]
    },
    {
     "name": "stderr",
     "output_type": "stream",
     "text": [
      "Translator for 'R' language does not support parameter introspection.\n",
      "Passed unknown parameter: work_dir\n"
     ]
    },
    {
     "name": "stdout",
     "output_type": "stream",
     "text": [
      "0.9402564805635822\n"
     ]
    },
    {
     "data": {
      "application/vnd.jupyter.widget-view+json": {
       "model_id": "41da27120bf74cd38dcb2f2f6183ec4a",
       "version_major": 2,
       "version_minor": 0
      },
      "text/plain": [
       "Executing:   0%|          | 0/16 [00:00<?, ?cell/s]"
      ]
     },
     "metadata": {},
     "output_type": "display_data"
    },
    {
     "name": "stderr",
     "output_type": "stream",
     "text": [
      "\n",
      "Execution halted\n"
     ]
    },
    {
     "name": "stdout",
     "output_type": "stream",
     "text": [
      "Updating files: 100% (299/299), done.\n",
      "branch 'August-2023-log10' set up to track 'origin/August-2023-log10'.\n",
      "Switched to a new branch 'August-2023-log10'\n"
     ]
    },
    {
     "name": "stderr",
     "output_type": "stream",
     "text": [
      "Translator for 'R' language does not support parameter introspection.\n",
      "Passed unknown parameter: work_dir\n"
     ]
    },
    {
     "name": "stdout",
     "output_type": "stream",
     "text": [
      "0.9476484336558963\n"
     ]
    },
    {
     "data": {
      "application/vnd.jupyter.widget-view+json": {
       "model_id": "46d76a5c6954479abb802d5a3d4c7cf0",
       "version_major": 2,
       "version_minor": 0
      },
      "text/plain": [
       "Executing:   0%|          | 0/16 [00:00<?, ?cell/s]"
      ]
     },
     "metadata": {},
     "output_type": "display_data"
    },
    {
     "name": "stderr",
     "output_type": "stream",
     "text": [
      "\n",
      "Execution halted\n"
     ]
    },
    {
     "name": "stdout",
     "output_type": "stream",
     "text": [
      "branch 'Sep-2023-log10' set up to track 'origin/Sep-2023-log10'.\n",
      "Switched to a new branch 'Sep-2023-log10'\n"
     ]
    },
    {
     "name": "stderr",
     "output_type": "stream",
     "text": [
      "Translator for 'R' language does not support parameter introspection.\n",
      "Passed unknown parameter: work_dir\n"
     ]
    },
    {
     "name": "stdout",
     "output_type": "stream",
     "text": [
      "0.9442657880718922\n"
     ]
    },
    {
     "data": {
      "application/vnd.jupyter.widget-view+json": {
       "model_id": "5c1f1b0a41ea4f8aaa18f3ae64766f8a",
       "version_major": 2,
       "version_minor": 0
      },
      "text/plain": [
       "Executing:   0%|          | 0/16 [00:00<?, ?cell/s]"
      ]
     },
     "metadata": {},
     "output_type": "display_data"
    },
    {
     "name": "stderr",
     "output_type": "stream",
     "text": [
      "\n",
      "Execution halted\n"
     ]
    },
    {
     "name": "stdout",
     "output_type": "stream",
     "text": [
      "Updating files: 100% (299/299), done.\n",
      "branch 'Oct-2023-log10' set up to track 'origin/Oct-2023-log10'.\n",
      "Switched to a new branch 'Oct-2023-log10'\n"
     ]
    },
    {
     "name": "stderr",
     "output_type": "stream",
     "text": [
      "Translator for 'R' language does not support parameter introspection.\n",
      "Passed unknown parameter: work_dir\n"
     ]
    },
    {
     "name": "stdout",
     "output_type": "stream",
     "text": [
      "0.9399238290548211\n"
     ]
    },
    {
     "data": {
      "application/vnd.jupyter.widget-view+json": {
       "model_id": "efa25a3a2d274f8081dd3e41b96df141",
       "version_major": 2,
       "version_minor": 0
      },
      "text/plain": [
       "Executing:   0%|          | 0/16 [00:00<?, ?cell/s]"
      ]
     },
     "metadata": {},
     "output_type": "display_data"
    },
    {
     "name": "stderr",
     "output_type": "stream",
     "text": [
      "\n",
      "Execution halted\n"
     ]
    },
    {
     "name": "stdout",
     "output_type": "stream",
     "text": [
      "branch 'Nov-2023-log10-DO-update-correct' set up to track 'origin/Nov-2023-log10-DO-update-correct'.\n",
      "Switched to a new branch 'Nov-2023-log10-DO-update-correct'\n"
     ]
    },
    {
     "name": "stderr",
     "output_type": "stream",
     "text": [
      "Translator for 'R' language does not support parameter introspection.\n",
      "Passed unknown parameter: work_dir\n"
     ]
    },
    {
     "name": "stdout",
     "output_type": "stream",
     "text": [
      "0.9260007212405337\n"
     ]
    },
    {
     "data": {
      "application/vnd.jupyter.widget-view+json": {
       "model_id": "8eb766ab88f742a4b31539def26de298",
       "version_major": 2,
       "version_minor": 0
      },
      "text/plain": [
       "Executing:   0%|          | 0/16 [00:00<?, ?cell/s]"
      ]
     },
     "metadata": {},
     "output_type": "display_data"
    },
    {
     "name": "stderr",
     "output_type": "stream",
     "text": [
      "\n",
      "Execution halted\n"
     ]
    }
   ],
   "source": [
    "#=====================================\n",
    "# Gather data over the -log10 branches\n",
    "#=====================================\n",
    "\n",
    "# Initialize empty dataframe\n",
    "icon_modex_log10 = pd.DataFrame(\n",
    "    columns=['hold-out-avg','hold-out-std','ntrain','roc-auc'])\n",
    "\n",
    "for bb,branch in enumerate(list_branches_log10):\n",
    "    \n",
    "    # Change to the requested branch\n",
    "    prep_data_on_branch(repo_prefix=repo_prefix, repo_name=repo_name, branch_name=branch)\n",
    "    #!cd {repo_prefix}/{repo_name}; git checkout {branch}\n",
    "    \n",
    "    # We want to get the mean and std of the score and plot that vs the number of inputs to train.\n",
    "    # Each dot will be an ICON-ModEx iteration.\n",
    "    \n",
    "    # This file summarizes the holdout score for all the\n",
    "    # Superlearners for each ICON-ModEx iteration.\n",
    "    holdout_score = pd.read_csv(\n",
    "        repo_prefix+'/'+repo_name+'/output_data/holdout_score.txt', \n",
    "        sep=':', \n",
    "        names=['Value','Number'], \n",
    "        index_col='Value' )\n",
    "    #holdout_score = pd.read_csv(repo+'/output_data/holdout_score.txt', sep=':')\n",
    "    \n",
    "    # This file lists the total number of data available\n",
    "    # (of which 25% is split to the testing set)\n",
    "    # RAW INPUT (see note above)\n",
    "    #input_data = pd.read_csv(repo+'/input_data/ICON-ModEx_Data.csv')\n",
    "    # PREPROCESSED INPUT\n",
    "    input_data = pd.read_csv(repo_prefix+'/'+repo_name+'/scripts/prep_06_output_final_train.csv')\n",
    "    \n",
    "    # Gather data and force binary classification for ROC-AUC\n",
    "    tmp_df = pd.read_csv('intermediate_branch_data/'+branch+'/ICON-ModEx_Combined_Predicted_Observed_Respiration_Rates.csv')\n",
    "    y_true = tmp_df['Observed_Normalized_Respiration_Rate'] > respiration_threshold\n",
    "    y_score = tmp_df['Predicted_Normalized_Respiration_Rate'] > respiration_threshold\n",
    "    roc_auc_score_value = roc_auc_score(y_true,y_score)\n",
    "    print(str(roc_auc_score_value))\n",
    "    \n",
    "    icon_modex_log10.loc[len(icon_modex_log10.index)] = [\n",
    "        holdout_score.loc['Avg',:].values[0],\n",
    "        holdout_score.loc['Std',:].values[0],\n",
    "        len(input_data.index),\n",
    "        roc_auc_score_value\n",
    "    ]\n",
    "    \n",
    "    # We could also grab the histogram of CONUS predictions to check for an evolution of bias over time\n",
    "    # Grab code from the Figure-2 harvestor notebook if needed.\n",
    "    # Use Papermill to launch a notebook\n",
    "    # To list available kernels,\n",
    "    #   jupyter kernelspec list\n",
    "    # The working directory was created by prep_data_on_branch\n",
    "    # The first R kernel execution takes a few extra minutes as\n",
    "    # necessary R packages are installed on-the-fly during the \n",
    "    # first execution of the notebook (but subsequent reruns with\n",
    "    # the same kernel do not need to reinstall).\n",
    "    # Wrap this in try: except: because R-plotting raises an error\n",
    "    # after the plot is made (probably a bounding box issue?)\n",
    "    # that we can ignore.\n",
    "    try:\n",
    "        pm.execute_notebook(\n",
    "            'make_scatter_plot.ipynb',\n",
    "            'log_scatter_plot.ipynb',\n",
    "            parameters=dict(work_dir='./intermediate_branch_data/'+branch),\n",
    "            kernel_name='ir'\n",
    "        )\n",
    "    except:\n",
    "        print('Caught error in notebook. Keep going...')"
   ]
  },
  {
   "cell_type": "code",
   "execution_count": 7,
   "id": "572cff7e",
   "metadata": {
    "tags": []
   },
   "outputs": [
    {
     "name": "stdout",
     "output_type": "stream",
     "text": [
      "Updating files: 100% (392/392), done.\n",
      "branch 'baseline_hp_100' set up to track 'origin/baseline_hp_100'.\n",
      "Switched to a new branch 'baseline_hp_100'\n",
      "Updating files: 100% (289/289), done.\n",
      "branch 'baseline_hp_200' set up to track 'origin/baseline_hp_200'.\n",
      "Switched to a new branch 'baseline_hp_200'\n",
      "branch 'baseline_hp_300' set up to track 'origin/baseline_hp_300'.\n",
      "Switched to a new branch 'baseline_hp_300'\n",
      "Updating files: 100% (289/289), done.\n",
      "branch 'baseline_lp_100' set up to track 'origin/baseline_lp_100'.\n",
      "Switched to a new branch 'baseline_lp_100'\n",
      "Updating files: 100% (289/289), done.\n",
      "branch 'baseline_lp_200' set up to track 'origin/baseline_lp_200'.\n",
      "Switched to a new branch 'baseline_lp_200'\n",
      "Updating files: 100% (289/289), done.\n",
      "branch 'baseline_lp_300' set up to track 'origin/baseline_lp_300'.\n",
      "Switched to a new branch 'baseline_lp_300'\n"
     ]
    }
   ],
   "source": [
    "#=====================================\n",
    "# Gather data over the baseline branches\n",
    "#=====================================\n",
    "\n",
    "# Initialize empty dataframe\n",
    "icon_modex_baseline = pd.DataFrame(\n",
    "    columns=[\n",
    "        'hold-out-avg','hold-out-std','ntrain','roc-auc',\n",
    "        'r2_test_avg','r2_test_std','r2_test_ens','hp_or_lp_flag'])\n",
    "\n",
    "# Same target for all baseline branches\n",
    "target_name = 'Normalized_Respiration_Rate_mg_DO_per_H_per_L_sediment'\n",
    "\n",
    "for bb,branch in enumerate(list_branches_baseline):\n",
    "    \n",
    "    # Change to the requested branch\n",
    "    prep_data_on_branch(repo_prefix=repo_prefix, repo_name=repo_name, branch_name=branch)\n",
    "    #!cd {repo_prefix}/{repo_name}; git checkout {branch}\n",
    "    \n",
    "    # This file summarizes the holdout score for all the\n",
    "    # Superlearners for each ICON-ModEx iteration.\n",
    "    holdout_score = pd.read_csv(\n",
    "        repo_prefix+'/'+repo_name+'/output_data/holdout_score.txt', \n",
    "        sep=':', \n",
    "        names=['Value','Number'], \n",
    "        index_col='Value' )\n",
    "    #holdout_score = pd.read_csv(repo+'/output_data/holdout_score.txt', sep=':')\n",
    "    \n",
    "    # This file lists the total number of data available\n",
    "    # (of which 25% is split to the testing set)\n",
    "    # RAW INPUT (see note above)\n",
    "    #input_data = pd.read_csv(repo+'/input_data/ICON-ModEx_Data.csv')\n",
    "    # PREPROCESSED INPUT\n",
    "    input_data = pd.read_csv(\n",
    "        repo_prefix+'/'+repo_name+'/scripts/prep_06_output_final_train.csv')\n",
    "    \n",
    "    # Gather data and force binary classification for ROC-AUC\n",
    "    tmp_df = pd.read_csv('intermediate_branch_data/'+branch+'/ICON-ModEx_Combined_Predicted_Observed_Respiration_Rates.csv')\n",
    "    y_true = tmp_df['Observed_Normalized_Respiration_Rate'] > respiration_threshold\n",
    "    y_score = tmp_df['Predicted_Normalized_Respiration_Rate'] > respiration_threshold\n",
    "    roc_auc_score_value = roc_auc_score(y_true,y_score)\n",
    "    #print(str(roc_auc_score_value))\n",
    "    \n",
    "    #---------------------------------------------------------\n",
    "    # Also we want to do something a little different with the\n",
    "    # baseline branches - they are evaluated on a truly\n",
    "    # independent testing set (and not through the Monte\n",
    "    # Carlo cross-validation that effectively uses all points)\n",
    "    # So to create a comparable R2, we need to:\n",
    "    #---------------------------------------------------------\n",
    "    # 1) Get the respiration rates of the 84 sites in the testing set\n",
    "    #---------------------------------------------------------\n",
    "    # Keep it in the DF for now because we want the respiration\n",
    "    # rates linked to their site ID.\n",
    "    test_df = pd.read_csv(\n",
    "        repo_prefix+'/'+repo_name+'/examples/ModEx_reproducibility/hp_lp_training_data_based_on_combined_metric/mp_084.csv.out')\n",
    "    \n",
    "    # Use Sample_ID as the index so files can be merged on this value\n",
    "    test_df.set_index('Sample_ID',inplace=True)\n",
    "    \n",
    "    #---------------------------------------------------------\n",
    "    # 2) Loop over each iteration...\n",
    "    #---------------------------------------------------------\n",
    "    r2_score_list = []\n",
    "    for ll in np.arange(0,10):\n",
    "        # Extract the predictions at the 84 sites we're using as a baseline\n",
    "        predict_df = pd.read_csv(repo_prefix+'/'+repo_name+'/ml_models/sl_'+str(ll)+'/sl_predictions.csv')\n",
    "        \n",
    "        # Use Sample_ID as the index so files can be merged on this value\n",
    "        predict_df.set_index('Sample_ID',inplace=True)\n",
    "        \n",
    "        # Merge the rows on this predict_df with the rows of the test_df,\n",
    "        # keeping only the rows that match the test_df. Columns with the\n",
    "        # same names (in particular the target) will get appended _obs\n",
    "        # and _pre as in prep_data_on_branch.\n",
    "        merge_df = pd.merge(\n",
    "            test_df,\n",
    "            predict_df, \n",
    "            left_index=True,\n",
    "            right_index=True,\n",
    "            suffixes=['_obs','_pre'])\n",
    "        \n",
    "        # Output dataframe for this ensemble member to check shapes, etc.\n",
    "        merge_df.to_csv(\n",
    "            './intermediate_branch_data/'+branch+'/sl_'+str(ll)+'_obs_predict_merge.csv', mode='w')\n",
    "        \n",
    "        # Compute the r2_score for that iteration for those 84 sites\n",
    "        my_r = np.min(np.corrcoef(\n",
    "            merge_df[target_name+'_obs'],\n",
    "            merge_df[target_name+'_pre']\n",
    "        ))\n",
    "        \n",
    "        my_r2 = my_r*my_r\n",
    "        \n",
    "        # If r2_score is less than 0, set to 0. The magnitude of\n",
    "        # values less than 0 don't mean anything; they are all\n",
    "        # just really bad ML models.\n",
    "        if my_r2 < 0.0:\n",
    "            my_r2 = 0.0\n",
    "        \n",
    "        # Add r2_score to list\n",
    "        r2_score_list.append(my_r2)\n",
    "    \n",
    "    # Find the mean and std of the r2_score over the iterations for the testing set (gray band in plot)\n",
    "    r2_test_avg = np.mean(r2_score_list)\n",
    "    r2_test_std = np.std(r2_score_list)\n",
    "    \n",
    "    # Find the r2_score of the ensemble mean prediction for the testing set (should fall in the middle of the gray band in plot)\n",
    "    predict_df = pd.read_csv(repo_prefix+'/'+repo_name+'/scripts/post_01_output_ml_predict_avg.csv')\n",
    "    predict_df.set_index('Sample_ID',inplace=True)\n",
    "    merge_df = pd.merge(\n",
    "            test_df,\n",
    "            predict_df, \n",
    "            left_index=True,\n",
    "            right_index=True,\n",
    "            suffixes=['_obs','_pre'])\n",
    "    merge_df.to_csv(\n",
    "            './intermediate_branch_data/'+branch+'/ens_obs_predict_merge.csv', mode='w')\n",
    "    r_test_ens = np.min(np.corrcoef(\n",
    "        merge_df[target_name+'_obs'],\n",
    "        merge_df[target_name+'_pre']\n",
    "    ))\n",
    "    r2_test_ens = r_test_ens*r_test_ens\n",
    "    if r2_test_ens < 0:\n",
    "        r2_test_ens = 0.0\n",
    "    \n",
    "    # Set a flag to know whether this is an HP or LP model\n",
    "    # (for plotting later). Value for LP is 0, HP is 1.\n",
    "    hp_or_lp_flag = 0\n",
    "    if ( branch.__contains__('hp') ):\n",
    "        hp_or_lp_flag = 1\n",
    "    \n",
    "    # Write output\n",
    "    # Dataframe used here was initialized with:\n",
    "    # columns=['hold-out-avg','hold-out-std','ntrain','roc-auc',\n",
    "    #          'r2_test_avg','r2_test_std','r2_test_ens','hp_or_lp_flag']\n",
    "    icon_modex_baseline.loc[len(icon_modex_baseline.index)] = [\n",
    "        holdout_score.loc['Avg',:].values[0],\n",
    "        holdout_score.loc['Std',:].values[0],\n",
    "        len(input_data.index),\n",
    "        roc_auc_score_value,\n",
    "        r2_test_avg,\n",
    "        r2_test_std,\n",
    "        r2_test_ens,\n",
    "        hp_or_lp_flag\n",
    "    ]\n",
    "    \n",
    "# Compare to the hold-out score - is the hold-out at all a reasonable representation of R2 computed with a fully independent data set?"
   ]
  },
  {
   "cell_type": "code",
   "execution_count": 8,
   "id": "cdc4b105",
   "metadata": {
    "tags": []
   },
   "outputs": [
    {
     "name": "stdout",
     "output_type": "stream",
     "text": [
      "branch 'pca_hp_100' set up to track 'origin/pca_hp_100'.\n",
      "Switched to a new branch 'pca_hp_100'\n",
      "branch 'pca_hp_200' set up to track 'origin/pca_hp_200'.\n",
      "Switched to a new branch 'pca_hp_200'\n",
      "branch 'pca_hp_300' set up to track 'origin/pca_hp_300'.\n",
      "Switched to a new branch 'pca_hp_300'\n",
      "branch 'pca_lp_100' set up to track 'origin/pca_lp_100'.\n",
      "Switched to a new branch 'pca_lp_100'\n",
      "Updating files: 100% (289/289), done.\n",
      "branch 'pca_lp_200' set up to track 'origin/pca_lp_200'.\n",
      "Switched to a new branch 'pca_lp_200'\n",
      "Updating files: 100% (289/289), done.\n",
      "branch 'pca_lp_300' set up to track 'origin/pca_lp_300'.\n",
      "Switched to a new branch 'pca_lp_300'\n"
     ]
    }
   ],
   "source": [
    "#=====================================\n",
    "# Gather data over the pca branches\n",
    "#=====================================\n",
    "\n",
    "# Initialize empty dataframe\n",
    "icon_modex_pca = pd.DataFrame(\n",
    "    columns=[\n",
    "        'hold-out-avg','hold-out-std','ntrain','roc-auc',\n",
    "        'r2_test_avg','r2_test_std','r2_test_ens','hp_or_lp_flag'])\n",
    "\n",
    "# Same target for all baseline branches\n",
    "target_name = 'Normalized_Respiration_Rate_mg_DO_per_H_per_L_sediment'\n",
    "\n",
    "for bb,branch in enumerate(list_branches_pca):\n",
    "    \n",
    "    # Change to the requested branch\n",
    "    prep_data_on_branch(repo_prefix=repo_prefix, repo_name=repo_name, branch_name=branch)\n",
    "    #!cd {repo_prefix}/{repo_name}; git checkout {branch}\n",
    "    \n",
    "    # This file summarizes the holdout score for all the\n",
    "    # Superlearners for each ICON-ModEx iteration.\n",
    "    holdout_score = pd.read_csv(\n",
    "        repo_prefix+'/'+repo_name+'/output_data/holdout_score.txt', \n",
    "        sep=':', \n",
    "        names=['Value','Number'], \n",
    "        index_col='Value' )\n",
    "    #holdout_score = pd.read_csv(repo+'/output_data/holdout_score.txt', sep=':')\n",
    "    \n",
    "    # This file lists the total number of data available\n",
    "    # (of which 25% is split to the testing set)\n",
    "    # RAW INPUT (see note above)\n",
    "    #input_data = pd.read_csv(repo+'/input_data/ICON-ModEx_Data.csv')\n",
    "    # PREPROCESSED INPUT\n",
    "    input_data = pd.read_csv(\n",
    "        repo_prefix+'/'+repo_name+'/scripts/prep_06_output_final_train.csv')\n",
    "    \n",
    "    # Gather data and force binary classification for ROC-AUC\n",
    "    tmp_df = pd.read_csv('intermediate_branch_data/'+branch+'/ICON-ModEx_Combined_Predicted_Observed_Respiration_Rates.csv')\n",
    "    y_true = tmp_df['Observed_Normalized_Respiration_Rate'] > respiration_threshold\n",
    "    y_score = tmp_df['Predicted_Normalized_Respiration_Rate'] > respiration_threshold\n",
    "    roc_auc_score_value = roc_auc_score(y_true,y_score)\n",
    "    #print(str(roc_auc_score_value))\n",
    "    \n",
    "    #---------------------------------------------------------\n",
    "    # Also we want to do something a little different with the\n",
    "    # baseline branches - they are evaluated on a truly\n",
    "    # independent testing set (and not through the Monte\n",
    "    # Carlo cross-validation that effectively uses all points)\n",
    "    # So to create a comparable R2, we need to:\n",
    "    #---------------------------------------------------------\n",
    "    # 1) Get the respiration rates of the 84 sites in the testing set\n",
    "    #---------------------------------------------------------\n",
    "    # Keep it in the DF for now because we want the respiration\n",
    "    # rates linked to their site ID.\n",
    "    test_df = pd.read_csv(\n",
    "        repo_prefix+'/'+repo_name+'/examples/ModEx_reproducibility/hp_lp_training_data_based_on_pca_dist/mp_084.csv.out')\n",
    "    \n",
    "    # Use Sample_ID as the index so files can be merged on this value\n",
    "    test_df.set_index('Sample_ID',inplace=True)\n",
    "    \n",
    "    #---------------------------------------------------------\n",
    "    # 2) Loop over each iteration...\n",
    "    #---------------------------------------------------------\n",
    "    r2_score_list = []\n",
    "    for ll in np.arange(0,10):\n",
    "        # Extract the predictions at the 84 sites we're using as a baseline\n",
    "        predict_df = pd.read_csv(repo_prefix+'/'+repo_name+'/ml_models/sl_'+str(ll)+'/sl_predictions.csv')\n",
    "        \n",
    "        # Use Sample_ID as the index so files can be merged on this value\n",
    "        predict_df.set_index('Sample_ID',inplace=True)\n",
    "        \n",
    "        # Merge the rows on this predict_df with the rows of the test_df,\n",
    "        # keeping only the rows that match the test_df. Columns with the\n",
    "        # same names (in particular the target) will get appended _obs\n",
    "        # and _pre as in prep_data_on_branch.\n",
    "        merge_df = pd.merge(\n",
    "            test_df,\n",
    "            predict_df, \n",
    "            left_index=True,\n",
    "            right_index=True,\n",
    "            suffixes=['_obs','_pre'])\n",
    "        \n",
    "        # Output dataframe for this ensemble member to check shapes, etc.\n",
    "        merge_df.to_csv(\n",
    "            './intermediate_branch_data/'+branch+'/sl_'+str(ll)+'_obs_predict_merge.csv', mode='w')\n",
    "        \n",
    "        # Compute the r2_score for that iteration for those 84 sites\n",
    "        my_r = np.min(np.corrcoef(\n",
    "            merge_df[target_name+'_obs'],\n",
    "            merge_df[target_name+'_pre']\n",
    "        ))\n",
    "        \n",
    "        my_r2 = my_r*my_r\n",
    "        \n",
    "        # If r2_score is less than 0, set to 0. The magnitude of\n",
    "        # values less than 0 don't mean anything; they are all\n",
    "        # just really bad ML models.\n",
    "        if my_r2 < 0.0:\n",
    "            my_r2 = 0.0\n",
    "        \n",
    "        # Add r2_score to list\n",
    "        r2_score_list.append(my_r2)\n",
    "    \n",
    "    # Find the mean and std of the r2_score over the iterations for the testing set (gray band in plot)\n",
    "    r2_test_avg = np.mean(r2_score_list)\n",
    "    r2_test_std = np.std(r2_score_list)\n",
    "    \n",
    "    # Find the r2_score of the ensemble mean prediction for the testing set (should fall in the middle of the gray band in plot)\n",
    "    predict_df = pd.read_csv(repo_prefix+'/'+repo_name+'/scripts/post_01_output_ml_predict_avg.csv')\n",
    "    predict_df.set_index('Sample_ID',inplace=True)\n",
    "    merge_df = pd.merge(\n",
    "            test_df,\n",
    "            predict_df, \n",
    "            left_index=True,\n",
    "            right_index=True,\n",
    "            suffixes=['_obs','_pre'])\n",
    "    merge_df.to_csv(\n",
    "            './intermediate_branch_data/'+branch+'/ens_obs_predict_merge.csv', mode='w')\n",
    "    r_test_ens = np.min(np.corrcoef(\n",
    "        merge_df[target_name+'_obs'],\n",
    "        merge_df[target_name+'_pre']\n",
    "    ))\n",
    "    r2_test_ens = r_test_ens*r_test_ens\n",
    "    if r2_test_ens < 0:\n",
    "        r2_test_ens = 0.0\n",
    "    \n",
    "    # Set a flag to know whether this is an HP or LP model\n",
    "    # (for plotting later). Value for LP is 0, HP is 1.\n",
    "    hp_or_lp_flag = 0\n",
    "    if ( branch.__contains__('hp') ):\n",
    "        hp_or_lp_flag = 1\n",
    "    \n",
    "    # Write output\n",
    "    # Dataframe used here was initialized with:\n",
    "    # columns=['hold-out-avg','hold-out-std','ntrain','roc-auc',\n",
    "    #          'r2_test_avg','r2_test_std','r2_test_ens','hp_or_lp_flag']\n",
    "    icon_modex_pca.loc[len(icon_modex_pca.index)] = [\n",
    "        holdout_score.loc['Avg',:].values[0],\n",
    "        holdout_score.loc['Std',:].values[0],\n",
    "        len(input_data.index),\n",
    "        roc_auc_score_value,\n",
    "        r2_test_avg,\n",
    "        r2_test_std,\n",
    "        r2_test_ens,\n",
    "        hp_or_lp_flag\n",
    "    ]\n",
    "    \n",
    "# Compare to the hold-out score - is the hold-out at all a reasonable representation of R2 computed with a fully independent data set?"
   ]
  },
  {
   "cell_type": "code",
   "execution_count": 9,
   "id": "d5313c84",
   "metadata": {
    "tags": []
   },
   "outputs": [
    {
     "name": "stdout",
     "output_type": "stream",
     "text": [
      "'./tmp_100.png' -> 'intermediate_branch_data/Dec-2021a-log10/scatter.png'\n",
      "'./tmp_101.png' -> 'intermediate_branch_data/Dec-2021b-log10/scatter.png'\n",
      "'./tmp_102.png' -> 'intermediate_branch_data/Jul-2022-log10/scatter.png'\n",
      "'./tmp_103.png' -> 'intermediate_branch_data/Aug-2022-log10/scatter.png'\n",
      "'./tmp_104.png' -> 'intermediate_branch_data/Sep-2022-log10/scatter.png'\n",
      "'./tmp_105.png' -> 'intermediate_branch_data/Oct-2022-log10/scatter.png'\n",
      "'./tmp_106.png' -> 'intermediate_branch_data/Nov-2022-log10/scatter.png'\n",
      "'./tmp_107.png' -> 'intermediate_branch_data/Dec-2022-log10/scatter.png'\n",
      "'./tmp_108.png' -> 'intermediate_branch_data/Jan-2023-log10/scatter.png'\n",
      "'./tmp_109.png' -> 'intermediate_branch_data/Feb-2023-log10/scatter.png'\n",
      "'./tmp_110.png' -> 'intermediate_branch_data/Mar-2023-log10/scatter.png'\n",
      "'./tmp_111.png' -> 'intermediate_branch_data/Apr-2023-log10/scatter.png'\n",
      "'./tmp_112.png' -> 'intermediate_branch_data/May-2023-log10/scatter.png'\n",
      "'./tmp_113.png' -> 'intermediate_branch_data/June-2023-log10/scatter.png'\n",
      "'./tmp_114.png' -> 'intermediate_branch_data/Jul-2023-log10/scatter.png'\n",
      "'./tmp_115.png' -> 'intermediate_branch_data/August-2023-log10/scatter.png'\n",
      "'./tmp_116.png' -> 'intermediate_branch_data/Sep-2023-log10/scatter.png'\n",
      "'./tmp_117.png' -> 'intermediate_branch_data/Oct-2023-log10/scatter.png'\n",
      "'./tmp_118.png' -> 'intermediate_branch_data/Nov-2023-log10-DO-update-correct/scatter.png'\n",
      "'./tmp_100.png' -> 'intermediate_branch_data/Dec-2021a-log10/scatter_no_log.png'\n",
      "'./tmp_101.png' -> 'intermediate_branch_data/Dec-2021b-log10/scatter_no_log.png'\n",
      "'./tmp_102.png' -> 'intermediate_branch_data/Jul-2022-log10/scatter_no_log.png'\n",
      "'./tmp_103.png' -> 'intermediate_branch_data/Aug-2022-log10/scatter_no_log.png'\n",
      "'./tmp_104.png' -> 'intermediate_branch_data/Sep-2022-log10/scatter_no_log.png'\n",
      "'./tmp_105.png' -> 'intermediate_branch_data/Oct-2022-log10/scatter_no_log.png'\n",
      "'./tmp_106.png' -> 'intermediate_branch_data/Nov-2022-log10/scatter_no_log.png'\n",
      "'./tmp_107.png' -> 'intermediate_branch_data/Dec-2022-log10/scatter_no_log.png'\n",
      "'./tmp_108.png' -> 'intermediate_branch_data/Jan-2023-log10/scatter_no_log.png'\n",
      "'./tmp_109.png' -> 'intermediate_branch_data/Feb-2023-log10/scatter_no_log.png'\n",
      "'./tmp_110.png' -> 'intermediate_branch_data/Mar-2023-log10/scatter_no_log.png'\n",
      "'./tmp_111.png' -> 'intermediate_branch_data/Apr-2023-log10/scatter_no_log.png'\n",
      "'./tmp_112.png' -> 'intermediate_branch_data/May-2023-log10/scatter_no_log.png'\n",
      "'./tmp_113.png' -> 'intermediate_branch_data/June-2023-log10/scatter_no_log.png'\n",
      "'./tmp_114.png' -> 'intermediate_branch_data/Jul-2023-log10/scatter_no_log.png'\n",
      "'./tmp_115.png' -> 'intermediate_branch_data/August-2023-log10/scatter_no_log.png'\n",
      "'./tmp_116.png' -> 'intermediate_branch_data/Sep-2023-log10/scatter_no_log.png'\n",
      "'./tmp_117.png' -> 'intermediate_branch_data/Oct-2023-log10/scatter_no_log.png'\n",
      "'./tmp_118.png' -> 'intermediate_branch_data/Nov-2023-log10-DO-update-correct/scatter_no_log.png'\n"
     ]
    }
   ],
   "source": [
    "# Example with high resolution images\n",
    "#! convert -size 1080x1080 -delay 2 -loop 0 *.png output.gif\n",
    "\n",
    "# Can't use wildcard this b/c lists files alphabetically (i.e. by month \n",
    "# name, not month order).\n",
    "#! convert -delay 2 -loop 0 intermediate_branch_data/*/*.png scatter.gif\n",
    "\n",
    "# Let's just manually prescribe the order since it's not that many \n",
    "# and there are some special cases. Make a temporary symbolic link\n",
    "# to each file locally and name the links so that they go in the\n",
    "# exact order of the ModEx iterations. Then, create the animation\n",
    "# with convert and delete the symbolic links.\n",
    "for bb,branch in enumerate(list_branches_log10):\n",
    "    cc = bb + 100\n",
    "    ! ln -sv intermediate_branch_data/{branch}/scatter.png ./tmp_{cc}.png\n",
    "    \n",
    "! convert -delay 100 -loop 0 tmp_*.png scatter.gif\n",
    "! rm -f tmp_*.png\n",
    "\n",
    "for bb,branch in enumerate(list_branches_log10):\n",
    "    cc = bb + 100\n",
    "    ! ln -sv intermediate_branch_data/{branch}/scatter_no_log.png ./tmp_{cc}.png\n",
    "    \n",
    "! convert -delay 100 -loop 0 tmp_*.png scatter_no_log.gif\n",
    "! rm -f tmp_*.png"
   ]
  },
  {
   "cell_type": "markdown",
   "id": "50044ab0",
   "metadata": {},
   "source": [
    "# Load and plot data"
   ]
  },
  {
   "cell_type": "code",
   "execution_count": 10,
   "id": "0adc314b",
   "metadata": {
    "tags": []
   },
   "outputs": [
    {
     "data": {
      "image/png": "[encoded data removed]",
      "text/plain": [
       "<Figure size 1500x1500 with 1 Axes>"
      ]
     },
     "metadata": {},
     "output_type": "display_data"
    }
   ],
   "source": [
    "from matplotlib.patches import Polygon\n",
    "from matplotlib.collections import PatchCollection\n",
    "\n",
    "# Set all font sizes in the plots\n",
    "font = {'family' : 'sans',\n",
    "        'style'  : 'normal',\n",
    "        'weight' : 'normal',\n",
    "        'size'   : 30}\n",
    "\n",
    "mpl.rc('font', **font)\n",
    "\n",
    "# Plot specs\n",
    "e_bar_w=4\n",
    "e_cap_w=5\n",
    "e_sym_s=14\n",
    "\n",
    "# Create polygons for background\n",
    "xy_hp_test = []\n",
    "xy_hp_test.append([\n",
    "    icon_modex_baseline['ntrain'][0],\n",
    "    icon_modex_baseline['r2_test_avg'][0]+icon_modex_baseline['r2_test_std'][0]])\n",
    "xy_hp_test.append([\n",
    "    icon_modex_baseline['ntrain'][1],\n",
    "    icon_modex_baseline['r2_test_avg'][1]+icon_modex_baseline['r2_test_std'][1]])\n",
    "xy_hp_test.append([\n",
    "    icon_modex_baseline['ntrain'][2],\n",
    "    icon_modex_baseline['r2_test_avg'][2]+icon_modex_baseline['r2_test_std'][2]])\n",
    "xy_hp_test.append([\n",
    "    icon_modex_baseline['ntrain'][2],\n",
    "    icon_modex_baseline['r2_test_avg'][2]-icon_modex_baseline['r2_test_std'][2]])\n",
    "xy_hp_test.append([\n",
    "    icon_modex_baseline['ntrain'][1],\n",
    "    icon_modex_baseline['r2_test_avg'][1]-icon_modex_baseline['r2_test_std'][1]])\n",
    "xy_hp_test.append([\n",
    "    icon_modex_baseline['ntrain'][0],\n",
    "    icon_modex_baseline['r2_test_avg'][0]-icon_modex_baseline['r2_test_std'][0]])\n",
    "\n",
    "xy_lp_test = []\n",
    "xy_lp_test.append([\n",
    "    icon_modex_baseline['ntrain'][3],\n",
    "    icon_modex_baseline['r2_test_avg'][3]+icon_modex_baseline['r2_test_std'][3]])\n",
    "xy_lp_test.append([\n",
    "    icon_modex_baseline['ntrain'][4],\n",
    "    icon_modex_baseline['r2_test_avg'][4]+icon_modex_baseline['r2_test_std'][4]])\n",
    "xy_lp_test.append([\n",
    "    icon_modex_baseline['ntrain'][5],\n",
    "    icon_modex_baseline['r2_test_avg'][5]+icon_modex_baseline['r2_test_std'][5]])\n",
    "xy_lp_test.append([\n",
    "    icon_modex_baseline['ntrain'][5],\n",
    "    icon_modex_baseline['r2_test_avg'][5]-icon_modex_baseline['r2_test_std'][5]])\n",
    "xy_lp_test.append([\n",
    "    icon_modex_baseline['ntrain'][4],\n",
    "    icon_modex_baseline['r2_test_avg'][4]-icon_modex_baseline['r2_test_std'][4]])\n",
    "xy_lp_test.append([\n",
    "    icon_modex_baseline['ntrain'][3],\n",
    "    icon_modex_baseline['r2_test_avg'][3]-icon_modex_baseline['r2_test_std'][3]])\n",
    "\n",
    "xy_pca_hp_test = []\n",
    "xy_pca_hp_test.append([\n",
    "    icon_modex_pca['ntrain'][0],\n",
    "    icon_modex_pca['r2_test_avg'][0]+icon_modex_pca['r2_test_std'][0]])\n",
    "xy_pca_hp_test.append([\n",
    "    icon_modex_pca['ntrain'][1],\n",
    "    icon_modex_pca['r2_test_avg'][1]+icon_modex_pca['r2_test_std'][1]])\n",
    "xy_pca_hp_test.append([\n",
    "    icon_modex_pca['ntrain'][2],\n",
    "    icon_modex_pca['r2_test_avg'][2]+icon_modex_pca['r2_test_std'][2]])\n",
    "xy_pca_hp_test.append([\n",
    "    icon_modex_pca['ntrain'][2],\n",
    "    icon_modex_pca['r2_test_avg'][2]-icon_modex_pca['r2_test_std'][2]])\n",
    "xy_pca_hp_test.append([\n",
    "    icon_modex_pca['ntrain'][1],\n",
    "    icon_modex_pca['r2_test_avg'][1]-icon_modex_pca['r2_test_std'][1]])\n",
    "xy_pca_hp_test.append([\n",
    "    icon_modex_pca['ntrain'][0],\n",
    "    icon_modex_pca['r2_test_avg'][0]-icon_modex_pca['r2_test_std'][0]])\n",
    "\n",
    "xy_pca_lp_test = []\n",
    "xy_pca_lp_test.append([\n",
    "    icon_modex_pca['ntrain'][3],\n",
    "    icon_modex_pca['r2_test_avg'][3]+icon_modex_pca['r2_test_std'][3]])\n",
    "xy_pca_lp_test.append([\n",
    "    icon_modex_pca['ntrain'][4],\n",
    "    icon_modex_pca['r2_test_avg'][4]+icon_modex_pca['r2_test_std'][4]])\n",
    "xy_pca_lp_test.append([\n",
    "    icon_modex_pca['ntrain'][5],\n",
    "    icon_modex_pca['r2_test_avg'][5]+icon_modex_pca['r2_test_std'][5]])\n",
    "xy_pca_lp_test.append([\n",
    "    icon_modex_pca['ntrain'][5],\n",
    "    icon_modex_pca['r2_test_avg'][5]-icon_modex_pca['r2_test_std'][5]])\n",
    "xy_pca_lp_test.append([\n",
    "    icon_modex_pca['ntrain'][4],\n",
    "    icon_modex_pca['r2_test_avg'][4]-icon_modex_pca['r2_test_std'][4]])\n",
    "xy_pca_lp_test.append([\n",
    "    icon_modex_pca['ntrain'][3],\n",
    "    icon_modex_pca['r2_test_avg'][3]-icon_modex_pca['r2_test_std'][3]])\n",
    "\n",
    "\n",
    "fig, ax = plt.subplots(figsize=(15,15))\n",
    "#==========================================\n",
    "# Selectively retain the HP/LP baseline/pca\n",
    "# polygons. These are the model scores computed\n",
    "# with the full hold out data (the 84 MP \"neutral\"\n",
    "# sites that were never used during training)\n",
    "# and as such the model scores are lower. But the\n",
    "# overall story is similar for the baseline case: \n",
    "# HP sites result in higher scores than LP sites \n",
    "# and the difference becomes significant as you \n",
    "# add more sites in the training. There does not\n",
    "# appear to be any significant difference when\n",
    "# using the HP/LP sites ranked by PCA. In any case,\n",
    "# remove these from the plot since it's not a\n",
    "# fair apples-to-apples comparison.\n",
    "if (False):\n",
    "    ax.add_collection(\n",
    "        PatchCollection(\n",
    "            [Polygon(xy_hp_test, closed=True) ],\n",
    "            alpha=0.4,\n",
    "            color='r'))\n",
    "    ax.add_collection(\n",
    "        PatchCollection(\n",
    "            [Polygon(xy_lp_test, closed=True) ],\n",
    "            alpha=0.4,\n",
    "            color='k'))\n",
    "if (False):\n",
    "    ax.add_collection(\n",
    "        PatchCollection(\n",
    "            [Polygon(xy_pca_hp_test, closed=True) ],\n",
    "            alpha=0.4,\n",
    "            color='r'))\n",
    "    ax.add_collection(\n",
    "        PatchCollection(\n",
    "            [Polygon(xy_pca_lp_test, closed=True) ],\n",
    "            alpha=0.4,\n",
    "            color='k'))\n",
    "\n",
    "ax.errorbar(\n",
    "    icon_modex_scale['ntrain'],\n",
    "    icon_modex_scale['hold-out-avg'],\n",
    "    icon_modex_scale['hold-out-std'],\n",
    "    fmt='ko',\n",
    "    ecolor='k',\n",
    "    elinewidth=e_bar_w,\n",
    "    capsize=e_cap_w,\n",
    "    markersize=e_sym_s)\n",
    "ax.errorbar(\n",
    "    icon_modex_log10['ntrain'],\n",
    "    icon_modex_log10['hold-out-avg'],\n",
    "    icon_modex_log10['hold-out-std'],\n",
    "    fmt='ks',\n",
    "    ecolor='r',\n",
    "    elinewidth=e_bar_w,\n",
    "    capsize=e_cap_w,\n",
    "    markersize=e_sym_s)\n",
    "\n",
    "# First all the HP points\n",
    "hp=icon_modex_baseline[icon_modex_baseline['hp_or_lp_flag'] == 1.0]\n",
    "ax.errorbar(\n",
    "    hp['ntrain'],\n",
    "    hp['hold-out-avg'],\n",
    "    hp['hold-out-std'],\n",
    "    fmt='kd',\n",
    "    ecolor='g',\n",
    "    elinewidth=e_bar_w,\n",
    "    capsize=e_cap_w,\n",
    "    markersize=e_sym_s)\n",
    "\n",
    "# Second all the LP points\n",
    "hp=icon_modex_baseline[icon_modex_baseline['hp_or_lp_flag'] == 0.0]\n",
    "ax.errorbar(\n",
    "    hp['ntrain'],\n",
    "    hp['hold-out-avg'],\n",
    "    hp['hold-out-std'],\n",
    "    fmt='kv',\n",
    "    ecolor='y',\n",
    "    elinewidth=e_bar_w,\n",
    "    capsize=e_cap_w,\n",
    "    markersize=e_sym_s)\n",
    "\n",
    "# Comment out the HP/LP PCA points since they\n",
    "# tell a similar, but less robust, story.\n",
    "#ax.errorbar(\n",
    "#    # Artificial offset for visualization\n",
    "#    icon_modex_pca['ntrain']+10,\n",
    "#    icon_modex_pca['hold-out-avg'],\n",
    "#    icon_modex_pca['hold-out-std'],\n",
    "#    fmt='ys',\n",
    "#    ecolor='y',\n",
    "#    elinewidth=3,\n",
    "#    capsize=5)\n",
    "\n",
    "#ax.errorbar(\n",
    "#    icon_modex_baseline['ntrain'],\n",
    "#    icon_modex_baseline['r2_test_avg'],\n",
    "#    icon_modex_baseline['r2_test_std'],\n",
    "#    fmt='cs',\n",
    "#    ecolor='c',\n",
    "#    elinewidth=3,\n",
    "#    capsize=5)\n",
    "ax.grid()\n",
    "\n",
    "plt.ylabel('Average model $R^2$')\n",
    "plt.xlabel('Number of observations')\n",
    "plt.legend(['ModEx live','ModEx rerun','HP baseline','LP baseline'],loc='lower right')\n",
    "plt.savefig('ICON_ModEx_summary.pdf')"
   ]
  },
  {
   "cell_type": "markdown",
   "id": "49107770",
   "metadata": {},
   "source": [
    "**Figure Caption:** The \"live\" iterations are the ICON-ModEx ML models that generated the results shared with community members and were used for making decisions of which sites to sample. The hindcast iterations use both the respiration rate normalized with respect to sediment volume and a log10 transform on the targets because both approaches together minimized the bias of the ML models while also increasing the model scores. The big jump in the live iterations is due to the adoption of the normalization of the respiration rate data with respect to the sediment volume and applying the log10 transform in the \"production run\" of June of 2023 and all subsequent ML model iterations. The hindcast runs all take advantage of the normalization and the log10 transform to provide an apples-to-apples comparision of the progress of the ICON-ModEx iterations had these changes been applied since the very beginning of the study."
   ]
  },
  {
   "cell_type": "code",
   "execution_count": 11,
   "id": "1bc84af1",
   "metadata": {
    "tags": []
   },
   "outputs": [
    {
     "data": {
      "text/html": [
       "<div>\n",
       "<style scoped>\n",
       "    .dataframe tbody tr th:only-of-type {\n",
       "        vertical-align: middle;\n",
       "    }\n",
       "\n",
       "    .dataframe tbody tr th {\n",
       "        vertical-align: top;\n",
       "    }\n",
       "\n",
       "    .dataframe thead th {\n",
       "        text-align: right;\n",
       "    }\n",
       "</style>\n",
       "<table border=\"1\" class=\"dataframe\">\n",
       "  <thead>\n",
       "    <tr style=\"text-align: right;\">\n",
       "      <th></th>\n",
       "      <th>hold-out-avg</th>\n",
       "      <th>hold-out-std</th>\n",
       "      <th>ntrain</th>\n",
       "      <th>roc-auc</th>\n",
       "      <th>r2_test_avg</th>\n",
       "      <th>r2_test_std</th>\n",
       "      <th>r2_test_ens</th>\n",
       "      <th>hp_or_lp_flag</th>\n",
       "    </tr>\n",
       "  </thead>\n",
       "  <tbody>\n",
       "    <tr>\n",
       "      <th>0</th>\n",
       "      <td>0.847482</td>\n",
       "      <td>0.052767</td>\n",
       "      <td>100.0</td>\n",
       "      <td>0.972222</td>\n",
       "      <td>0.030470</td>\n",
       "      <td>0.027342</td>\n",
       "      <td>0.012471</td>\n",
       "      <td>1.0</td>\n",
       "    </tr>\n",
       "    <tr>\n",
       "      <th>1</th>\n",
       "      <td>0.689422</td>\n",
       "      <td>0.193572</td>\n",
       "      <td>200.0</td>\n",
       "      <td>0.951136</td>\n",
       "      <td>0.021688</td>\n",
       "      <td>0.018359</td>\n",
       "      <td>0.017422</td>\n",
       "      <td>1.0</td>\n",
       "    </tr>\n",
       "    <tr>\n",
       "      <th>2</th>\n",
       "      <td>0.760256</td>\n",
       "      <td>0.039841</td>\n",
       "      <td>300.0</td>\n",
       "      <td>0.958780</td>\n",
       "      <td>0.115174</td>\n",
       "      <td>0.086389</td>\n",
       "      <td>0.124451</td>\n",
       "      <td>1.0</td>\n",
       "    </tr>\n",
       "    <tr>\n",
       "      <th>3</th>\n",
       "      <td>0.030947</td>\n",
       "      <td>0.047955</td>\n",
       "      <td>100.0</td>\n",
       "      <td>0.500000</td>\n",
       "      <td>0.031554</td>\n",
       "      <td>0.044557</td>\n",
       "      <td>0.022801</td>\n",
       "      <td>0.0</td>\n",
       "    </tr>\n",
       "    <tr>\n",
       "      <th>4</th>\n",
       "      <td>0.039111</td>\n",
       "      <td>0.039833</td>\n",
       "      <td>200.0</td>\n",
       "      <td>0.500000</td>\n",
       "      <td>0.004256</td>\n",
       "      <td>0.007509</td>\n",
       "      <td>0.001215</td>\n",
       "      <td>0.0</td>\n",
       "    </tr>\n",
       "    <tr>\n",
       "      <th>5</th>\n",
       "      <td>0.157108</td>\n",
       "      <td>0.159508</td>\n",
       "      <td>300.0</td>\n",
       "      <td>0.748239</td>\n",
       "      <td>0.006140</td>\n",
       "      <td>0.004775</td>\n",
       "      <td>0.005858</td>\n",
       "      <td>0.0</td>\n",
       "    </tr>\n",
       "  </tbody>\n",
       "</table>\n",
       "</div>"
      ],
      "text/plain": [
       "   hold-out-avg  hold-out-std  ntrain   roc-auc  r2_test_avg  r2_test_std  \\\n",
       "0      0.847482      0.052767   100.0  0.972222     0.030470     0.027342   \n",
       "1      0.689422      0.193572   200.0  0.951136     0.021688     0.018359   \n",
       "2      0.760256      0.039841   300.0  0.958780     0.115174     0.086389   \n",
       "3      0.030947      0.047955   100.0  0.500000     0.031554     0.044557   \n",
       "4      0.039111      0.039833   200.0  0.500000     0.004256     0.007509   \n",
       "5      0.157108      0.159508   300.0  0.748239     0.006140     0.004775   \n",
       "\n",
       "   r2_test_ens  hp_or_lp_flag  \n",
       "0     0.012471            1.0  \n",
       "1     0.017422            1.0  \n",
       "2     0.124451            1.0  \n",
       "3     0.022801            0.0  \n",
       "4     0.001215            0.0  \n",
       "5     0.005858            0.0  "
      ]
     },
     "execution_count": 11,
     "metadata": {},
     "output_type": "execute_result"
    }
   ],
   "source": [
    "icon_modex_baseline"
   ]
  },
  {
   "cell_type": "markdown",
   "id": "100e4c3e",
   "metadata": {},
   "source": [
    "## Plot the ROC-AUC curve"
   ]
  },
  {
   "cell_type": "code",
   "execution_count": 12,
   "id": "99cd9d56",
   "metadata": {
    "tags": []
   },
   "outputs": [
    {
     "data": {
      "image/png": "[encoded data removed]",
      "text/plain": [
       "<Figure size 1500x1500 with 1 Axes>"
      ]
     },
     "metadata": {},
     "output_type": "display_data"
    }
   ],
   "source": [
    "fig, ax = plt.subplots(figsize=(15,15))\n",
    "\n",
    "# Did not save this data in old archived ML model results\n",
    "#ax.plot(\n",
    "#    icon_modex_scale['ntrain'],\n",
    "#    icon_modex_scale['roc-auc'],'r.')\n",
    "ax.plot(\n",
    "    icon_modex_log10['ntrain'],\n",
    "    icon_modex_log10['roc-auc'],'b.',markersize=10)\n",
    "ax.grid()\n",
    "\n",
    "plt.ylabel('ROC AUC score for each ICON-ModEx iteration')\n",
    "plt.xlabel('Total number of samples in input data set')\n",
    "plt.legend(['ModEx - log10 hindcast'])\n",
    "plt.savefig('ICON_ModEx_ROC_AUC.pdf')"
   ]
  },
  {
   "cell_type": "markdown",
   "id": "1c5383f2",
   "metadata": {},
   "source": [
    "# Load and plot simplified version"
   ]
  },
  {
   "cell_type": "code",
   "execution_count": 13,
   "id": "1c4c34fe",
   "metadata": {
    "tags": []
   },
   "outputs": [
    {
     "data": {
      "image/png": "[encoded data removed]",
      "text/plain": [
       "<Figure size 1500x1500 with 1 Axes>"
      ]
     },
     "metadata": {},
     "output_type": "display_data"
    }
   ],
   "source": [
    "fig, ax = plt.subplots(figsize=(15,15))\n",
    "ax.errorbar(\n",
    "    icon_modex_scale['ntrain'],\n",
    "    icon_modex_scale['hold-out-avg'],\n",
    "    icon_modex_scale['hold-out-std'],\n",
    "    fmt='ko',\n",
    "    ecolor='k',\n",
    "    elinewidth=e_bar_w,\n",
    "    capsize=e_cap_w,\n",
    "    markersize=e_sym_s)\n",
    "ax.grid()\n",
    "plt.ylabel('Average model $R^2$')\n",
    "plt.xlabel('Number of observations')\n",
    "plt.savefig('ICON_ModEx_summary_simplified.pdf')"
   ]
  },
  {
   "cell_type": "code",
   "execution_count": 14,
   "id": "752025e6-5650-4169-9c5d-98d7377b8f97",
   "metadata": {
    "tags": []
   },
   "outputs": [
    {
     "data": {
      "text/html": [
       "<div>\n",
       "<style scoped>\n",
       "    .dataframe tbody tr th:only-of-type {\n",
       "        vertical-align: middle;\n",
       "    }\n",
       "\n",
       "    .dataframe tbody tr th {\n",
       "        vertical-align: top;\n",
       "    }\n",
       "\n",
       "    .dataframe thead th {\n",
       "        text-align: right;\n",
       "    }\n",
       "</style>\n",
       "<table border=\"1\" class=\"dataframe\">\n",
       "  <thead>\n",
       "    <tr style=\"text-align: right;\">\n",
       "      <th></th>\n",
       "      <th>hold-out-avg</th>\n",
       "      <th>hold-out-std</th>\n",
       "      <th>ntrain</th>\n",
       "    </tr>\n",
       "  </thead>\n",
       "  <tbody>\n",
       "    <tr>\n",
       "      <th>0</th>\n",
       "      <td>0.019529</td>\n",
       "      <td>0.042098</td>\n",
       "      <td>180.0</td>\n",
       "    </tr>\n",
       "    <tr>\n",
       "      <th>1</th>\n",
       "      <td>0.049013</td>\n",
       "      <td>0.072297</td>\n",
       "      <td>218.0</td>\n",
       "    </tr>\n",
       "    <tr>\n",
       "      <th>2</th>\n",
       "      <td>0.087969</td>\n",
       "      <td>0.053980</td>\n",
       "      <td>236.0</td>\n",
       "    </tr>\n",
       "    <tr>\n",
       "      <th>3</th>\n",
       "      <td>0.220767</td>\n",
       "      <td>0.134241</td>\n",
       "      <td>391.0</td>\n",
       "    </tr>\n",
       "    <tr>\n",
       "      <th>4</th>\n",
       "      <td>0.210381</td>\n",
       "      <td>0.088214</td>\n",
       "      <td>403.0</td>\n",
       "    </tr>\n",
       "    <tr>\n",
       "      <th>5</th>\n",
       "      <td>0.201739</td>\n",
       "      <td>0.092274</td>\n",
       "      <td>420.0</td>\n",
       "    </tr>\n",
       "    <tr>\n",
       "      <th>6</th>\n",
       "      <td>0.252584</td>\n",
       "      <td>0.106457</td>\n",
       "      <td>438.0</td>\n",
       "    </tr>\n",
       "    <tr>\n",
       "      <th>7</th>\n",
       "      <td>0.160861</td>\n",
       "      <td>0.122112</td>\n",
       "      <td>450.0</td>\n",
       "    </tr>\n",
       "    <tr>\n",
       "      <th>8</th>\n",
       "      <td>0.256551</td>\n",
       "      <td>0.133336</td>\n",
       "      <td>465.0</td>\n",
       "    </tr>\n",
       "    <tr>\n",
       "      <th>9</th>\n",
       "      <td>0.250437</td>\n",
       "      <td>0.048131</td>\n",
       "      <td>480.0</td>\n",
       "    </tr>\n",
       "    <tr>\n",
       "      <th>10</th>\n",
       "      <td>0.253814</td>\n",
       "      <td>0.150269</td>\n",
       "      <td>501.0</td>\n",
       "    </tr>\n",
       "    <tr>\n",
       "      <th>11</th>\n",
       "      <td>0.252239</td>\n",
       "      <td>0.107028</td>\n",
       "      <td>501.0</td>\n",
       "    </tr>\n",
       "    <tr>\n",
       "      <th>12</th>\n",
       "      <td>0.240770</td>\n",
       "      <td>0.131777</td>\n",
       "      <td>516.0</td>\n",
       "    </tr>\n",
       "    <tr>\n",
       "      <th>13</th>\n",
       "      <td>0.745897</td>\n",
       "      <td>0.086295</td>\n",
       "      <td>588.0</td>\n",
       "    </tr>\n",
       "    <tr>\n",
       "      <th>14</th>\n",
       "      <td>0.700987</td>\n",
       "      <td>0.105483</td>\n",
       "      <td>615.0</td>\n",
       "    </tr>\n",
       "    <tr>\n",
       "      <th>15</th>\n",
       "      <td>0.758918</td>\n",
       "      <td>0.096191</td>\n",
       "      <td>630.0</td>\n",
       "    </tr>\n",
       "    <tr>\n",
       "      <th>16</th>\n",
       "      <td>0.744598</td>\n",
       "      <td>0.096658</td>\n",
       "      <td>651.0</td>\n",
       "    </tr>\n",
       "    <tr>\n",
       "      <th>17</th>\n",
       "      <td>0.705958</td>\n",
       "      <td>0.103115</td>\n",
       "      <td>678.0</td>\n",
       "    </tr>\n",
       "    <tr>\n",
       "      <th>18</th>\n",
       "      <td>0.800977</td>\n",
       "      <td>0.036260</td>\n",
       "      <td>690.0</td>\n",
       "    </tr>\n",
       "  </tbody>\n",
       "</table>\n",
       "</div>"
      ],
      "text/plain": [
       "    hold-out-avg  hold-out-std  ntrain\n",
       "0       0.019529      0.042098   180.0\n",
       "1       0.049013      0.072297   218.0\n",
       "2       0.087969      0.053980   236.0\n",
       "3       0.220767      0.134241   391.0\n",
       "4       0.210381      0.088214   403.0\n",
       "5       0.201739      0.092274   420.0\n",
       "6       0.252584      0.106457   438.0\n",
       "7       0.160861      0.122112   450.0\n",
       "8       0.256551      0.133336   465.0\n",
       "9       0.250437      0.048131   480.0\n",
       "10      0.253814      0.150269   501.0\n",
       "11      0.252239      0.107028   501.0\n",
       "12      0.240770      0.131777   516.0\n",
       "13      0.745897      0.086295   588.0\n",
       "14      0.700987      0.105483   615.0\n",
       "15      0.758918      0.096191   630.0\n",
       "16      0.744598      0.096658   651.0\n",
       "17      0.705958      0.103115   678.0\n",
       "18      0.800977      0.036260   690.0"
      ]
     },
     "execution_count": 14,
     "metadata": {},
     "output_type": "execute_result"
    }
   ],
   "source": [
    "# Print the R2 values in the simplified plot\n",
    "pd.set_option('display.max_rows', 500) \n",
    "icon_modex_scale"
   ]
  },
  {
   "cell_type": "markdown",
   "id": "0c10d502",
   "metadata": {},
   "source": [
    "## Notes on usage of `scikit-learn`'s `roc_auc_score`:\n",
    "1. The observations (`y`) must be 0 or 1 (i.e. perfect binary classifiers).\n",
    "2. The predictions can be on a scale from 0 to 1 (i.e. confidence in each classification)\n",
    "3. In our case, we want to know how well hot spots and cold spots are classified. Ideally, we would not force a threshold (i.e. 500 mg O2/L/hour) - but if we have to force a classification based on the observations, we would then need to figure out some kind of normalization of the predictions to go between 0 and 1. The choice of normalization is also arbitary, so there's no way to avoid some kind of arbitrary thresholding in this analysis."
   ]
  },
  {
   "cell_type": "markdown",
   "id": "626f4200",
   "metadata": {},
   "source": [
    "## Clean up"
   ]
  },
  {
   "cell_type": "code",
   "execution_count": 15,
   "id": "f6e62359",
   "metadata": {
    "tags": []
   },
   "outputs": [],
   "source": [
    "# Delete decompressed CONUS outline\n",
    "! rm -rf us.xy"
   ]
  },
  {
   "cell_type": "code",
   "execution_count": null,
   "id": "46eec740",
   "metadata": {},
   "outputs": [],
   "source": []
  }
 ],
 "metadata": {
  "kernelspec": {
   "display_name": "Python 3 (ipykernel)",
   "language": "python",
   "name": "python3"
  },
  "language_info": {
   "codemirror_mode": {
    "name": "ipython",
    "version": 3
   },
   "file_extension": ".py",
   "mimetype": "text/x-python",
   "name": "python",
   "nbconvert_exporter": "python",
   "pygments_lexer": "ipython3",
   "version": "3.11.5"
  }
 },
 "nbformat": 4,
 "nbformat_minor": 5
}
